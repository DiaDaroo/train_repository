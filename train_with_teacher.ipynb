{
 "cells": [
  {
   "cell_type": "markdown",
   "metadata": {
    "id": "H6cQIZr3ElW1"
   },
   "source": [
    "# Разработка решения по персонализации предложений постоянным клиентам"
   ]
  },
  {
   "cell_type": "markdown",
   "metadata": {},
   "source": [
    "Заказчик этого исследования — интернет-магазин «В один клик». \n",
    "Руководство компании желает разработать решение, которое позволит персонализировать предложения постоянным клиентам, чтобы увеличить их покупательскую активность. Нужно промаркировать уровень финансовой активности постоянных покупателей. В компании принято выделять два уровня активности: «снизилась», если клиент стал покупать меньше товаров, и «прежний уровень»."
   ]
  },
  {
   "cell_type": "markdown",
   "metadata": {},
   "source": [
    "**Цель исследования:**\n",
    "\n",
    "1. Нужно построить модель, которая предскажет вероятность снижения покупательской активности клиента в следующие три месяца.\n",
    "2. В исследование нужно включить дополнительные данные финансового департамента о прибыльности клиента: какой доход каждый покупатель приносил компании за последние три месяца.\n",
    "3. Используя данные модели и данные о прибыльности клиентов, нужно выделить сегменты покупателей и разработать для них персонализированные предложения."
   ]
  },
  {
   "cell_type": "markdown",
   "metadata": {},
   "source": [
    "**Ход исследования:**\n",
    "\n",
    "1. Загрузка данных из датасета. Изучение на наличие пропусков, дубликатов и прочих аномалий.\n",
    "2. На этапе предобработки я избавлюсь от части данных, негативно повлияющей на результаты исследования.\n",
    "3. Проведу исследование по распределению количественных и категориальных признаков.\n",
    "4. Объединю датасеты и проведу корреляционный анализ признаков.\n",
    "5. Обучу модели МО с различными гиперпараметрами. Выберу наилучшую модель по выбранной метрике.\n",
    "6. Проведу оценку важности входных признаков.\n",
    "7. Выполню сегментацию покупателей."
   ]
  },
  {
   "cell_type": "markdown",
   "metadata": {},
   "source": [
    "## Загрузка данных"
   ]
  },
  {
   "cell_type": "markdown",
   "metadata": {},
   "source": [
    "**Импортируем необходимые библиотеки.**"
   ]
  },
  {
   "cell_type": "code",
   "execution_count": 1,
   "metadata": {},
   "outputs": [],
   "source": [
    "!pip install -U scikit-learn -q\n",
    "!pip install matplotlib -q\n",
    "\n",
    "import pandas as pd\n",
    "import seaborn as sns\n",
    "from matplotlib import pyplot as plt\n",
    "import numpy as np\n",
    "\n",
    "from sklearn.model_selection import train_test_split\n",
    "from sklearn.pipeline import Pipeline\n",
    "from sklearn.preprocessing import OneHotEncoder, OrdinalEncoder,  StandardScaler, MinMaxScaler, LabelEncoder\n",
    "from sklearn.compose import ColumnTransformer\n",
    "from sklearn.impute import SimpleImputer\n",
    "from sklearn.metrics import roc_auc_score\n",
    "from sklearn.model_selection import GridSearchCV\n",
    "from sklearn.linear_model import LogisticRegression\n",
    "from sklearn.neighbors import KNeighborsClassifier\n",
    "from sklearn.tree import DecisionTreeClassifier\n",
    "from sklearn.svm import SVC\n",
    "\n",
    "!pip install shap -q\n",
    "import shap\n"
   ]
  },
  {
   "cell_type": "markdown",
   "metadata": {},
   "source": [
    "**Откроем csv-файлы с данными и сохраним их в датафреймы.**"
   ]
  },
  {
   "cell_type": "code",
   "execution_count": 2,
   "metadata": {},
   "outputs": [],
   "source": [
    "df_market = pd.read_csv('/datasets/market_file.csv')\n",
    "df_market_money = pd.read_csv('/datasets/market_money.csv')\n",
    "df_market_time = pd.read_csv('/datasets/market_time.csv')\n",
    "df_money = pd.read_csv('/datasets/money.csv', sep=';', decimal = ',')"
   ]
  },
  {
   "cell_type": "markdown",
   "metadata": {},
   "source": [
    "**Проведем знакомство с данными. Ознакомимся с содержанием `market_file.csv`:**"
   ]
  },
  {
   "cell_type": "code",
   "execution_count": 3,
   "metadata": {},
   "outputs": [
    {
     "data": {
      "text/html": [
       "<div>\n",
       "<style scoped>\n",
       "    .dataframe tbody tr th:only-of-type {\n",
       "        vertical-align: middle;\n",
       "    }\n",
       "\n",
       "    .dataframe tbody tr th {\n",
       "        vertical-align: top;\n",
       "    }\n",
       "\n",
       "    .dataframe thead th {\n",
       "        text-align: right;\n",
       "    }\n",
       "</style>\n",
       "<table border=\"1\" class=\"dataframe\">\n",
       "  <thead>\n",
       "    <tr style=\"text-align: right;\">\n",
       "      <th></th>\n",
       "      <th>id</th>\n",
       "      <th>Покупательская активность</th>\n",
       "      <th>Тип сервиса</th>\n",
       "      <th>Разрешить сообщать</th>\n",
       "      <th>Маркет_актив_6_мес</th>\n",
       "      <th>Маркет_актив_тек_мес</th>\n",
       "      <th>Длительность</th>\n",
       "      <th>Акционные_покупки</th>\n",
       "      <th>Популярная_категория</th>\n",
       "      <th>Средний_просмотр_категорий_за_визит</th>\n",
       "      <th>Неоплаченные_продукты_штук_квартал</th>\n",
       "      <th>Ошибка_сервиса</th>\n",
       "      <th>Страниц_за_визит</th>\n",
       "    </tr>\n",
       "  </thead>\n",
       "  <tbody>\n",
       "    <tr>\n",
       "      <th>0</th>\n",
       "      <td>215348</td>\n",
       "      <td>Снизилась</td>\n",
       "      <td>премиум</td>\n",
       "      <td>да</td>\n",
       "      <td>3.4</td>\n",
       "      <td>5</td>\n",
       "      <td>121</td>\n",
       "      <td>0.00</td>\n",
       "      <td>Товары для детей</td>\n",
       "      <td>6</td>\n",
       "      <td>2</td>\n",
       "      <td>1</td>\n",
       "      <td>5</td>\n",
       "    </tr>\n",
       "    <tr>\n",
       "      <th>1</th>\n",
       "      <td>215349</td>\n",
       "      <td>Снизилась</td>\n",
       "      <td>премиум</td>\n",
       "      <td>да</td>\n",
       "      <td>4.4</td>\n",
       "      <td>4</td>\n",
       "      <td>819</td>\n",
       "      <td>0.75</td>\n",
       "      <td>Товары для детей</td>\n",
       "      <td>4</td>\n",
       "      <td>4</td>\n",
       "      <td>2</td>\n",
       "      <td>5</td>\n",
       "    </tr>\n",
       "    <tr>\n",
       "      <th>2</th>\n",
       "      <td>215350</td>\n",
       "      <td>Снизилась</td>\n",
       "      <td>стандартт</td>\n",
       "      <td>нет</td>\n",
       "      <td>4.9</td>\n",
       "      <td>3</td>\n",
       "      <td>539</td>\n",
       "      <td>0.14</td>\n",
       "      <td>Домашний текстиль</td>\n",
       "      <td>5</td>\n",
       "      <td>2</td>\n",
       "      <td>1</td>\n",
       "      <td>5</td>\n",
       "    </tr>\n",
       "    <tr>\n",
       "      <th>3</th>\n",
       "      <td>215351</td>\n",
       "      <td>Снизилась</td>\n",
       "      <td>стандартт</td>\n",
       "      <td>да</td>\n",
       "      <td>3.2</td>\n",
       "      <td>5</td>\n",
       "      <td>896</td>\n",
       "      <td>0.99</td>\n",
       "      <td>Товары для детей</td>\n",
       "      <td>5</td>\n",
       "      <td>0</td>\n",
       "      <td>6</td>\n",
       "      <td>4</td>\n",
       "    </tr>\n",
       "    <tr>\n",
       "      <th>4</th>\n",
       "      <td>215352</td>\n",
       "      <td>Снизилась</td>\n",
       "      <td>стандартт</td>\n",
       "      <td>нет</td>\n",
       "      <td>5.1</td>\n",
       "      <td>3</td>\n",
       "      <td>1064</td>\n",
       "      <td>0.94</td>\n",
       "      <td>Товары для детей</td>\n",
       "      <td>3</td>\n",
       "      <td>2</td>\n",
       "      <td>3</td>\n",
       "      <td>2</td>\n",
       "    </tr>\n",
       "  </tbody>\n",
       "</table>\n",
       "</div>"
      ],
      "text/plain": [
       "       id Покупательская активность Тип сервиса Разрешить сообщать  \\\n",
       "0  215348                 Снизилась     премиум                 да   \n",
       "1  215349                 Снизилась     премиум                 да   \n",
       "2  215350                 Снизилась   стандартт                нет   \n",
       "3  215351                 Снизилась   стандартт                 да   \n",
       "4  215352                 Снизилась   стандартт                нет   \n",
       "\n",
       "   Маркет_актив_6_мес  Маркет_актив_тек_мес  Длительность  Акционные_покупки  \\\n",
       "0                 3.4                     5           121               0.00   \n",
       "1                 4.4                     4           819               0.75   \n",
       "2                 4.9                     3           539               0.14   \n",
       "3                 3.2                     5           896               0.99   \n",
       "4                 5.1                     3          1064               0.94   \n",
       "\n",
       "  Популярная_категория  Средний_просмотр_категорий_за_визит  \\\n",
       "0     Товары для детей                                    6   \n",
       "1     Товары для детей                                    4   \n",
       "2    Домашний текстиль                                    5   \n",
       "3     Товары для детей                                    5   \n",
       "4     Товары для детей                                    3   \n",
       "\n",
       "   Неоплаченные_продукты_штук_квартал  Ошибка_сервиса  Страниц_за_визит  \n",
       "0                                   2               1                 5  \n",
       "1                                   4               2                 5  \n",
       "2                                   2               1                 5  \n",
       "3                                   0               6                 4  \n",
       "4                                   2               3                 2  "
      ]
     },
     "execution_count": 3,
     "metadata": {},
     "output_type": "execute_result"
    }
   ],
   "source": [
    "pd.set_option('display.max_columns', None)\n",
    "df_market.head()"
   ]
  },
  {
   "cell_type": "markdown",
   "metadata": {},
   "source": [
    "**Файл содержит данные о поведении покупателя на сайте, о коммуникациях с покупателем и его продуктовом поведении:**\n",
    "\n",
    "* <b>id</b> — номер покупателя в корпоративной базе данных.\n",
    "* <b>Покупательская активность</b> — рассчитанный класс покупательской активности (целевой признак): «снизилась» или «прежний уровень».\n",
    "* <b>Тип сервиса</b> — уровень сервиса, например «премиум» и «стандарт».\n",
    "* <b>Разрешить сообщать</b> — информация о том, можно ли присылать покупателю дополнительные предложения о товаре. Согласие на это даёт покупатель.\n",
    "* <b>Маркет_актив_6_мес</b> — среднемесячное значение маркетинговых коммуникаций компании, которое приходилось на покупателя за последние 6 месяцев. Это значение показывает, какое число рассылок, звонков, показов рекламы и прочего приходилось на клиента.\n",
    "* <b>Маркет_актив_тек_мес</b> — количество маркетинговых коммуникаций в текущем месяце.\n",
    "* <b>Длительность</b> — значение, которое показывает, сколько дней прошло с момента регистрации покупателя на сайте.\n",
    "* <b>Акционные_покупки</b> — среднемесячная доля покупок по акции от общего числа покупок за последние 6 месяцев.\n",
    "* <b>Популярная_категория</b> — самая популярная категория товаров у покупателя за последние 6 месяцев.\n",
    "* <b>Средний_просмотр_категорий_за_визит</b> — показывает, сколько в среднем категорий покупатель просмотрел за визит в течение последнего месяца.\n",
    "* <b>Неоплаченные_продукты_штук_квартал</b> — общее число неоплаченных товаров в корзине за последние 3 месяца.\n",
    "* <b>Ошибка_сервиса</b> — число сбоев, которые коснулись покупателя во время посещения сайта.\n",
    "* <b>Страниц_за_визит</b> — среднее количество страниц, которые просмотрел покупатель за один визит на сайт за последние 3 месяца."
   ]
  },
  {
   "cell_type": "markdown",
   "metadata": {},
   "source": [
    "**Целевой показатель - `Покупательская активность`. Его и будет предсказывать модель.**"
   ]
  },
  {
   "cell_type": "markdown",
   "metadata": {},
   "source": [
    "**Выведем сводку по датасету:**"
   ]
  },
  {
   "cell_type": "code",
   "execution_count": 4,
   "metadata": {},
   "outputs": [
    {
     "name": "stdout",
     "output_type": "stream",
     "text": [
      "<class 'pandas.core.frame.DataFrame'>\n",
      "RangeIndex: 1300 entries, 0 to 1299\n",
      "Data columns (total 13 columns):\n",
      " #   Column                               Non-Null Count  Dtype  \n",
      "---  ------                               --------------  -----  \n",
      " 0   id                                   1300 non-null   int64  \n",
      " 1   Покупательская активность            1300 non-null   object \n",
      " 2   Тип сервиса                          1300 non-null   object \n",
      " 3   Разрешить сообщать                   1300 non-null   object \n",
      " 4   Маркет_актив_6_мес                   1300 non-null   float64\n",
      " 5   Маркет_актив_тек_мес                 1300 non-null   int64  \n",
      " 6   Длительность                         1300 non-null   int64  \n",
      " 7   Акционные_покупки                    1300 non-null   float64\n",
      " 8   Популярная_категория                 1300 non-null   object \n",
      " 9   Средний_просмотр_категорий_за_визит  1300 non-null   int64  \n",
      " 10  Неоплаченные_продукты_штук_квартал   1300 non-null   int64  \n",
      " 11  Ошибка_сервиса                       1300 non-null   int64  \n",
      " 12  Страниц_за_визит                     1300 non-null   int64  \n",
      "dtypes: float64(2), int64(7), object(4)\n",
      "memory usage: 132.2+ KB\n"
     ]
    }
   ],
   "source": [
    "df_market.info()"
   ]
  },
  {
   "cell_type": "markdown",
   "metadata": {},
   "source": [
    "**Типы данных в порядке, пропусков не обнаружено. Перейдем к слудующему датасету:**"
   ]
  },
  {
   "cell_type": "code",
   "execution_count": 5,
   "metadata": {},
   "outputs": [
    {
     "data": {
      "text/html": [
       "<div>\n",
       "<style scoped>\n",
       "    .dataframe tbody tr th:only-of-type {\n",
       "        vertical-align: middle;\n",
       "    }\n",
       "\n",
       "    .dataframe tbody tr th {\n",
       "        vertical-align: top;\n",
       "    }\n",
       "\n",
       "    .dataframe thead th {\n",
       "        text-align: right;\n",
       "    }\n",
       "</style>\n",
       "<table border=\"1\" class=\"dataframe\">\n",
       "  <thead>\n",
       "    <tr style=\"text-align: right;\">\n",
       "      <th></th>\n",
       "      <th>id</th>\n",
       "      <th>Период</th>\n",
       "      <th>Выручка</th>\n",
       "    </tr>\n",
       "  </thead>\n",
       "  <tbody>\n",
       "    <tr>\n",
       "      <th>2970</th>\n",
       "      <td>216338</td>\n",
       "      <td>предыдущий_месяц</td>\n",
       "      <td>4889.0</td>\n",
       "    </tr>\n",
       "    <tr>\n",
       "      <th>1744</th>\n",
       "      <td>215929</td>\n",
       "      <td>препредыдущий_месяц</td>\n",
       "      <td>4983.0</td>\n",
       "    </tr>\n",
       "    <tr>\n",
       "      <th>1653</th>\n",
       "      <td>215899</td>\n",
       "      <td>препредыдущий_месяц</td>\n",
       "      <td>5230.0</td>\n",
       "    </tr>\n",
       "    <tr>\n",
       "      <th>3850</th>\n",
       "      <td>216631</td>\n",
       "      <td>предыдущий_месяц</td>\n",
       "      <td>4582.0</td>\n",
       "    </tr>\n",
       "    <tr>\n",
       "      <th>1336</th>\n",
       "      <td>215793</td>\n",
       "      <td>предыдущий_месяц</td>\n",
       "      <td>5067.0</td>\n",
       "    </tr>\n",
       "    <tr>\n",
       "      <th>2243</th>\n",
       "      <td>216095</td>\n",
       "      <td>препредыдущий_месяц</td>\n",
       "      <td>4935.0</td>\n",
       "    </tr>\n",
       "    <tr>\n",
       "      <th>921</th>\n",
       "      <td>215655</td>\n",
       "      <td>препредыдущий_месяц</td>\n",
       "      <td>4847.0</td>\n",
       "    </tr>\n",
       "    <tr>\n",
       "      <th>975</th>\n",
       "      <td>215673</td>\n",
       "      <td>предыдущий_месяц</td>\n",
       "      <td>4604.5</td>\n",
       "    </tr>\n",
       "    <tr>\n",
       "      <th>1141</th>\n",
       "      <td>215728</td>\n",
       "      <td>текущий_месяц</td>\n",
       "      <td>4863.9</td>\n",
       "    </tr>\n",
       "    <tr>\n",
       "      <th>2972</th>\n",
       "      <td>216338</td>\n",
       "      <td>текущий_месяц</td>\n",
       "      <td>5240.0</td>\n",
       "    </tr>\n",
       "    <tr>\n",
       "      <th>2204</th>\n",
       "      <td>216082</td>\n",
       "      <td>текущий_месяц</td>\n",
       "      <td>3555.8</td>\n",
       "    </tr>\n",
       "    <tr>\n",
       "      <th>2275</th>\n",
       "      <td>216106</td>\n",
       "      <td>текущий_месяц</td>\n",
       "      <td>4739.9</td>\n",
       "    </tr>\n",
       "    <tr>\n",
       "      <th>772</th>\n",
       "      <td>215605</td>\n",
       "      <td>текущий_месяц</td>\n",
       "      <td>4898.2</td>\n",
       "    </tr>\n",
       "    <tr>\n",
       "      <th>2938</th>\n",
       "      <td>216327</td>\n",
       "      <td>препредыдущий_месяц</td>\n",
       "      <td>5171.0</td>\n",
       "    </tr>\n",
       "    <tr>\n",
       "      <th>661</th>\n",
       "      <td>215568</td>\n",
       "      <td>препредыдущий_месяц</td>\n",
       "      <td>4740.0</td>\n",
       "    </tr>\n",
       "    <tr>\n",
       "      <th>1626</th>\n",
       "      <td>215890</td>\n",
       "      <td>текущий_месяц</td>\n",
       "      <td>4977.8</td>\n",
       "    </tr>\n",
       "    <tr>\n",
       "      <th>2646</th>\n",
       "      <td>216230</td>\n",
       "      <td>предыдущий_месяц</td>\n",
       "      <td>5246.0</td>\n",
       "    </tr>\n",
       "    <tr>\n",
       "      <th>1958</th>\n",
       "      <td>216000</td>\n",
       "      <td>препредыдущий_месяц</td>\n",
       "      <td>5241.0</td>\n",
       "    </tr>\n",
       "    <tr>\n",
       "      <th>3392</th>\n",
       "      <td>216478</td>\n",
       "      <td>препредыдущий_месяц</td>\n",
       "      <td>5612.0</td>\n",
       "    </tr>\n",
       "    <tr>\n",
       "      <th>2473</th>\n",
       "      <td>216172</td>\n",
       "      <td>текущий_месяц</td>\n",
       "      <td>5031.0</td>\n",
       "    </tr>\n",
       "  </tbody>\n",
       "</table>\n",
       "</div>"
      ],
      "text/plain": [
       "          id               Период  Выручка\n",
       "2970  216338     предыдущий_месяц   4889.0\n",
       "1744  215929  препредыдущий_месяц   4983.0\n",
       "1653  215899  препредыдущий_месяц   5230.0\n",
       "3850  216631     предыдущий_месяц   4582.0\n",
       "1336  215793     предыдущий_месяц   5067.0\n",
       "2243  216095  препредыдущий_месяц   4935.0\n",
       "921   215655  препредыдущий_месяц   4847.0\n",
       "975   215673     предыдущий_месяц   4604.5\n",
       "1141  215728        текущий_месяц   4863.9\n",
       "2972  216338        текущий_месяц   5240.0\n",
       "2204  216082        текущий_месяц   3555.8\n",
       "2275  216106        текущий_месяц   4739.9\n",
       "772   215605        текущий_месяц   4898.2\n",
       "2938  216327  препредыдущий_месяц   5171.0\n",
       "661   215568  препредыдущий_месяц   4740.0\n",
       "1626  215890        текущий_месяц   4977.8\n",
       "2646  216230     предыдущий_месяц   5246.0\n",
       "1958  216000  препредыдущий_месяц   5241.0\n",
       "3392  216478  препредыдущий_месяц   5612.0\n",
       "2473  216172        текущий_месяц   5031.0"
      ]
     },
     "execution_count": 5,
     "metadata": {},
     "output_type": "execute_result"
    }
   ],
   "source": [
    "pd.set_option('display.max_columns', None)\n",
    "df_market_money.sample(20, random_state=1)"
   ]
  },
  {
   "cell_type": "markdown",
   "metadata": {},
   "source": [
    "**Таблица с данными о выручке, которую получает магазин с покупателя, то есть сколько покупатель всего потратил за период взаимодействия с сайтом:**\n",
    "\n",
    "* <b>id</b> — номер покупателя в корпоративной базе данных.\n",
    "* <b>Период</b> — название периода, во время которого зафиксирована выручка. Например, 'текущий_месяц' или 'предыдущий_месяц'.\n",
    "* <b>Выручка</b> — сумма выручки за период."
   ]
  },
  {
   "cell_type": "markdown",
   "metadata": {},
   "source": [
    "**Проверим типы данных:**"
   ]
  },
  {
   "cell_type": "code",
   "execution_count": 6,
   "metadata": {},
   "outputs": [
    {
     "name": "stdout",
     "output_type": "stream",
     "text": [
      "<class 'pandas.core.frame.DataFrame'>\n",
      "RangeIndex: 3900 entries, 0 to 3899\n",
      "Data columns (total 3 columns):\n",
      " #   Column   Non-Null Count  Dtype  \n",
      "---  ------   --------------  -----  \n",
      " 0   id       3900 non-null   int64  \n",
      " 1   Период   3900 non-null   object \n",
      " 2   Выручка  3900 non-null   float64\n",
      "dtypes: float64(1), int64(1), object(1)\n",
      "memory usage: 91.5+ KB\n"
     ]
    }
   ],
   "source": [
    "df_market_money.info()"
   ]
  },
  {
   "cell_type": "markdown",
   "metadata": {},
   "source": [
    "**С данными порядок, пропусков нет. Переходим к следующей таблице:**"
   ]
  },
  {
   "cell_type": "code",
   "execution_count": 7,
   "metadata": {},
   "outputs": [
    {
     "data": {
      "text/html": [
       "<div>\n",
       "<style scoped>\n",
       "    .dataframe tbody tr th:only-of-type {\n",
       "        vertical-align: middle;\n",
       "    }\n",
       "\n",
       "    .dataframe tbody tr th {\n",
       "        vertical-align: top;\n",
       "    }\n",
       "\n",
       "    .dataframe thead th {\n",
       "        text-align: right;\n",
       "    }\n",
       "</style>\n",
       "<table border=\"1\" class=\"dataframe\">\n",
       "  <thead>\n",
       "    <tr style=\"text-align: right;\">\n",
       "      <th></th>\n",
       "      <th>id</th>\n",
       "      <th>Период</th>\n",
       "      <th>минут</th>\n",
       "    </tr>\n",
       "  </thead>\n",
       "  <tbody>\n",
       "    <tr>\n",
       "      <th>304</th>\n",
       "      <td>215500</td>\n",
       "      <td>текущий_месяц</td>\n",
       "      <td>12</td>\n",
       "    </tr>\n",
       "    <tr>\n",
       "      <th>2235</th>\n",
       "      <td>216465</td>\n",
       "      <td>текущий_месяц</td>\n",
       "      <td>15</td>\n",
       "    </tr>\n",
       "    <tr>\n",
       "      <th>1401</th>\n",
       "      <td>216048</td>\n",
       "      <td>предыдцщий_месяц</td>\n",
       "      <td>15</td>\n",
       "    </tr>\n",
       "    <tr>\n",
       "      <th>660</th>\n",
       "      <td>215678</td>\n",
       "      <td>текущий_месяц</td>\n",
       "      <td>16</td>\n",
       "    </tr>\n",
       "    <tr>\n",
       "      <th>2217</th>\n",
       "      <td>216456</td>\n",
       "      <td>предыдцщий_месяц</td>\n",
       "      <td>20</td>\n",
       "    </tr>\n",
       "    <tr>\n",
       "      <th>836</th>\n",
       "      <td>215766</td>\n",
       "      <td>текущий_месяц</td>\n",
       "      <td>20</td>\n",
       "    </tr>\n",
       "    <tr>\n",
       "      <th>282</th>\n",
       "      <td>215489</td>\n",
       "      <td>текущий_месяц</td>\n",
       "      <td>8</td>\n",
       "    </tr>\n",
       "    <tr>\n",
       "      <th>2118</th>\n",
       "      <td>216407</td>\n",
       "      <td>предыдцщий_месяц</td>\n",
       "      <td>13</td>\n",
       "    </tr>\n",
       "    <tr>\n",
       "      <th>2066</th>\n",
       "      <td>216381</td>\n",
       "      <td>предыдцщий_месяц</td>\n",
       "      <td>13</td>\n",
       "    </tr>\n",
       "    <tr>\n",
       "      <th>1177</th>\n",
       "      <td>215936</td>\n",
       "      <td>предыдцщий_месяц</td>\n",
       "      <td>17</td>\n",
       "    </tr>\n",
       "    <tr>\n",
       "      <th>2270</th>\n",
       "      <td>216483</td>\n",
       "      <td>текущий_месяц</td>\n",
       "      <td>17</td>\n",
       "    </tr>\n",
       "    <tr>\n",
       "      <th>1988</th>\n",
       "      <td>216342</td>\n",
       "      <td>текущий_месяц</td>\n",
       "      <td>16</td>\n",
       "    </tr>\n",
       "    <tr>\n",
       "      <th>439</th>\n",
       "      <td>215567</td>\n",
       "      <td>текущий_месяц</td>\n",
       "      <td>8</td>\n",
       "    </tr>\n",
       "    <tr>\n",
       "      <th>366</th>\n",
       "      <td>215531</td>\n",
       "      <td>предыдцщий_месяц</td>\n",
       "      <td>13</td>\n",
       "    </tr>\n",
       "    <tr>\n",
       "      <th>2529</th>\n",
       "      <td>216612</td>\n",
       "      <td>предыдцщий_месяц</td>\n",
       "      <td>12</td>\n",
       "    </tr>\n",
       "    <tr>\n",
       "      <th>902</th>\n",
       "      <td>215799</td>\n",
       "      <td>текущий_месяц</td>\n",
       "      <td>16</td>\n",
       "    </tr>\n",
       "    <tr>\n",
       "      <th>846</th>\n",
       "      <td>215771</td>\n",
       "      <td>предыдцщий_месяц</td>\n",
       "      <td>13</td>\n",
       "    </tr>\n",
       "    <tr>\n",
       "      <th>778</th>\n",
       "      <td>215737</td>\n",
       "      <td>предыдцщий_месяц</td>\n",
       "      <td>9</td>\n",
       "    </tr>\n",
       "    <tr>\n",
       "      <th>2483</th>\n",
       "      <td>216589</td>\n",
       "      <td>текущий_месяц</td>\n",
       "      <td>17</td>\n",
       "    </tr>\n",
       "    <tr>\n",
       "      <th>1903</th>\n",
       "      <td>216299</td>\n",
       "      <td>предыдцщий_месяц</td>\n",
       "      <td>9</td>\n",
       "    </tr>\n",
       "  </tbody>\n",
       "</table>\n",
       "</div>"
      ],
      "text/plain": [
       "          id            Период  минут\n",
       "304   215500     текущий_месяц     12\n",
       "2235  216465     текущий_месяц     15\n",
       "1401  216048  предыдцщий_месяц     15\n",
       "660   215678     текущий_месяц     16\n",
       "2217  216456  предыдцщий_месяц     20\n",
       "836   215766     текущий_месяц     20\n",
       "282   215489     текущий_месяц      8\n",
       "2118  216407  предыдцщий_месяц     13\n",
       "2066  216381  предыдцщий_месяц     13\n",
       "1177  215936  предыдцщий_месяц     17\n",
       "2270  216483     текущий_месяц     17\n",
       "1988  216342     текущий_месяц     16\n",
       "439   215567     текущий_месяц      8\n",
       "366   215531  предыдцщий_месяц     13\n",
       "2529  216612  предыдцщий_месяц     12\n",
       "902   215799     текущий_месяц     16\n",
       "846   215771  предыдцщий_месяц     13\n",
       "778   215737  предыдцщий_месяц      9\n",
       "2483  216589     текущий_месяц     17\n",
       "1903  216299  предыдцщий_месяц      9"
      ]
     },
     "execution_count": 7,
     "metadata": {},
     "output_type": "execute_result"
    }
   ],
   "source": [
    "pd.set_option('display.max_columns', None)\n",
    "df_market_time.sample(20, random_state=1)"
   ]
  },
  {
   "cell_type": "markdown",
   "metadata": {},
   "source": [
    "**Таблица с данными о времени (в минутах), которое покупатель провёл на сайте в течение периода.**\n",
    "\n",
    "* <b>id</b> — номер покупателя в корпоративной базе данных.\n",
    "* <b>Период</b> — название периода, во время которого зафиксировано общее время.\n",
    "* <b>минут</b> — значение времени, проведённого на сайте, в минутах."
   ]
  },
  {
   "cell_type": "markdown",
   "metadata": {},
   "source": [
    "**Ознакомимся с содержимым:**"
   ]
  },
  {
   "cell_type": "code",
   "execution_count": 8,
   "metadata": {},
   "outputs": [
    {
     "name": "stdout",
     "output_type": "stream",
     "text": [
      "<class 'pandas.core.frame.DataFrame'>\n",
      "RangeIndex: 2600 entries, 0 to 2599\n",
      "Data columns (total 3 columns):\n",
      " #   Column  Non-Null Count  Dtype \n",
      "---  ------  --------------  ----- \n",
      " 0   id      2600 non-null   int64 \n",
      " 1   Период  2600 non-null   object\n",
      " 2   минут   2600 non-null   int64 \n",
      "dtypes: int64(2), object(1)\n",
      "memory usage: 61.1+ KB\n"
     ]
    }
   ],
   "source": [
    "df_market_time.info()"
   ]
  },
  {
   "cell_type": "markdown",
   "metadata": {},
   "source": [
    "**Пропусков также не найдено, типы в порядке. Выведем последнюю таблицу:**"
   ]
  },
  {
   "cell_type": "code",
   "execution_count": 9,
   "metadata": {},
   "outputs": [
    {
     "data": {
      "text/html": [
       "<div>\n",
       "<style scoped>\n",
       "    .dataframe tbody tr th:only-of-type {\n",
       "        vertical-align: middle;\n",
       "    }\n",
       "\n",
       "    .dataframe tbody tr th {\n",
       "        vertical-align: top;\n",
       "    }\n",
       "\n",
       "    .dataframe thead th {\n",
       "        text-align: right;\n",
       "    }\n",
       "</style>\n",
       "<table border=\"1\" class=\"dataframe\">\n",
       "  <thead>\n",
       "    <tr style=\"text-align: right;\">\n",
       "      <th></th>\n",
       "      <th>id</th>\n",
       "      <th>Прибыль</th>\n",
       "    </tr>\n",
       "  </thead>\n",
       "  <tbody>\n",
       "    <tr>\n",
       "      <th>1109</th>\n",
       "      <td>216457</td>\n",
       "      <td>1.54</td>\n",
       "    </tr>\n",
       "    <tr>\n",
       "      <th>370</th>\n",
       "      <td>215718</td>\n",
       "      <td>4.84</td>\n",
       "    </tr>\n",
       "    <tr>\n",
       "      <th>572</th>\n",
       "      <td>215920</td>\n",
       "      <td>4.66</td>\n",
       "    </tr>\n",
       "    <tr>\n",
       "      <th>239</th>\n",
       "      <td>215587</td>\n",
       "      <td>3.68</td>\n",
       "    </tr>\n",
       "    <tr>\n",
       "      <th>133</th>\n",
       "      <td>215481</td>\n",
       "      <td>4.42</td>\n",
       "    </tr>\n",
       "    <tr>\n",
       "      <th>1078</th>\n",
       "      <td>216426</td>\n",
       "      <td>3.74</td>\n",
       "    </tr>\n",
       "    <tr>\n",
       "      <th>65</th>\n",
       "      <td>215413</td>\n",
       "      <td>5.40</td>\n",
       "    </tr>\n",
       "    <tr>\n",
       "      <th>115</th>\n",
       "      <td>215463</td>\n",
       "      <td>3.08</td>\n",
       "    </tr>\n",
       "    <tr>\n",
       "      <th>899</th>\n",
       "      <td>216247</td>\n",
       "      <td>2.77</td>\n",
       "    </tr>\n",
       "    <tr>\n",
       "      <th>1171</th>\n",
       "      <td>216519</td>\n",
       "      <td>3.21</td>\n",
       "    </tr>\n",
       "    <tr>\n",
       "      <th>1241</th>\n",
       "      <td>216589</td>\n",
       "      <td>2.13</td>\n",
       "    </tr>\n",
       "    <tr>\n",
       "      <th>336</th>\n",
       "      <td>215684</td>\n",
       "      <td>5.70</td>\n",
       "    </tr>\n",
       "    <tr>\n",
       "      <th>463</th>\n",
       "      <td>215811</td>\n",
       "      <td>5.12</td>\n",
       "    </tr>\n",
       "    <tr>\n",
       "      <th>680</th>\n",
       "      <td>216028</td>\n",
       "      <td>4.09</td>\n",
       "    </tr>\n",
       "    <tr>\n",
       "      <th>1130</th>\n",
       "      <td>216478</td>\n",
       "      <td>3.62</td>\n",
       "    </tr>\n",
       "    <tr>\n",
       "      <th>711</th>\n",
       "      <td>216059</td>\n",
       "      <td>1.84</td>\n",
       "    </tr>\n",
       "    <tr>\n",
       "      <th>1127</th>\n",
       "      <td>216475</td>\n",
       "      <td>5.01</td>\n",
       "    </tr>\n",
       "    <tr>\n",
       "      <th>404</th>\n",
       "      <td>215752</td>\n",
       "      <td>4.06</td>\n",
       "    </tr>\n",
       "    <tr>\n",
       "      <th>443</th>\n",
       "      <td>215791</td>\n",
       "      <td>2.93</td>\n",
       "    </tr>\n",
       "    <tr>\n",
       "      <th>75</th>\n",
       "      <td>215423</td>\n",
       "      <td>3.92</td>\n",
       "    </tr>\n",
       "  </tbody>\n",
       "</table>\n",
       "</div>"
      ],
      "text/plain": [
       "          id  Прибыль\n",
       "1109  216457     1.54\n",
       "370   215718     4.84\n",
       "572   215920     4.66\n",
       "239   215587     3.68\n",
       "133   215481     4.42\n",
       "1078  216426     3.74\n",
       "65    215413     5.40\n",
       "115   215463     3.08\n",
       "899   216247     2.77\n",
       "1171  216519     3.21\n",
       "1241  216589     2.13\n",
       "336   215684     5.70\n",
       "463   215811     5.12\n",
       "680   216028     4.09\n",
       "1130  216478     3.62\n",
       "711   216059     1.84\n",
       "1127  216475     5.01\n",
       "404   215752     4.06\n",
       "443   215791     2.93\n",
       "75    215423     3.92"
      ]
     },
     "execution_count": 9,
     "metadata": {},
     "output_type": "execute_result"
    }
   ],
   "source": [
    "pd.set_option('display.max_columns', None)\n",
    "df_money.sample(20, random_state=1)"
   ]
  },
  {
   "cell_type": "markdown",
   "metadata": {},
   "source": [
    "**Выведем общую информацию:**"
   ]
  },
  {
   "cell_type": "code",
   "execution_count": 10,
   "metadata": {},
   "outputs": [
    {
     "name": "stdout",
     "output_type": "stream",
     "text": [
      "<class 'pandas.core.frame.DataFrame'>\n",
      "RangeIndex: 1300 entries, 0 to 1299\n",
      "Data columns (total 2 columns):\n",
      " #   Column   Non-Null Count  Dtype  \n",
      "---  ------   --------------  -----  \n",
      " 0   id       1300 non-null   int64  \n",
      " 1   Прибыль  1300 non-null   float64\n",
      "dtypes: float64(1), int64(1)\n",
      "memory usage: 20.4 KB\n"
     ]
    }
   ],
   "source": [
    "df_money.info()"
   ]
  },
  {
   "cell_type": "markdown",
   "metadata": {},
   "source": [
    "**Промежуточный вывод:**\n",
    "\n",
    "* Названия колонок необходимо привести к змеиному стилю.\n",
    "* Типы данных во всех датасетах верные.\n",
    "* Пропусков не обнаружено."
   ]
  },
  {
   "cell_type": "markdown",
   "metadata": {},
   "source": [
    "## Предобработка данных"
   ]
  },
  {
   "cell_type": "markdown",
   "metadata": {},
   "source": [
    "**Исправим все названия колонок на змеиный стиль:**"
   ]
  },
  {
   "cell_type": "code",
   "execution_count": 11,
   "metadata": {},
   "outputs": [
    {
     "data": {
      "text/plain": [
       "Index(['id', 'покупательская_активность', 'тип_сервиса', 'разрешить_сообщать',\n",
       "       'маркет_актив_6_мес', 'маркет_актив_тек_мес', 'длительность',\n",
       "       'акционные_покупки', 'популярная_категория',\n",
       "       'cредний_просмотр_категорий_за_визит',\n",
       "       'неоплаченные_продукты_штук_квартал', 'ошибка_сервиса',\n",
       "       'страниц_за_визит'],\n",
       "      dtype='object')"
      ]
     },
     "execution_count": 11,
     "metadata": {},
     "output_type": "execute_result"
    }
   ],
   "source": [
    "df_market.rename(columns={'Покупательская активность':'покупательская_активность','Тип сервиса':'тип_сервиса',\n",
    "                          'Разрешить сообщать':'разрешить_сообщать', 'Маркет_актив_6_мес':'маркет_актив_6_мес',\n",
    "                          'Маркет_актив_тек_мес':'маркет_актив_тек_мес', 'Длительность':'длительность',\n",
    "                          'Акционные_покупки':'акционные_покупки', 'Популярная_категория':'популярная_категория',\n",
    "                          'Средний_просмотр_категорий_за_визит':'cредний_просмотр_категорий_за_визит',\n",
    "                          'Неоплаченные_продукты_штук_квартал':'неоплаченные_продукты_штук_квартал', \n",
    "                          'Ошибка_сервиса':'ошибка_сервиса', 'Страниц_за_визит':'страниц_за_визит'}, inplace = True)\n",
    "df_market.columns"
   ]
  },
  {
   "cell_type": "code",
   "execution_count": 12,
   "metadata": {},
   "outputs": [
    {
     "data": {
      "text/plain": [
       "Index(['id', 'период', 'выручка'], dtype='object')"
      ]
     },
     "execution_count": 12,
     "metadata": {},
     "output_type": "execute_result"
    }
   ],
   "source": [
    "df_market_money.rename(columns={'Период':'период', 'Выручка':'выручка'}, inplace = True)\n",
    "df_market_money.columns"
   ]
  },
  {
   "cell_type": "code",
   "execution_count": 13,
   "metadata": {},
   "outputs": [
    {
     "data": {
      "text/plain": [
       "Index(['id', 'период', 'минут'], dtype='object')"
      ]
     },
     "execution_count": 13,
     "metadata": {},
     "output_type": "execute_result"
    }
   ],
   "source": [
    "df_market_time.rename(columns={'Период':'период'}, inplace = True)\n",
    "df_market_time.columns"
   ]
  },
  {
   "cell_type": "code",
   "execution_count": 14,
   "metadata": {},
   "outputs": [
    {
     "data": {
      "text/plain": [
       "Index(['id', 'прибыль'], dtype='object')"
      ]
     },
     "execution_count": 14,
     "metadata": {},
     "output_type": "execute_result"
    }
   ],
   "source": [
    "df_money.rename(columns={'Прибыль':'прибыль'}, inplace = True)\n",
    "df_money.columns"
   ]
  },
  {
   "cell_type": "markdown",
   "metadata": {},
   "source": [
    "**Проверим датасеты на дубликаты:**"
   ]
  },
  {
   "cell_type": "code",
   "execution_count": 15,
   "metadata": {},
   "outputs": [
    {
     "name": "stdout",
     "output_type": "stream",
     "text": [
      "0\n",
      "0\n",
      "0\n",
      "0\n"
     ]
    }
   ],
   "source": [
    "data = [df_market, df_market_money, df_market_time, df_money]\n",
    "for df in data:\n",
    "    c = df.duplicated().sum()\n",
    "    print(c)"
   ]
  },
  {
   "cell_type": "markdown",
   "metadata": {},
   "source": [
    "**Явных дубликатов нет. Проверим на неявные:**"
   ]
  },
  {
   "cell_type": "code",
   "execution_count": 16,
   "metadata": {},
   "outputs": [
    {
     "name": "stdout",
     "output_type": "stream",
     "text": [
      "покупательская_активность : ['Снизилась' 'Прежний уровень']\n",
      "тип_сервиса : ['премиум' 'стандартт' 'стандарт']\n",
      "разрешить_сообщать : ['да' 'нет']\n",
      "популярная_категория : ['Товары для детей' 'Домашний текстиль' 'Косметика и аксесуары'\n",
      " 'Техника для красоты и здоровья' 'Кухонная посуда'\n",
      " 'Мелкая бытовая техника и электроника']\n"
     ]
    }
   ],
   "source": [
    "columns=['покупательская_активность', 'тип_сервиса', 'разрешить_сообщать', 'популярная_категория']\n",
    "for column in columns:\n",
    "    c = df_market[column].unique()\n",
    "    print(column,':', c)"
   ]
  },
  {
   "cell_type": "markdown",
   "metadata": {},
   "source": [
    "**Датафрейм `df_market` имеет дубликаты в колонке `тип_сервиса `. Приведем все значения типа стандарт к единому виду:**"
   ]
  },
  {
   "cell_type": "code",
   "execution_count": 17,
   "metadata": {},
   "outputs": [
    {
     "data": {
      "text/plain": [
       "array(['премиум', 'стандарт'], dtype=object)"
      ]
     },
     "execution_count": 17,
     "metadata": {},
     "output_type": "execute_result"
    }
   ],
   "source": [
    "df_market['тип_сервиса'] = df_market['тип_сервиса'].replace('стандартт','стандарт')\n",
    "df_market['тип_сервиса'].unique()"
   ]
  },
  {
   "cell_type": "markdown",
   "metadata": {},
   "source": [
    "**Перейдем к следующему:**"
   ]
  },
  {
   "cell_type": "code",
   "execution_count": 18,
   "metadata": {},
   "outputs": [
    {
     "data": {
      "text/plain": [
       "array(['препредыдущий_месяц', 'текущий_месяц', 'предыдущий_месяц'],\n",
       "      dtype=object)"
      ]
     },
     "execution_count": 18,
     "metadata": {},
     "output_type": "execute_result"
    }
   ],
   "source": [
    "df_market_money['период'].unique()"
   ]
  },
  {
   "cell_type": "markdown",
   "metadata": {},
   "source": [
    "**Смотрим на следующий датасет:**"
   ]
  },
  {
   "cell_type": "code",
   "execution_count": 19,
   "metadata": {},
   "outputs": [
    {
     "data": {
      "text/plain": [
       "array(['текущий_месяц', 'предыдцщий_месяц'], dtype=object)"
      ]
     },
     "execution_count": 19,
     "metadata": {},
     "output_type": "execute_result"
    }
   ],
   "source": [
    "df_market_time['период'].unique()"
   ]
  },
  {
   "cell_type": "markdown",
   "metadata": {},
   "source": [
    "**В названии колонки есть опечатка. Исправим:**"
   ]
  },
  {
   "cell_type": "code",
   "execution_count": 20,
   "metadata": {},
   "outputs": [
    {
     "data": {
      "text/plain": [
       "array(['текущий_месяц', 'предыдущий_месяц'], dtype=object)"
      ]
     },
     "execution_count": 20,
     "metadata": {},
     "output_type": "execute_result"
    }
   ],
   "source": [
    "df_market_time['период'] = df_market_time['период'].replace('предыдцщий_месяц','предыдущий_месяц')\n",
    "df_market_time['период'].unique()"
   ]
  },
  {
   "cell_type": "markdown",
   "metadata": {},
   "source": [
    "**Промежуточный вывод:**\n",
    "\n",
    "* Привели названия колонок к единому стилю.\n",
    "* Избавились от явных и неявных дубликатов."
   ]
  },
  {
   "cell_type": "markdown",
   "metadata": {},
   "source": [
    "## Исследовательский анализ"
   ]
  },
  {
   "cell_type": "markdown",
   "metadata": {},
   "source": [
    "**Проведем анализ признаков. Начнем с категориальных. Выведем графики распределения признаков в датасетах. Для `df_market`:**"
   ]
  },
  {
   "cell_type": "code",
   "execution_count": 21,
   "metadata": {},
   "outputs": [
    {
     "data": {
      "image/png": "[encoded data removed]",
      "text/plain": [
       "<Figure size 1296x720 with 3 Axes>"
      ]
     },
     "metadata": {},
     "output_type": "display_data"
    }
   ],
   "source": [
    "cat_df_market = ['покупательская_активность', 'тип_сервиса', 'разрешить_сообщать']\n",
    "i=1\n",
    "plt.figure(figsize=(18,10))\n",
    "for column in cat_df_market:\n",
    "    plt.subplot(1, 3, i)\n",
    "    plt.title(column)\n",
    "    plt.pie(x=df_market.groupby(column)['id'].count(),\n",
    "        wedgeprops={'linewidth':5, 'edgecolor':'white'},\n",
    "        autopct='%1.1f%%',\n",
    "        labels=df_market.groupby(column)['id'].count().index,\n",
    "        colors=['y', 'c']);\n",
    "    i+=1"
   ]
  },
  {
   "cell_type": "code",
   "execution_count": 22,
   "metadata": {},
   "outputs": [
    {
     "data": {
      "image/png": "[encoded data removed]",
      "text/plain": [
       "<Figure size 864x432 with 1 Axes>"
      ]
     },
     "metadata": {
      "needs_background": "light"
     },
     "output_type": "display_data"
    }
   ],
   "source": [
    "plt.figure(figsize=(12,6))\n",
    "df_market['популярная_категория'].value_counts().plot(kind='bar', label='популярная_категория', color='y', ec='black')\n",
    "plt.legend()\n",
    "plt.title('Распределение клиентов по категориям товаров');"
   ]
  },
  {
   "cell_type": "markdown",
   "metadata": {},
   "source": [
    "**Почти у 40% клиентов падает активность месяц к месяцу. Возможно у большинства из них запрещена рассылка сообщений. Также это может быть связано с покупкой долгосрочных товаров. Нет необходимости покупать электронику каждый месяц.**"
   ]
  },
  {
   "cell_type": "markdown",
   "metadata": {},
   "source": [
    "**Для `df_market_money`:**"
   ]
  },
  {
   "cell_type": "code",
   "execution_count": 23,
   "metadata": {},
   "outputs": [
    {
     "data": {
      "image/png": "[encoded data removed]",
      "text/plain": [
       "<Figure size 360x360 with 1 Axes>"
      ]
     },
     "metadata": {},
     "output_type": "display_data"
    }
   ],
   "source": [
    "plt.figure(figsize=(5,5))\n",
    "plt.title('период', size=15)\n",
    "plt.pie(x=df_market_money.groupby('период')['id'].count(),\n",
    "        wedgeprops={'linewidth':5, 'edgecolor':'white'},\n",
    "        autopct='%1.1f%%',\n",
    "        labels=df_market_money.groupby('период')['id'].count().index,\n",
    "        colors=['y', 'c']);"
   ]
  },
  {
   "cell_type": "markdown",
   "metadata": {},
   "source": [
    "**Данные распределены равномерно по месяцам.**"
   ]
  },
  {
   "cell_type": "markdown",
   "metadata": {},
   "source": [
    "**Для `df_market_time`:**"
   ]
  },
  {
   "cell_type": "code",
   "execution_count": 24,
   "metadata": {},
   "outputs": [
    {
     "data": {
      "image/png": "[encoded data removed]",
      "text/plain": [
       "<Figure size 360x360 with 1 Axes>"
      ]
     },
     "metadata": {},
     "output_type": "display_data"
    }
   ],
   "source": [
    "plt.figure(figsize=(5,5))\n",
    "plt.title('период', size=15)\n",
    "plt.pie(x=df_market_time.groupby('период')['id'].count(),\n",
    "        wedgeprops={'linewidth':5, 'edgecolor':'white'},\n",
    "        autopct='%1.1f%%',\n",
    "        labels=df_market_time.groupby('период')['id'].count().index,\n",
    "        colors=['y', 'c']);"
   ]
  },
  {
   "cell_type": "markdown",
   "metadata": {},
   "source": [
    "**В датасете только 2 месяца, поэтому данные разделены поровну.**"
   ]
  },
  {
   "cell_type": "markdown",
   "metadata": {},
   "source": [
    "**Перейдем к категориальным признакам. Создадим универсальную функцию вывода графиков:**"
   ]
  },
  {
   "cell_type": "code",
   "execution_count": 25,
   "metadata": {},
   "outputs": [],
   "source": [
    "def num_graph(data, column):\n",
    "    plt.figure(figsize=(15, 6))\n",
    "    plt.subplot(1, 2, 1)\n",
    "    plt.xlabel(column)\n",
    "    plt.ylabel('Частота')\n",
    "    plt.title(f'Распределение клиентов по {column}')\n",
    "    plt.hist(x=data[column], histtype ='bar', bins=30, ec='black', color='c')\n",
    "    plt.subplot(1, 2, 2)\n",
    "    plt.xlabel(column)\n",
    "    plt.title(f'Распределение клиентов по {column}')\n",
    "    plt.boxplot(x=data[column])"
   ]
  },
  {
   "cell_type": "markdown",
   "metadata": {},
   "source": [
    "**Для `df_market`:**"
   ]
  },
  {
   "cell_type": "code",
   "execution_count": 26,
   "metadata": {},
   "outputs": [
    {
     "data": {
      "image/png": "[encoded data removed]",
      "text/plain": [
       "<Figure size 1080x432 with 2 Axes>"
      ]
     },
     "metadata": {
      "needs_background": "light"
     },
     "output_type": "display_data"
    },
    {
     "data": {
      "image/png": "[encoded data removed]",
      "text/plain": [
       "<Figure size 1080x432 with 2 Axes>"
      ]
     },
     "metadata": {
      "needs_background": "light"
     },
     "output_type": "display_data"
    },
    {
     "data": {
      "image/png": "[encoded data removed]",
      "text/plain": [
       "<Figure size 1080x432 with 2 Axes>"
      ]
     },
     "metadata": {
      "needs_background": "light"
     },
     "output_type": "display_data"
    }
   ],
   "source": [
    "num_df_market = ['маркет_актив_6_мес', 'длительность', 'акционные_покупки']\n",
    "\n",
    "for num in num_df_market:\n",
    "    num_graph(df_market, num)"
   ]
  },
  {
   "cell_type": "code",
   "execution_count": 27,
   "metadata": {},
   "outputs": [
    {
     "data": {
      "image/png": "[encoded data removed]",
      "text/plain": [
       "<Figure size 720x360 with 1 Axes>"
      ]
     },
     "metadata": {
      "needs_background": "light"
     },
     "output_type": "display_data"
    },
    {
     "data": {
      "image/png": "[encoded data removed]",
      "text/plain": [
       "<Figure size 720x360 with 1 Axes>"
      ]
     },
     "metadata": {
      "needs_background": "light"
     },
     "output_type": "display_data"
    },
    {
     "data": {
      "image/png": "[encoded data removed]",
      "text/plain": [
       "<Figure size 720x360 with 1 Axes>"
      ]
     },
     "metadata": {
      "needs_background": "light"
     },
     "output_type": "display_data"
    },
    {
     "data": {
      "image/png": "[encoded data removed]",
      "text/plain": [
       "<Figure size 720x360 with 1 Axes>"
      ]
     },
     "metadata": {
      "needs_background": "light"
     },
     "output_type": "display_data"
    },
    {
     "data": {
      "image/png": "[encoded data removed]",
      "text/plain": [
       "<Figure size 720x360 with 1 Axes>"
      ]
     },
     "metadata": {
      "needs_background": "light"
     },
     "output_type": "display_data"
    }
   ],
   "source": [
    "cat_df_market = ['маркет_актив_тек_мес', 'cредний_просмотр_категорий_за_визит', 'неоплаченные_продукты_штук_квартал',\n",
    "                 'ошибка_сервиса', 'страниц_за_визит']\n",
    "\n",
    "for cat in cat_df_market:\n",
    "    plt.figure(figsize=(10,5))\n",
    "    df_market[cat].value_counts(sort=False).plot(kind='bar', color='y', ec='black')\n",
    "    plt.legend()\n",
    "    plt.title(f'Распределение клиентов по {cat}');\n",
    "    plt.ylabel('Количество клиентов')\n",
    "    plt.xlabel(f'{cat}')\n",
    "    \n",
    "\n"
   ]
  },
  {
   "cell_type": "markdown",
   "metadata": {},
   "source": [
    "* Гистограмма маркетинговой активности за 6 месяцев имеет вид нормальной. Из общего числа выбивается несколько низких значений.\n",
    "* Уникальных значений в активности за текущий месяц слишком мало, можно сделать признак категориальным.\n",
    "* Признак длительности с момента регистрации распределен равномерно, имеются острые пики в некоторые даты.\n",
    "* У признака покупок по акции наблюдается два пика. Есть покупатели, взявшие товар только по скидке.\n",
    "* Гистограмма признака просмотра категорий за визит имеет вид нормальной. В среднем клиенты просматривают три категории товаров за визит.\n",
    "* Гистограмма признака колличество неоплаченных товаров в корзине имеет смещение пика влево. Имеется несколько случаев с количеством товаров более 8 штук.\n",
    "* Признак количества сбоев имеет вид нормального распределения.\n",
    "* Гистограмма признака колличество страниц на сайте за визит имеет смещение пика влево. В среднем клиенты просматривают около 7 страниц за визит."
   ]
  },
  {
   "cell_type": "markdown",
   "metadata": {},
   "source": [
    "**Для `df_market_money`:**"
   ]
  },
  {
   "cell_type": "code",
   "execution_count": 28,
   "metadata": {},
   "outputs": [
    {
     "data": {
      "image/png": "[encoded data removed]",
      "text/plain": [
       "<Figure size 1080x432 with 2 Axes>"
      ]
     },
     "metadata": {
      "needs_background": "light"
     },
     "output_type": "display_data"
    }
   ],
   "source": [
    "num_df_market_money = ['выручка']\n",
    "\n",
    "for num in num_df_market_money:\n",
    "    num_graph(df_market_money, num)"
   ]
  },
  {
   "cell_type": "markdown",
   "metadata": {},
   "source": [
    "**Виднеется аномально большое значение выручки за месяц. Возможно, данный покупатель взял товары из раздела электроники оптом. Т.к. данный случай только один, его лучше уберем:**"
   ]
  },
  {
   "cell_type": "code",
   "execution_count": 29,
   "metadata": {},
   "outputs": [
    {
     "data": {
      "image/png": "[encoded data removed]",
      "text/plain": [
       "<Figure size 1080x432 with 2 Axes>"
      ]
     },
     "metadata": {
      "needs_background": "light"
     },
     "output_type": "display_data"
    }
   ],
   "source": [
    "df_market_money = df_market_money.query('выручка < 20000')\n",
    "\n",
    "for num in num_df_market_money:\n",
    "    num_graph(df_market_money, num)"
   ]
  },
  {
   "cell_type": "markdown",
   "metadata": {},
   "source": [
    "**Теперь видим клиентов, не совершавших покупок за данный период, позже удалим из датасета.**"
   ]
  },
  {
   "cell_type": "markdown",
   "metadata": {},
   "source": [
    "* Гистограмма распределяется нормально. В среднем с покупателя сервис получает 5000 р. выручки."
   ]
  },
  {
   "cell_type": "markdown",
   "metadata": {},
   "source": [
    "**Для `df_market_time`:**"
   ]
  },
  {
   "cell_type": "code",
   "execution_count": 30,
   "metadata": {},
   "outputs": [
    {
     "data": {
      "image/png": "[encoded data removed]",
      "text/plain": [
       "<Figure size 1080x432 with 2 Axes>"
      ]
     },
     "metadata": {
      "needs_background": "light"
     },
     "output_type": "display_data"
    }
   ],
   "source": [
    "num_df_market_time = ['минут']\n",
    "\n",
    "for num in num_df_market_time:\n",
    "    num_graph(df_market_time, num)"
   ]
  },
  {
   "cell_type": "markdown",
   "metadata": {},
   "source": [
    "* Гистограмма времени, проведенного на сайте имеет вид нормальной."
   ]
  },
  {
   "cell_type": "markdown",
   "metadata": {},
   "source": [
    "**Для `df_money`:**"
   ]
  },
  {
   "cell_type": "code",
   "execution_count": 31,
   "metadata": {},
   "outputs": [
    {
     "data": {
      "image/png": "[encoded data removed]",
      "text/plain": [
       "<Figure size 1080x432 with 2 Axes>"
      ]
     },
     "metadata": {
      "needs_background": "light"
     },
     "output_type": "display_data"
    }
   ],
   "source": [
    "num_df_money = ['прибыль']\n",
    "\n",
    "for num in num_df_money:\n",
    "    num_graph(df_money, num)"
   ]
  },
  {
   "cell_type": "markdown",
   "metadata": {},
   "source": [
    "* Гистограмма прибыли распределена нормально."
   ]
  },
  {
   "cell_type": "markdown",
   "metadata": {},
   "source": [
    "**Посмотрим на клиентов с покупательской активностью менее 3 месяцев:**"
   ]
  },
  {
   "cell_type": "code",
   "execution_count": 32,
   "metadata": {},
   "outputs": [
    {
     "data": {
      "text/html": [
       "<div>\n",
       "<style scoped>\n",
       "    .dataframe tbody tr th:only-of-type {\n",
       "        vertical-align: middle;\n",
       "    }\n",
       "\n",
       "    .dataframe tbody tr th {\n",
       "        vertical-align: top;\n",
       "    }\n",
       "\n",
       "    .dataframe thead th {\n",
       "        text-align: right;\n",
       "    }\n",
       "</style>\n",
       "<table border=\"1\" class=\"dataframe\">\n",
       "  <thead>\n",
       "    <tr style=\"text-align: right;\">\n",
       "      <th></th>\n",
       "      <th>id</th>\n",
       "      <th>период</th>\n",
       "      <th>выручка</th>\n",
       "    </tr>\n",
       "  </thead>\n",
       "  <tbody>\n",
       "    <tr>\n",
       "      <th>0</th>\n",
       "      <td>215348</td>\n",
       "      <td>препредыдущий_месяц</td>\n",
       "      <td>0.0</td>\n",
       "    </tr>\n",
       "    <tr>\n",
       "      <th>2</th>\n",
       "      <td>215348</td>\n",
       "      <td>предыдущий_месяц</td>\n",
       "      <td>0.0</td>\n",
       "    </tr>\n",
       "    <tr>\n",
       "      <th>28</th>\n",
       "      <td>215357</td>\n",
       "      <td>препредыдущий_месяц</td>\n",
       "      <td>0.0</td>\n",
       "    </tr>\n",
       "    <tr>\n",
       "      <th>29</th>\n",
       "      <td>215357</td>\n",
       "      <td>предыдущий_месяц</td>\n",
       "      <td>0.0</td>\n",
       "    </tr>\n",
       "    <tr>\n",
       "      <th>34</th>\n",
       "      <td>215359</td>\n",
       "      <td>предыдущий_месяц</td>\n",
       "      <td>0.0</td>\n",
       "    </tr>\n",
       "    <tr>\n",
       "      <th>35</th>\n",
       "      <td>215359</td>\n",
       "      <td>препредыдущий_месяц</td>\n",
       "      <td>0.0</td>\n",
       "    </tr>\n",
       "  </tbody>\n",
       "</table>\n",
       "</div>"
      ],
      "text/plain": [
       "        id               период  выручка\n",
       "0   215348  препредыдущий_месяц      0.0\n",
       "2   215348     предыдущий_месяц      0.0\n",
       "28  215357  препредыдущий_месяц      0.0\n",
       "29  215357     предыдущий_месяц      0.0\n",
       "34  215359     предыдущий_месяц      0.0\n",
       "35  215359  препредыдущий_месяц      0.0"
      ]
     },
     "execution_count": 32,
     "metadata": {},
     "output_type": "execute_result"
    }
   ],
   "source": [
    "df_market_money.query('выручка == 0')"
   ]
  },
  {
   "cell_type": "markdown",
   "metadata": {},
   "source": [
    "**Уберем данных пользователей из датасетов:**"
   ]
  },
  {
   "cell_type": "code",
   "execution_count": 33,
   "metadata": {},
   "outputs": [
    {
     "name": "stdout",
     "output_type": "stream",
     "text": [
      "df_market (1300, 13)\n",
      "df_market_money (3899, 3)\n",
      "df_market_time (2600, 3)\n",
      "df_money (1300, 2)\n"
     ]
    }
   ],
   "source": [
    "print('df_market' ,df_market.shape)\n",
    "print('df_market_money', df_market_money.shape)\n",
    "print('df_market_time', df_market_time.shape)\n",
    "print('df_money', df_money.shape)"
   ]
  },
  {
   "cell_type": "code",
   "execution_count": 34,
   "metadata": {},
   "outputs": [
    {
     "name": "stdout",
     "output_type": "stream",
     "text": [
      "df_market (1297, 13)\n",
      "df_market_money (3890, 3)\n",
      "df_market_time (2594, 3)\n",
      "df_money (1297, 2)\n"
     ]
    }
   ],
   "source": [
    "df_market = df_market.query('id != [215348, 215357, 215359]')\n",
    "df_market_money = df_market_money.query('id != [215348, 215357, 215359]')\n",
    "df_market_time = df_market_time.query('id != [215348, 215357, 215359]')\n",
    "df_money = df_money.query('id != [215348, 215357, 215359]')\n",
    "\n",
    "print('df_market' ,df_market.shape)\n",
    "print('df_market_money', df_market_money.shape)\n",
    "print('df_market_time', df_market_time.shape)\n",
    "print('df_money', df_money.shape)"
   ]
  },
  {
   "cell_type": "markdown",
   "metadata": {},
   "source": [
    "**Промежуточный вывод:**\n",
    "* Для каждого датасета построили гистограммы количественных признаков, диаграммы категориальных прихнаков и описали графики.\n",
    "* Избавились от пользователей с активностью менее 3 месяцев и 1 аномального случая. "
   ]
  },
  {
   "cell_type": "markdown",
   "metadata": {},
   "source": [
    "## Объединение таблиц"
   ]
  },
  {
   "cell_type": "markdown",
   "metadata": {},
   "source": [
    "**Объединим таблицы `df_market` и `df_market_money`. Для этого определим несколько датасетов по периоду:**"
   ]
  },
  {
   "cell_type": "code",
   "execution_count": 35,
   "metadata": {},
   "outputs": [],
   "source": [
    "df_now_mes = (df_market_money.query('период == \"текущий_месяц\"').drop(['период'], axis=1)\n",
    "              .rename(columns={'выручка': 'выручка_текущий_мес'}))\n",
    "df_pre_mes = (df_market_money.query('период == \"предыдущий_месяц\"').drop(['период'], axis=1)\n",
    "              .rename(columns={'выручка': 'выручка_предыдущий_мес'}))\n",
    "df_prepre_mes = (df_market_money.query('период == \"препредыдущий_месяц\"').drop(['период'], axis=1)\n",
    "                 .rename(columns={'выручка': 'выручка_препредыдущий_мес'}))"
   ]
  },
  {
   "cell_type": "code",
   "execution_count": 36,
   "metadata": {
    "scrolled": true
   },
   "outputs": [
    {
     "name": "stdout",
     "output_type": "stream",
     "text": [
      "(1296, 16)\n"
     ]
    },
    {
     "data": {
      "text/html": [
       "<div>\n",
       "<style scoped>\n",
       "    .dataframe tbody tr th:only-of-type {\n",
       "        vertical-align: middle;\n",
       "    }\n",
       "\n",
       "    .dataframe tbody tr th {\n",
       "        vertical-align: top;\n",
       "    }\n",
       "\n",
       "    .dataframe thead th {\n",
       "        text-align: right;\n",
       "    }\n",
       "</style>\n",
       "<table border=\"1\" class=\"dataframe\">\n",
       "  <thead>\n",
       "    <tr style=\"text-align: right;\">\n",
       "      <th></th>\n",
       "      <th>id</th>\n",
       "      <th>покупательская_активность</th>\n",
       "      <th>тип_сервиса</th>\n",
       "      <th>разрешить_сообщать</th>\n",
       "      <th>маркет_актив_6_мес</th>\n",
       "      <th>маркет_актив_тек_мес</th>\n",
       "      <th>длительность</th>\n",
       "      <th>акционные_покупки</th>\n",
       "      <th>популярная_категория</th>\n",
       "      <th>cредний_просмотр_категорий_за_визит</th>\n",
       "      <th>неоплаченные_продукты_штук_квартал</th>\n",
       "      <th>ошибка_сервиса</th>\n",
       "      <th>страниц_за_визит</th>\n",
       "      <th>выручка_текущий_мес</th>\n",
       "      <th>выручка_предыдущий_мес</th>\n",
       "      <th>выручка_препредыдущий_мес</th>\n",
       "    </tr>\n",
       "  </thead>\n",
       "  <tbody>\n",
       "    <tr>\n",
       "      <th>971</th>\n",
       "      <td>216323</td>\n",
       "      <td>Прежний уровень</td>\n",
       "      <td>стандарт</td>\n",
       "      <td>да</td>\n",
       "      <td>4.1</td>\n",
       "      <td>4</td>\n",
       "      <td>927</td>\n",
       "      <td>0.24</td>\n",
       "      <td>Домашний текстиль</td>\n",
       "      <td>2</td>\n",
       "      <td>5</td>\n",
       "      <td>4</td>\n",
       "      <td>11</td>\n",
       "      <td>6722.0</td>\n",
       "      <td>5584.5</td>\n",
       "      <td>4422.0</td>\n",
       "    </tr>\n",
       "    <tr>\n",
       "      <th>649</th>\n",
       "      <td>216001</td>\n",
       "      <td>Прежний уровень</td>\n",
       "      <td>премиум</td>\n",
       "      <td>да</td>\n",
       "      <td>5.3</td>\n",
       "      <td>3</td>\n",
       "      <td>973</td>\n",
       "      <td>0.17</td>\n",
       "      <td>Домашний текстиль</td>\n",
       "      <td>4</td>\n",
       "      <td>2</td>\n",
       "      <td>4</td>\n",
       "      <td>11</td>\n",
       "      <td>6835.4</td>\n",
       "      <td>5700.5</td>\n",
       "      <td>4541.0</td>\n",
       "    </tr>\n",
       "    <tr>\n",
       "      <th>60</th>\n",
       "      <td>215412</td>\n",
       "      <td>Снизилась</td>\n",
       "      <td>премиум</td>\n",
       "      <td>да</td>\n",
       "      <td>2.9</td>\n",
       "      <td>3</td>\n",
       "      <td>506</td>\n",
       "      <td>0.90</td>\n",
       "      <td>Товары для детей</td>\n",
       "      <td>1</td>\n",
       "      <td>5</td>\n",
       "      <td>3</td>\n",
       "      <td>4</td>\n",
       "      <td>5294.1</td>\n",
       "      <td>5499.5</td>\n",
       "      <td>4607.0</td>\n",
       "    </tr>\n",
       "    <tr>\n",
       "      <th>941</th>\n",
       "      <td>216293</td>\n",
       "      <td>Прежний уровень</td>\n",
       "      <td>премиум</td>\n",
       "      <td>да</td>\n",
       "      <td>4.4</td>\n",
       "      <td>4</td>\n",
       "      <td>866</td>\n",
       "      <td>0.17</td>\n",
       "      <td>Мелкая бытовая техника и электроника</td>\n",
       "      <td>3</td>\n",
       "      <td>1</td>\n",
       "      <td>6</td>\n",
       "      <td>12</td>\n",
       "      <td>5109.0</td>\n",
       "      <td>4985.5</td>\n",
       "      <td>4993.0</td>\n",
       "    </tr>\n",
       "    <tr>\n",
       "      <th>944</th>\n",
       "      <td>216296</td>\n",
       "      <td>Прежний уровень</td>\n",
       "      <td>стандарт</td>\n",
       "      <td>да</td>\n",
       "      <td>5.1</td>\n",
       "      <td>3</td>\n",
       "      <td>994</td>\n",
       "      <td>0.13</td>\n",
       "      <td>Товары для детей</td>\n",
       "      <td>4</td>\n",
       "      <td>3</td>\n",
       "      <td>1</td>\n",
       "      <td>7</td>\n",
       "      <td>4859.5</td>\n",
       "      <td>4645.0</td>\n",
       "      <td>4742.0</td>\n",
       "    </tr>\n",
       "    <tr>\n",
       "      <th>593</th>\n",
       "      <td>215945</td>\n",
       "      <td>Прежний уровень</td>\n",
       "      <td>премиум</td>\n",
       "      <td>да</td>\n",
       "      <td>4.0</td>\n",
       "      <td>3</td>\n",
       "      <td>1007</td>\n",
       "      <td>0.23</td>\n",
       "      <td>Кухонная посуда</td>\n",
       "      <td>2</td>\n",
       "      <td>3</td>\n",
       "      <td>6</td>\n",
       "      <td>7</td>\n",
       "      <td>4044.8</td>\n",
       "      <td>4420.5</td>\n",
       "      <td>5004.0</td>\n",
       "    </tr>\n",
       "    <tr>\n",
       "      <th>133</th>\n",
       "      <td>215485</td>\n",
       "      <td>Снизилась</td>\n",
       "      <td>стандарт</td>\n",
       "      <td>да</td>\n",
       "      <td>3.5</td>\n",
       "      <td>4</td>\n",
       "      <td>720</td>\n",
       "      <td>0.99</td>\n",
       "      <td>Косметика и аксесуары</td>\n",
       "      <td>1</td>\n",
       "      <td>2</td>\n",
       "      <td>4</td>\n",
       "      <td>7</td>\n",
       "      <td>5065.5</td>\n",
       "      <td>4201.0</td>\n",
       "      <td>4234.0</td>\n",
       "    </tr>\n",
       "    <tr>\n",
       "      <th>142</th>\n",
       "      <td>215494</td>\n",
       "      <td>Снизилась</td>\n",
       "      <td>стандарт</td>\n",
       "      <td>нет</td>\n",
       "      <td>5.6</td>\n",
       "      <td>5</td>\n",
       "      <td>372</td>\n",
       "      <td>0.23</td>\n",
       "      <td>Косметика и аксесуары</td>\n",
       "      <td>1</td>\n",
       "      <td>6</td>\n",
       "      <td>2</td>\n",
       "      <td>3</td>\n",
       "      <td>5784.5</td>\n",
       "      <td>5258.0</td>\n",
       "      <td>4502.0</td>\n",
       "    </tr>\n",
       "    <tr>\n",
       "      <th>453</th>\n",
       "      <td>215805</td>\n",
       "      <td>Снизилась</td>\n",
       "      <td>стандарт</td>\n",
       "      <td>нет</td>\n",
       "      <td>4.1</td>\n",
       "      <td>4</td>\n",
       "      <td>808</td>\n",
       "      <td>0.15</td>\n",
       "      <td>Мелкая бытовая техника и электроника</td>\n",
       "      <td>4</td>\n",
       "      <td>2</td>\n",
       "      <td>3</td>\n",
       "      <td>13</td>\n",
       "      <td>4746.1</td>\n",
       "      <td>4126.0</td>\n",
       "      <td>4691.0</td>\n",
       "    </tr>\n",
       "    <tr>\n",
       "      <th>409</th>\n",
       "      <td>215761</td>\n",
       "      <td>Прежний уровень</td>\n",
       "      <td>стандарт</td>\n",
       "      <td>нет</td>\n",
       "      <td>5.7</td>\n",
       "      <td>4</td>\n",
       "      <td>565</td>\n",
       "      <td>0.14</td>\n",
       "      <td>Домашний текстиль</td>\n",
       "      <td>5</td>\n",
       "      <td>1</td>\n",
       "      <td>4</td>\n",
       "      <td>12</td>\n",
       "      <td>3713.8</td>\n",
       "      <td>4252.0</td>\n",
       "      <td>5023.0</td>\n",
       "    </tr>\n",
       "    <tr>\n",
       "      <th>1006</th>\n",
       "      <td>216358</td>\n",
       "      <td>Прежний уровень</td>\n",
       "      <td>премиум</td>\n",
       "      <td>да</td>\n",
       "      <td>4.1</td>\n",
       "      <td>4</td>\n",
       "      <td>835</td>\n",
       "      <td>0.13</td>\n",
       "      <td>Домашний текстиль</td>\n",
       "      <td>3</td>\n",
       "      <td>3</td>\n",
       "      <td>4</td>\n",
       "      <td>16</td>\n",
       "      <td>3544.8</td>\n",
       "      <td>4109.0</td>\n",
       "      <td>4910.0</td>\n",
       "    </tr>\n",
       "    <tr>\n",
       "      <th>1012</th>\n",
       "      <td>216364</td>\n",
       "      <td>Прежний уровень</td>\n",
       "      <td>стандарт</td>\n",
       "      <td>нет</td>\n",
       "      <td>3.6</td>\n",
       "      <td>4</td>\n",
       "      <td>514</td>\n",
       "      <td>0.95</td>\n",
       "      <td>Товары для детей</td>\n",
       "      <td>4</td>\n",
       "      <td>4</td>\n",
       "      <td>5</td>\n",
       "      <td>13</td>\n",
       "      <td>4375.1</td>\n",
       "      <td>3547.0</td>\n",
       "      <td>4352.0</td>\n",
       "    </tr>\n",
       "    <tr>\n",
       "      <th>571</th>\n",
       "      <td>215923</td>\n",
       "      <td>Снизилась</td>\n",
       "      <td>премиум</td>\n",
       "      <td>да</td>\n",
       "      <td>3.8</td>\n",
       "      <td>3</td>\n",
       "      <td>724</td>\n",
       "      <td>0.26</td>\n",
       "      <td>Косметика и аксесуары</td>\n",
       "      <td>1</td>\n",
       "      <td>0</td>\n",
       "      <td>4</td>\n",
       "      <td>13</td>\n",
       "      <td>4515.4</td>\n",
       "      <td>4602.5</td>\n",
       "      <td>4853.0</td>\n",
       "    </tr>\n",
       "    <tr>\n",
       "      <th>1137</th>\n",
       "      <td>216489</td>\n",
       "      <td>Прежний уровень</td>\n",
       "      <td>стандарт</td>\n",
       "      <td>да</td>\n",
       "      <td>6.6</td>\n",
       "      <td>3</td>\n",
       "      <td>796</td>\n",
       "      <td>0.21</td>\n",
       "      <td>Домашний текстиль</td>\n",
       "      <td>3</td>\n",
       "      <td>3</td>\n",
       "      <td>2</td>\n",
       "      <td>8</td>\n",
       "      <td>6532.6</td>\n",
       "      <td>5828.0</td>\n",
       "      <td>5165.0</td>\n",
       "    </tr>\n",
       "    <tr>\n",
       "      <th>163</th>\n",
       "      <td>215515</td>\n",
       "      <td>Снизилась</td>\n",
       "      <td>стандарт</td>\n",
       "      <td>нет</td>\n",
       "      <td>4.0</td>\n",
       "      <td>3</td>\n",
       "      <td>509</td>\n",
       "      <td>0.94</td>\n",
       "      <td>Косметика и аксесуары</td>\n",
       "      <td>2</td>\n",
       "      <td>6</td>\n",
       "      <td>4</td>\n",
       "      <td>6</td>\n",
       "      <td>4067.9</td>\n",
       "      <td>4395.5</td>\n",
       "      <td>4442.0</td>\n",
       "    </tr>\n",
       "    <tr>\n",
       "      <th>699</th>\n",
       "      <td>216051</td>\n",
       "      <td>Прежний уровень</td>\n",
       "      <td>премиум</td>\n",
       "      <td>нет</td>\n",
       "      <td>4.4</td>\n",
       "      <td>4</td>\n",
       "      <td>486</td>\n",
       "      <td>0.12</td>\n",
       "      <td>Мелкая бытовая техника и электроника</td>\n",
       "      <td>3</td>\n",
       "      <td>1</td>\n",
       "      <td>2</td>\n",
       "      <td>11</td>\n",
       "      <td>4264.4</td>\n",
       "      <td>4481.5</td>\n",
       "      <td>4882.0</td>\n",
       "    </tr>\n",
       "    <tr>\n",
       "      <th>424</th>\n",
       "      <td>215776</td>\n",
       "      <td>Прежний уровень</td>\n",
       "      <td>стандарт</td>\n",
       "      <td>нет</td>\n",
       "      <td>4.4</td>\n",
       "      <td>4</td>\n",
       "      <td>467</td>\n",
       "      <td>0.15</td>\n",
       "      <td>Техника для красоты и здоровья</td>\n",
       "      <td>2</td>\n",
       "      <td>2</td>\n",
       "      <td>2</td>\n",
       "      <td>10</td>\n",
       "      <td>4798.8</td>\n",
       "      <td>4388.0</td>\n",
       "      <td>4712.0</td>\n",
       "    </tr>\n",
       "    <tr>\n",
       "      <th>646</th>\n",
       "      <td>215998</td>\n",
       "      <td>Прежний уровень</td>\n",
       "      <td>премиум</td>\n",
       "      <td>да</td>\n",
       "      <td>4.4</td>\n",
       "      <td>4</td>\n",
       "      <td>959</td>\n",
       "      <td>0.13</td>\n",
       "      <td>Мелкая бытовая техника и электроника</td>\n",
       "      <td>6</td>\n",
       "      <td>1</td>\n",
       "      <td>3</td>\n",
       "      <td>6</td>\n",
       "      <td>4472.0</td>\n",
       "      <td>4342.0</td>\n",
       "      <td>4342.0</td>\n",
       "    </tr>\n",
       "    <tr>\n",
       "      <th>401</th>\n",
       "      <td>215753</td>\n",
       "      <td>Прежний уровень</td>\n",
       "      <td>премиум</td>\n",
       "      <td>да</td>\n",
       "      <td>5.5</td>\n",
       "      <td>5</td>\n",
       "      <td>191</td>\n",
       "      <td>0.17</td>\n",
       "      <td>Косметика и аксесуары</td>\n",
       "      <td>6</td>\n",
       "      <td>0</td>\n",
       "      <td>4</td>\n",
       "      <td>8</td>\n",
       "      <td>4168.0</td>\n",
       "      <td>4395.5</td>\n",
       "      <td>4808.0</td>\n",
       "    </tr>\n",
       "    <tr>\n",
       "      <th>619</th>\n",
       "      <td>215971</td>\n",
       "      <td>Прежний уровень</td>\n",
       "      <td>стандарт</td>\n",
       "      <td>да</td>\n",
       "      <td>5.2</td>\n",
       "      <td>4</td>\n",
       "      <td>491</td>\n",
       "      <td>0.17</td>\n",
       "      <td>Мелкая бытовая техника и электроника</td>\n",
       "      <td>3</td>\n",
       "      <td>2</td>\n",
       "      <td>2</td>\n",
       "      <td>8</td>\n",
       "      <td>6485.0</td>\n",
       "      <td>5529.5</td>\n",
       "      <td>4577.0</td>\n",
       "    </tr>\n",
       "  </tbody>\n",
       "</table>\n",
       "</div>"
      ],
      "text/plain": [
       "          id покупательская_активность тип_сервиса разрешить_сообщать  \\\n",
       "971   216323           Прежний уровень    стандарт                 да   \n",
       "649   216001           Прежний уровень     премиум                 да   \n",
       "60    215412                 Снизилась     премиум                 да   \n",
       "941   216293           Прежний уровень     премиум                 да   \n",
       "944   216296           Прежний уровень    стандарт                 да   \n",
       "593   215945           Прежний уровень     премиум                 да   \n",
       "133   215485                 Снизилась    стандарт                 да   \n",
       "142   215494                 Снизилась    стандарт                нет   \n",
       "453   215805                 Снизилась    стандарт                нет   \n",
       "409   215761           Прежний уровень    стандарт                нет   \n",
       "1006  216358           Прежний уровень     премиум                 да   \n",
       "1012  216364           Прежний уровень    стандарт                нет   \n",
       "571   215923                 Снизилась     премиум                 да   \n",
       "1137  216489           Прежний уровень    стандарт                 да   \n",
       "163   215515                 Снизилась    стандарт                нет   \n",
       "699   216051           Прежний уровень     премиум                нет   \n",
       "424   215776           Прежний уровень    стандарт                нет   \n",
       "646   215998           Прежний уровень     премиум                 да   \n",
       "401   215753           Прежний уровень     премиум                 да   \n",
       "619   215971           Прежний уровень    стандарт                 да   \n",
       "\n",
       "      маркет_актив_6_мес  маркет_актив_тек_мес  длительность  \\\n",
       "971                  4.1                     4           927   \n",
       "649                  5.3                     3           973   \n",
       "60                   2.9                     3           506   \n",
       "941                  4.4                     4           866   \n",
       "944                  5.1                     3           994   \n",
       "593                  4.0                     3          1007   \n",
       "133                  3.5                     4           720   \n",
       "142                  5.6                     5           372   \n",
       "453                  4.1                     4           808   \n",
       "409                  5.7                     4           565   \n",
       "1006                 4.1                     4           835   \n",
       "1012                 3.6                     4           514   \n",
       "571                  3.8                     3           724   \n",
       "1137                 6.6                     3           796   \n",
       "163                  4.0                     3           509   \n",
       "699                  4.4                     4           486   \n",
       "424                  4.4                     4           467   \n",
       "646                  4.4                     4           959   \n",
       "401                  5.5                     5           191   \n",
       "619                  5.2                     4           491   \n",
       "\n",
       "      акционные_покупки                  популярная_категория  \\\n",
       "971                0.24                     Домашний текстиль   \n",
       "649                0.17                     Домашний текстиль   \n",
       "60                 0.90                      Товары для детей   \n",
       "941                0.17  Мелкая бытовая техника и электроника   \n",
       "944                0.13                      Товары для детей   \n",
       "593                0.23                       Кухонная посуда   \n",
       "133                0.99                 Косметика и аксесуары   \n",
       "142                0.23                 Косметика и аксесуары   \n",
       "453                0.15  Мелкая бытовая техника и электроника   \n",
       "409                0.14                     Домашний текстиль   \n",
       "1006               0.13                     Домашний текстиль   \n",
       "1012               0.95                      Товары для детей   \n",
       "571                0.26                 Косметика и аксесуары   \n",
       "1137               0.21                     Домашний текстиль   \n",
       "163                0.94                 Косметика и аксесуары   \n",
       "699                0.12  Мелкая бытовая техника и электроника   \n",
       "424                0.15        Техника для красоты и здоровья   \n",
       "646                0.13  Мелкая бытовая техника и электроника   \n",
       "401                0.17                 Косметика и аксесуары   \n",
       "619                0.17  Мелкая бытовая техника и электроника   \n",
       "\n",
       "      cредний_просмотр_категорий_за_визит  неоплаченные_продукты_штук_квартал  \\\n",
       "971                                     2                                   5   \n",
       "649                                     4                                   2   \n",
       "60                                      1                                   5   \n",
       "941                                     3                                   1   \n",
       "944                                     4                                   3   \n",
       "593                                     2                                   3   \n",
       "133                                     1                                   2   \n",
       "142                                     1                                   6   \n",
       "453                                     4                                   2   \n",
       "409                                     5                                   1   \n",
       "1006                                    3                                   3   \n",
       "1012                                    4                                   4   \n",
       "571                                     1                                   0   \n",
       "1137                                    3                                   3   \n",
       "163                                     2                                   6   \n",
       "699                                     3                                   1   \n",
       "424                                     2                                   2   \n",
       "646                                     6                                   1   \n",
       "401                                     6                                   0   \n",
       "619                                     3                                   2   \n",
       "\n",
       "      ошибка_сервиса  страниц_за_визит  выручка_текущий_мес  \\\n",
       "971                4                11               6722.0   \n",
       "649                4                11               6835.4   \n",
       "60                 3                 4               5294.1   \n",
       "941                6                12               5109.0   \n",
       "944                1                 7               4859.5   \n",
       "593                6                 7               4044.8   \n",
       "133                4                 7               5065.5   \n",
       "142                2                 3               5784.5   \n",
       "453                3                13               4746.1   \n",
       "409                4                12               3713.8   \n",
       "1006               4                16               3544.8   \n",
       "1012               5                13               4375.1   \n",
       "571                4                13               4515.4   \n",
       "1137               2                 8               6532.6   \n",
       "163                4                 6               4067.9   \n",
       "699                2                11               4264.4   \n",
       "424                2                10               4798.8   \n",
       "646                3                 6               4472.0   \n",
       "401                4                 8               4168.0   \n",
       "619                2                 8               6485.0   \n",
       "\n",
       "      выручка_предыдущий_мес  выручка_препредыдущий_мес  \n",
       "971                   5584.5                     4422.0  \n",
       "649                   5700.5                     4541.0  \n",
       "60                    5499.5                     4607.0  \n",
       "941                   4985.5                     4993.0  \n",
       "944                   4645.0                     4742.0  \n",
       "593                   4420.5                     5004.0  \n",
       "133                   4201.0                     4234.0  \n",
       "142                   5258.0                     4502.0  \n",
       "453                   4126.0                     4691.0  \n",
       "409                   4252.0                     5023.0  \n",
       "1006                  4109.0                     4910.0  \n",
       "1012                  3547.0                     4352.0  \n",
       "571                   4602.5                     4853.0  \n",
       "1137                  5828.0                     5165.0  \n",
       "163                   4395.5                     4442.0  \n",
       "699                   4481.5                     4882.0  \n",
       "424                   4388.0                     4712.0  \n",
       "646                   4342.0                     4342.0  \n",
       "401                   4395.5                     4808.0  \n",
       "619                   5529.5                     4577.0  "
      ]
     },
     "execution_count": 36,
     "metadata": {},
     "output_type": "execute_result"
    }
   ],
   "source": [
    "df = (df_market.merge(df_now_mes, on='id')\n",
    "      .merge(df_pre_mes, on='id')\n",
    "      .merge(df_prepre_mes, on='id')\n",
    "      .reset_index(drop=True))\n",
    "\n",
    "print(df.shape)\n",
    "df.sample(20, random_state=1)"
   ]
  },
  {
   "cell_type": "markdown",
   "metadata": {},
   "source": [
    "**Проделаем то же самое с датасетом `df_market_time`:**"
   ]
  },
  {
   "cell_type": "code",
   "execution_count": 37,
   "metadata": {},
   "outputs": [],
   "source": [
    "df_time_now_mes = (df_market_time.query('период == \"текущий_месяц\"').drop(['период'], axis=1)\n",
    "              .rename(columns={'минут': 'минут_текущий_мес'}))\n",
    "df_time_pre_mes = (df_market_time.query('период == \"предыдущий_месяц\"').drop(['период'], axis=1)\n",
    "              .rename(columns={'минут': 'минут_предыдущий_мес'}))"
   ]
  },
  {
   "cell_type": "code",
   "execution_count": 38,
   "metadata": {
    "scrolled": true
   },
   "outputs": [
    {
     "name": "stdout",
     "output_type": "stream",
     "text": [
      "(1296, 18)\n"
     ]
    },
    {
     "data": {
      "text/html": [
       "<div>\n",
       "<style scoped>\n",
       "    .dataframe tbody tr th:only-of-type {\n",
       "        vertical-align: middle;\n",
       "    }\n",
       "\n",
       "    .dataframe tbody tr th {\n",
       "        vertical-align: top;\n",
       "    }\n",
       "\n",
       "    .dataframe thead th {\n",
       "        text-align: right;\n",
       "    }\n",
       "</style>\n",
       "<table border=\"1\" class=\"dataframe\">\n",
       "  <thead>\n",
       "    <tr style=\"text-align: right;\">\n",
       "      <th></th>\n",
       "      <th>id</th>\n",
       "      <th>покупательская_активность</th>\n",
       "      <th>тип_сервиса</th>\n",
       "      <th>разрешить_сообщать</th>\n",
       "      <th>маркет_актив_6_мес</th>\n",
       "      <th>маркет_актив_тек_мес</th>\n",
       "      <th>длительность</th>\n",
       "      <th>акционные_покупки</th>\n",
       "      <th>популярная_категория</th>\n",
       "      <th>cредний_просмотр_категорий_за_визит</th>\n",
       "      <th>неоплаченные_продукты_штук_квартал</th>\n",
       "      <th>ошибка_сервиса</th>\n",
       "      <th>страниц_за_визит</th>\n",
       "      <th>выручка_текущий_мес</th>\n",
       "      <th>выручка_предыдущий_мес</th>\n",
       "      <th>выручка_препредыдущий_мес</th>\n",
       "      <th>минут_текущий_мес</th>\n",
       "      <th>минут_предыдущий_мес</th>\n",
       "    </tr>\n",
       "  </thead>\n",
       "  <tbody>\n",
       "    <tr>\n",
       "      <th>971</th>\n",
       "      <td>216323</td>\n",
       "      <td>Прежний уровень</td>\n",
       "      <td>стандарт</td>\n",
       "      <td>да</td>\n",
       "      <td>4.1</td>\n",
       "      <td>4</td>\n",
       "      <td>927</td>\n",
       "      <td>0.24</td>\n",
       "      <td>Домашний текстиль</td>\n",
       "      <td>2</td>\n",
       "      <td>5</td>\n",
       "      <td>4</td>\n",
       "      <td>11</td>\n",
       "      <td>6722.0</td>\n",
       "      <td>5584.5</td>\n",
       "      <td>4422.0</td>\n",
       "      <td>14</td>\n",
       "      <td>14</td>\n",
       "    </tr>\n",
       "    <tr>\n",
       "      <th>649</th>\n",
       "      <td>216001</td>\n",
       "      <td>Прежний уровень</td>\n",
       "      <td>премиум</td>\n",
       "      <td>да</td>\n",
       "      <td>5.3</td>\n",
       "      <td>3</td>\n",
       "      <td>973</td>\n",
       "      <td>0.17</td>\n",
       "      <td>Домашний текстиль</td>\n",
       "      <td>4</td>\n",
       "      <td>2</td>\n",
       "      <td>4</td>\n",
       "      <td>11</td>\n",
       "      <td>6835.4</td>\n",
       "      <td>5700.5</td>\n",
       "      <td>4541.0</td>\n",
       "      <td>13</td>\n",
       "      <td>12</td>\n",
       "    </tr>\n",
       "    <tr>\n",
       "      <th>60</th>\n",
       "      <td>215412</td>\n",
       "      <td>Снизилась</td>\n",
       "      <td>премиум</td>\n",
       "      <td>да</td>\n",
       "      <td>2.9</td>\n",
       "      <td>3</td>\n",
       "      <td>506</td>\n",
       "      <td>0.90</td>\n",
       "      <td>Товары для детей</td>\n",
       "      <td>1</td>\n",
       "      <td>5</td>\n",
       "      <td>3</td>\n",
       "      <td>4</td>\n",
       "      <td>5294.1</td>\n",
       "      <td>5499.5</td>\n",
       "      <td>4607.0</td>\n",
       "      <td>9</td>\n",
       "      <td>10</td>\n",
       "    </tr>\n",
       "    <tr>\n",
       "      <th>941</th>\n",
       "      <td>216293</td>\n",
       "      <td>Прежний уровень</td>\n",
       "      <td>премиум</td>\n",
       "      <td>да</td>\n",
       "      <td>4.4</td>\n",
       "      <td>4</td>\n",
       "      <td>866</td>\n",
       "      <td>0.17</td>\n",
       "      <td>Мелкая бытовая техника и электроника</td>\n",
       "      <td>3</td>\n",
       "      <td>1</td>\n",
       "      <td>6</td>\n",
       "      <td>12</td>\n",
       "      <td>5109.0</td>\n",
       "      <td>4985.5</td>\n",
       "      <td>4993.0</td>\n",
       "      <td>10</td>\n",
       "      <td>19</td>\n",
       "    </tr>\n",
       "    <tr>\n",
       "      <th>944</th>\n",
       "      <td>216296</td>\n",
       "      <td>Прежний уровень</td>\n",
       "      <td>стандарт</td>\n",
       "      <td>да</td>\n",
       "      <td>5.1</td>\n",
       "      <td>3</td>\n",
       "      <td>994</td>\n",
       "      <td>0.13</td>\n",
       "      <td>Товары для детей</td>\n",
       "      <td>4</td>\n",
       "      <td>3</td>\n",
       "      <td>1</td>\n",
       "      <td>7</td>\n",
       "      <td>4859.5</td>\n",
       "      <td>4645.0</td>\n",
       "      <td>4742.0</td>\n",
       "      <td>13</td>\n",
       "      <td>10</td>\n",
       "    </tr>\n",
       "    <tr>\n",
       "      <th>593</th>\n",
       "      <td>215945</td>\n",
       "      <td>Прежний уровень</td>\n",
       "      <td>премиум</td>\n",
       "      <td>да</td>\n",
       "      <td>4.0</td>\n",
       "      <td>3</td>\n",
       "      <td>1007</td>\n",
       "      <td>0.23</td>\n",
       "      <td>Кухонная посуда</td>\n",
       "      <td>2</td>\n",
       "      <td>3</td>\n",
       "      <td>6</td>\n",
       "      <td>7</td>\n",
       "      <td>4044.8</td>\n",
       "      <td>4420.5</td>\n",
       "      <td>5004.0</td>\n",
       "      <td>23</td>\n",
       "      <td>19</td>\n",
       "    </tr>\n",
       "    <tr>\n",
       "      <th>133</th>\n",
       "      <td>215485</td>\n",
       "      <td>Снизилась</td>\n",
       "      <td>стандарт</td>\n",
       "      <td>да</td>\n",
       "      <td>3.5</td>\n",
       "      <td>4</td>\n",
       "      <td>720</td>\n",
       "      <td>0.99</td>\n",
       "      <td>Косметика и аксесуары</td>\n",
       "      <td>1</td>\n",
       "      <td>2</td>\n",
       "      <td>4</td>\n",
       "      <td>7</td>\n",
       "      <td>5065.5</td>\n",
       "      <td>4201.0</td>\n",
       "      <td>4234.0</td>\n",
       "      <td>14</td>\n",
       "      <td>10</td>\n",
       "    </tr>\n",
       "    <tr>\n",
       "      <th>142</th>\n",
       "      <td>215494</td>\n",
       "      <td>Снизилась</td>\n",
       "      <td>стандарт</td>\n",
       "      <td>нет</td>\n",
       "      <td>5.6</td>\n",
       "      <td>5</td>\n",
       "      <td>372</td>\n",
       "      <td>0.23</td>\n",
       "      <td>Косметика и аксесуары</td>\n",
       "      <td>1</td>\n",
       "      <td>6</td>\n",
       "      <td>2</td>\n",
       "      <td>3</td>\n",
       "      <td>5784.5</td>\n",
       "      <td>5258.0</td>\n",
       "      <td>4502.0</td>\n",
       "      <td>13</td>\n",
       "      <td>9</td>\n",
       "    </tr>\n",
       "    <tr>\n",
       "      <th>453</th>\n",
       "      <td>215805</td>\n",
       "      <td>Снизилась</td>\n",
       "      <td>стандарт</td>\n",
       "      <td>нет</td>\n",
       "      <td>4.1</td>\n",
       "      <td>4</td>\n",
       "      <td>808</td>\n",
       "      <td>0.15</td>\n",
       "      <td>Мелкая бытовая техника и электроника</td>\n",
       "      <td>4</td>\n",
       "      <td>2</td>\n",
       "      <td>3</td>\n",
       "      <td>13</td>\n",
       "      <td>4746.1</td>\n",
       "      <td>4126.0</td>\n",
       "      <td>4691.0</td>\n",
       "      <td>16</td>\n",
       "      <td>12</td>\n",
       "    </tr>\n",
       "    <tr>\n",
       "      <th>409</th>\n",
       "      <td>215761</td>\n",
       "      <td>Прежний уровень</td>\n",
       "      <td>стандарт</td>\n",
       "      <td>нет</td>\n",
       "      <td>5.7</td>\n",
       "      <td>4</td>\n",
       "      <td>565</td>\n",
       "      <td>0.14</td>\n",
       "      <td>Домашний текстиль</td>\n",
       "      <td>5</td>\n",
       "      <td>1</td>\n",
       "      <td>4</td>\n",
       "      <td>12</td>\n",
       "      <td>3713.8</td>\n",
       "      <td>4252.0</td>\n",
       "      <td>5023.0</td>\n",
       "      <td>18</td>\n",
       "      <td>12</td>\n",
       "    </tr>\n",
       "  </tbody>\n",
       "</table>\n",
       "</div>"
      ],
      "text/plain": [
       "         id покупательская_активность тип_сервиса разрешить_сообщать  \\\n",
       "971  216323           Прежний уровень    стандарт                 да   \n",
       "649  216001           Прежний уровень     премиум                 да   \n",
       "60   215412                 Снизилась     премиум                 да   \n",
       "941  216293           Прежний уровень     премиум                 да   \n",
       "944  216296           Прежний уровень    стандарт                 да   \n",
       "593  215945           Прежний уровень     премиум                 да   \n",
       "133  215485                 Снизилась    стандарт                 да   \n",
       "142  215494                 Снизилась    стандарт                нет   \n",
       "453  215805                 Снизилась    стандарт                нет   \n",
       "409  215761           Прежний уровень    стандарт                нет   \n",
       "\n",
       "     маркет_актив_6_мес  маркет_актив_тек_мес  длительность  \\\n",
       "971                 4.1                     4           927   \n",
       "649                 5.3                     3           973   \n",
       "60                  2.9                     3           506   \n",
       "941                 4.4                     4           866   \n",
       "944                 5.1                     3           994   \n",
       "593                 4.0                     3          1007   \n",
       "133                 3.5                     4           720   \n",
       "142                 5.6                     5           372   \n",
       "453                 4.1                     4           808   \n",
       "409                 5.7                     4           565   \n",
       "\n",
       "     акционные_покупки                  популярная_категория  \\\n",
       "971               0.24                     Домашний текстиль   \n",
       "649               0.17                     Домашний текстиль   \n",
       "60                0.90                      Товары для детей   \n",
       "941               0.17  Мелкая бытовая техника и электроника   \n",
       "944               0.13                      Товары для детей   \n",
       "593               0.23                       Кухонная посуда   \n",
       "133               0.99                 Косметика и аксесуары   \n",
       "142               0.23                 Косметика и аксесуары   \n",
       "453               0.15  Мелкая бытовая техника и электроника   \n",
       "409               0.14                     Домашний текстиль   \n",
       "\n",
       "     cредний_просмотр_категорий_за_визит  неоплаченные_продукты_штук_квартал  \\\n",
       "971                                    2                                   5   \n",
       "649                                    4                                   2   \n",
       "60                                     1                                   5   \n",
       "941                                    3                                   1   \n",
       "944                                    4                                   3   \n",
       "593                                    2                                   3   \n",
       "133                                    1                                   2   \n",
       "142                                    1                                   6   \n",
       "453                                    4                                   2   \n",
       "409                                    5                                   1   \n",
       "\n",
       "     ошибка_сервиса  страниц_за_визит  выручка_текущий_мес  \\\n",
       "971               4                11               6722.0   \n",
       "649               4                11               6835.4   \n",
       "60                3                 4               5294.1   \n",
       "941               6                12               5109.0   \n",
       "944               1                 7               4859.5   \n",
       "593               6                 7               4044.8   \n",
       "133               4                 7               5065.5   \n",
       "142               2                 3               5784.5   \n",
       "453               3                13               4746.1   \n",
       "409               4                12               3713.8   \n",
       "\n",
       "     выручка_предыдущий_мес  выручка_препредыдущий_мес  минут_текущий_мес  \\\n",
       "971                  5584.5                     4422.0                 14   \n",
       "649                  5700.5                     4541.0                 13   \n",
       "60                   5499.5                     4607.0                  9   \n",
       "941                  4985.5                     4993.0                 10   \n",
       "944                  4645.0                     4742.0                 13   \n",
       "593                  4420.5                     5004.0                 23   \n",
       "133                  4201.0                     4234.0                 14   \n",
       "142                  5258.0                     4502.0                 13   \n",
       "453                  4126.0                     4691.0                 16   \n",
       "409                  4252.0                     5023.0                 18   \n",
       "\n",
       "     минут_предыдущий_мес  \n",
       "971                    14  \n",
       "649                    12  \n",
       "60                     10  \n",
       "941                    19  \n",
       "944                    10  \n",
       "593                    19  \n",
       "133                    10  \n",
       "142                     9  \n",
       "453                    12  \n",
       "409                    12  "
      ]
     },
     "execution_count": 38,
     "metadata": {},
     "output_type": "execute_result"
    }
   ],
   "source": [
    "full_df = (df.merge(df_time_now_mes, on='id')\n",
    "           .merge(df_time_pre_mes, on='id')\n",
    "           .reset_index(drop=True))\n",
    "\n",
    "print(full_df.shape)\n",
    "full_df.sample(10, random_state=1)"
   ]
  },
  {
   "cell_type": "markdown",
   "metadata": {},
   "source": [
    "**Промежуточный вывод:**\n",
    "* Объединили датасеты в оди `full_df`.\n",
    "* Столбцы с выручкой и временем сессии разделили на несколько в зависимости от периода.\n",
    "* Итоговый датасет имеет 1296 записей клиентов с 18 признаками, включая уникальный id."
   ]
  },
  {
   "cell_type": "markdown",
   "metadata": {},
   "source": [
    "## Корреляционный анализ"
   ]
  },
  {
   "cell_type": "markdown",
   "metadata": {},
   "source": [
    "**Выведем корреляционную матрицу признаков. Т.к. не все признаки распределены нормально, будем использовать корреляцию Спирмана.**"
   ]
  },
  {
   "cell_type": "code",
   "execution_count": 39,
   "metadata": {},
   "outputs": [
    {
     "data": {
      "image/png": "[encoded data removed]",
      "text/plain": [
       "<Figure size 864x720 with 2 Axes>"
      ]
     },
     "metadata": {
      "needs_background": "light"
     },
     "output_type": "display_data"
    }
   ],
   "source": [
    "columns = ['маркет_актив_6_мес', 'маркет_актив_тек_мес', 'длительность', 'акционные_покупки',\n",
    "           'cредний_просмотр_категорий_за_визит', 'неоплаченные_продукты_штук_квартал', 'ошибка_сервиса',\n",
    "           'страниц_за_визит', 'выручка_текущий_мес', 'выручка_предыдущий_мес', 'выручка_препредыдущий_мес',\n",
    "           'минут_текущий_мес', 'минут_предыдущий_мес']\n",
    "plt.figure(figsize = (12,10))\n",
    "sns.heatmap(full_df[columns].corr(method=\"spearman\"), \n",
    "            annot=True, vmin=-1, fmt='.2g', linecolor='w', linewidths=1, cmap='ocean');"
   ]
  },
  {
   "cell_type": "markdown",
   "metadata": {},
   "source": [
    "**Наблюдается высокая корреляция между выручками за текущий и предыдущий месяцы. Мультиколиинеарности не обнаружено.**"
   ]
  },
  {
   "cell_type": "markdown",
   "metadata": {},
   "source": [
    "## Использование пайплайнов"
   ]
  },
  {
   "cell_type": "markdown",
   "metadata": {},
   "source": [
    "**Разобьем датасет на тренировочную и тестовую выборки, закодируем признаки и создадим пайплайн:**"
   ]
  },
  {
   "cell_type": "code",
   "execution_count": 40,
   "metadata": {},
   "outputs": [],
   "source": [
    "TEST_SIZE = 0.25\n",
    "RANDOM_STATE = 42\n",
    "\n",
    "X = full_df.drop(['покупательская_активность','id'], axis=1)\n",
    "y = full_df['покупательская_активность'] \n",
    "\n",
    "X_train, X_test, y_train, y_test = train_test_split(X,\n",
    "                                                    y,\n",
    "                                                    test_size = TEST_SIZE, \n",
    "                                                    random_state = RANDOM_STATE,\n",
    "                                                    stratify = y)\n",
    "\n",
    "#переведем строковые значения целевого признака в порядковые числа\n",
    "label_encoder = LabelEncoder()\n",
    "y_train_1 = label_encoder.fit_transform(y_train)\n",
    "y_test_1 = label_encoder.transform(y_test)\n",
    "\n",
    "\n",
    "cat_col = ['тип_сервиса', 'разрешить_сообщать', 'популярная_категория']\n",
    "\n",
    "num_col = ['маркет_актив_6_мес', 'маркет_актив_тек_мес', 'длительность', 'акционные_покупки',\n",
    "           'cредний_просмотр_категорий_за_визит', 'неоплаченные_продукты_штук_квартал', 'ошибка_сервиса',\n",
    "           'страниц_за_визит', 'выручка_текущий_мес', 'выручка_предыдущий_мес', 'выручка_препредыдущий_мес',\n",
    "           'минут_текущий_мес', 'минут_предыдущий_мес'] \n",
    "\n",
    "\n",
    "ohe_pipe = Pipeline(\n",
    "    [\n",
    "        ('simpleImputer_ohe', \n",
    "         SimpleImputer(missing_values=np.nan, \n",
    "                       strategy='most_frequent')), \n",
    "        ('ohe', \n",
    "         OneHotEncoder(drop='first', \n",
    "                       handle_unknown='ignore', \n",
    "                       sparse_output=False))\n",
    "    ]\n",
    ")\n",
    "\n",
    "ord_pipe = Pipeline(\n",
    "    [\n",
    "        ('simpleImputer_ohe', \n",
    "         SimpleImputer(missing_values=np.nan, \n",
    "                       strategy='most_frequent')),\n",
    "        ('ord', \n",
    "         OrdinalEncoder(categories=[\n",
    "             ['стандарт', 'премиум'], \n",
    "             ['да', 'нет'],\n",
    "             ['Товары для детей', 'Домашний текстиль', 'Косметика и аксесуары', 'Техника для красоты и здоровья',\n",
    "              'Кухонная посуда', 'Мелкая бытовая техника и электроника']], \n",
    "    handle_unknown='use_encoded_value', \n",
    "    unknown_value=np.nan))\n",
    "    ]\n",
    ")\n",
    "\n",
    "data_preprocessor = ColumnTransformer(\n",
    "    [\n",
    "        ('ohe', ohe_pipe, cat_col),\n",
    "        ('ord', ord_pipe, cat_col),\n",
    "        ('num', StandardScaler(), num_col)\n",
    "    ], \n",
    "    remainder='passthrough'\n",
    ")\n",
    "\n",
    "\n",
    "pipe_final = Pipeline([\n",
    "    ('preprocessor', data_preprocessor),\n",
    "    ('models', DecisionTreeClassifier(random_state=RANDOM_STATE))\n",
    "])\n",
    "\n",
    "#Параметры для передачи GridSearchCV для поиска оптимальной модели \n",
    "#с разными Scaler и Encoder\n",
    "\n",
    "param_distributions = [\n",
    "    {\n",
    "        'models': [KNeighborsClassifier()],\n",
    "        'models__n_neighbors': range(1, 20),\n",
    "        'preprocessor__num': [StandardScaler(), MinMaxScaler(), 'passthrough']   \n",
    "    },\n",
    "    {\n",
    "        'models': [DecisionTreeClassifier(random_state=RANDOM_STATE)],\n",
    "        'models__max_depth': range(2, 20),\n",
    "        'models__max_features': range(2,5),\n",
    "        'preprocessor__num': [StandardScaler(), MinMaxScaler(), 'passthrough']  \n",
    "    },\n",
    "    {\n",
    "        'models': [SVC(random_state=RANDOM_STATE, probability=True)],\n",
    "        'models__kernel': ['linear', 'rbf', 'poly'],\n",
    "        'preprocessor__num': [StandardScaler(), MinMaxScaler(), 'passthrough']  \n",
    "\n",
    "    },\n",
    "    {\n",
    "        'models': [LogisticRegression(random_state=RANDOM_STATE)],\n",
    "        'models__C': range(1,5),\n",
    "        'preprocessor__num': [StandardScaler(), MinMaxScaler(), 'passthrough']  \n",
    "    }\n",
    "] "
   ]
  },
  {
   "cell_type": "markdown",
   "metadata": {},
   "source": [
    "**Построим перебор методов маштабирования и самих моделей с помощью метода `GridSearchCV`. Т.к. в датасете объектов с одним значением целевого признака больше, чем с другим, будем использовать метрику ROC-AUC:**"
   ]
  },
  {
   "cell_type": "code",
   "execution_count": 41,
   "metadata": {
    "scrolled": true
   },
   "outputs": [
    {
     "name": "stderr",
     "output_type": "stream",
     "text": [
      "/opt/conda/lib/python3.9/site-packages/sklearn/linear_model/_logistic.py:469: ConvergenceWarning: lbfgs failed to converge (status=1):\n",
      "STOP: TOTAL NO. of ITERATIONS REACHED LIMIT.\n",
      "\n",
      "Increase the number of iterations (max_iter) or scale the data as shown in:\n",
      "    https://scikit-learn.org/stable/modules/preprocessing.html\n",
      "Please also refer to the documentation for alternative solver options:\n",
      "    https://scikit-learn.org/stable/modules/linear_model.html#logistic-regression\n",
      "  n_iter_i = _check_optimize_result(\n",
      "/opt/conda/lib/python3.9/site-packages/sklearn/linear_model/_logistic.py:469: ConvergenceWarning: lbfgs failed to converge (status=1):\n",
      "STOP: TOTAL NO. of ITERATIONS REACHED LIMIT.\n",
      "\n",
      "Increase the number of iterations (max_iter) or scale the data as shown in:\n",
      "    https://scikit-learn.org/stable/modules/preprocessing.html\n",
      "Please also refer to the documentation for alternative solver options:\n",
      "    https://scikit-learn.org/stable/modules/linear_model.html#logistic-regression\n",
      "  n_iter_i = _check_optimize_result(\n",
      "/opt/conda/lib/python3.9/site-packages/sklearn/linear_model/_logistic.py:469: ConvergenceWarning: lbfgs failed to converge (status=1):\n",
      "STOP: TOTAL NO. of ITERATIONS REACHED LIMIT.\n",
      "\n",
      "Increase the number of iterations (max_iter) or scale the data as shown in:\n",
      "    https://scikit-learn.org/stable/modules/preprocessing.html\n",
      "Please also refer to the documentation for alternative solver options:\n",
      "    https://scikit-learn.org/stable/modules/linear_model.html#logistic-regression\n",
      "  n_iter_i = _check_optimize_result(\n",
      "/opt/conda/lib/python3.9/site-packages/sklearn/linear_model/_logistic.py:469: ConvergenceWarning: lbfgs failed to converge (status=1):\n",
      "STOP: TOTAL NO. of ITERATIONS REACHED LIMIT.\n",
      "\n",
      "Increase the number of iterations (max_iter) or scale the data as shown in:\n",
      "    https://scikit-learn.org/stable/modules/preprocessing.html\n",
      "Please also refer to the documentation for alternative solver options:\n",
      "    https://scikit-learn.org/stable/modules/linear_model.html#logistic-regression\n",
      "  n_iter_i = _check_optimize_result(\n",
      "/opt/conda/lib/python3.9/site-packages/sklearn/linear_model/_logistic.py:469: ConvergenceWarning: lbfgs failed to converge (status=1):\n",
      "STOP: TOTAL NO. of ITERATIONS REACHED LIMIT.\n",
      "\n",
      "Increase the number of iterations (max_iter) or scale the data as shown in:\n",
      "    https://scikit-learn.org/stable/modules/preprocessing.html\n",
      "Please also refer to the documentation for alternative solver options:\n",
      "    https://scikit-learn.org/stable/modules/linear_model.html#logistic-regression\n",
      "  n_iter_i = _check_optimize_result(\n",
      "/opt/conda/lib/python3.9/site-packages/sklearn/linear_model/_logistic.py:469: ConvergenceWarning: lbfgs failed to converge (status=1):\n",
      "STOP: TOTAL NO. of ITERATIONS REACHED LIMIT.\n",
      "\n",
      "Increase the number of iterations (max_iter) or scale the data as shown in:\n",
      "    https://scikit-learn.org/stable/modules/preprocessing.html\n",
      "Please also refer to the documentation for alternative solver options:\n",
      "    https://scikit-learn.org/stable/modules/linear_model.html#logistic-regression\n",
      "  n_iter_i = _check_optimize_result(\n",
      "/opt/conda/lib/python3.9/site-packages/sklearn/linear_model/_logistic.py:469: ConvergenceWarning: lbfgs failed to converge (status=1):\n",
      "STOP: TOTAL NO. of ITERATIONS REACHED LIMIT.\n",
      "\n",
      "Increase the number of iterations (max_iter) or scale the data as shown in:\n",
      "    https://scikit-learn.org/stable/modules/preprocessing.html\n",
      "Please also refer to the documentation for alternative solver options:\n",
      "    https://scikit-learn.org/stable/modules/linear_model.html#logistic-regression\n",
      "  n_iter_i = _check_optimize_result(\n",
      "/opt/conda/lib/python3.9/site-packages/sklearn/linear_model/_logistic.py:469: ConvergenceWarning: lbfgs failed to converge (status=1):\n",
      "STOP: TOTAL NO. of ITERATIONS REACHED LIMIT.\n",
      "\n",
      "Increase the number of iterations (max_iter) or scale the data as shown in:\n",
      "    https://scikit-learn.org/stable/modules/preprocessing.html\n",
      "Please also refer to the documentation for alternative solver options:\n",
      "    https://scikit-learn.org/stable/modules/linear_model.html#logistic-regression\n",
      "  n_iter_i = _check_optimize_result(\n",
      "/opt/conda/lib/python3.9/site-packages/sklearn/linear_model/_logistic.py:469: ConvergenceWarning: lbfgs failed to converge (status=1):\n",
      "STOP: TOTAL NO. of ITERATIONS REACHED LIMIT.\n",
      "\n",
      "Increase the number of iterations (max_iter) or scale the data as shown in:\n",
      "    https://scikit-learn.org/stable/modules/preprocessing.html\n",
      "Please also refer to the documentation for alternative solver options:\n",
      "    https://scikit-learn.org/stable/modules/linear_model.html#logistic-regression\n",
      "  n_iter_i = _check_optimize_result(\n",
      "/opt/conda/lib/python3.9/site-packages/sklearn/linear_model/_logistic.py:469: ConvergenceWarning: lbfgs failed to converge (status=1):\n",
      "STOP: TOTAL NO. of ITERATIONS REACHED LIMIT.\n",
      "\n",
      "Increase the number of iterations (max_iter) or scale the data as shown in:\n",
      "    https://scikit-learn.org/stable/modules/preprocessing.html\n",
      "Please also refer to the documentation for alternative solver options:\n",
      "    https://scikit-learn.org/stable/modules/linear_model.html#logistic-regression\n",
      "  n_iter_i = _check_optimize_result(\n",
      "/opt/conda/lib/python3.9/site-packages/sklearn/linear_model/_logistic.py:469: ConvergenceWarning: lbfgs failed to converge (status=1):\n",
      "STOP: TOTAL NO. of ITERATIONS REACHED LIMIT.\n",
      "\n",
      "Increase the number of iterations (max_iter) or scale the data as shown in:\n",
      "    https://scikit-learn.org/stable/modules/preprocessing.html\n",
      "Please also refer to the documentation for alternative solver options:\n",
      "    https://scikit-learn.org/stable/modules/linear_model.html#logistic-regression\n",
      "  n_iter_i = _check_optimize_result(\n",
      "/opt/conda/lib/python3.9/site-packages/sklearn/linear_model/_logistic.py:469: ConvergenceWarning: lbfgs failed to converge (status=1):\n",
      "STOP: TOTAL NO. of ITERATIONS REACHED LIMIT.\n",
      "\n",
      "Increase the number of iterations (max_iter) or scale the data as shown in:\n",
      "    https://scikit-learn.org/stable/modules/preprocessing.html\n",
      "Please also refer to the documentation for alternative solver options:\n",
      "    https://scikit-learn.org/stable/modules/linear_model.html#logistic-regression\n",
      "  n_iter_i = _check_optimize_result(\n",
      "/opt/conda/lib/python3.9/site-packages/sklearn/linear_model/_logistic.py:469: ConvergenceWarning: lbfgs failed to converge (status=1):\n",
      "STOP: TOTAL NO. of ITERATIONS REACHED LIMIT.\n",
      "\n",
      "Increase the number of iterations (max_iter) or scale the data as shown in:\n",
      "    https://scikit-learn.org/stable/modules/preprocessing.html\n",
      "Please also refer to the documentation for alternative solver options:\n",
      "    https://scikit-learn.org/stable/modules/linear_model.html#logistic-regression\n",
      "  n_iter_i = _check_optimize_result(\n",
      "/opt/conda/lib/python3.9/site-packages/sklearn/linear_model/_logistic.py:469: ConvergenceWarning: lbfgs failed to converge (status=1):\n",
      "STOP: TOTAL NO. of ITERATIONS REACHED LIMIT.\n",
      "\n",
      "Increase the number of iterations (max_iter) or scale the data as shown in:\n",
      "    https://scikit-learn.org/stable/modules/preprocessing.html\n",
      "Please also refer to the documentation for alternative solver options:\n",
      "    https://scikit-learn.org/stable/modules/linear_model.html#logistic-regression\n",
      "  n_iter_i = _check_optimize_result(\n",
      "/opt/conda/lib/python3.9/site-packages/sklearn/linear_model/_logistic.py:469: ConvergenceWarning: lbfgs failed to converge (status=1):\n",
      "STOP: TOTAL NO. of ITERATIONS REACHED LIMIT.\n",
      "\n",
      "Increase the number of iterations (max_iter) or scale the data as shown in:\n",
      "    https://scikit-learn.org/stable/modules/preprocessing.html\n",
      "Please also refer to the documentation for alternative solver options:\n",
      "    https://scikit-learn.org/stable/modules/linear_model.html#logistic-regression\n",
      "  n_iter_i = _check_optimize_result(\n",
      "/opt/conda/lib/python3.9/site-packages/sklearn/linear_model/_logistic.py:469: ConvergenceWarning: lbfgs failed to converge (status=1):\n",
      "STOP: TOTAL NO. of ITERATIONS REACHED LIMIT.\n",
      "\n",
      "Increase the number of iterations (max_iter) or scale the data as shown in:\n",
      "    https://scikit-learn.org/stable/modules/preprocessing.html\n",
      "Please also refer to the documentation for alternative solver options:\n",
      "    https://scikit-learn.org/stable/modules/linear_model.html#logistic-regression\n",
      "  n_iter_i = _check_optimize_result(\n",
      "/opt/conda/lib/python3.9/site-packages/sklearn/linear_model/_logistic.py:469: ConvergenceWarning: lbfgs failed to converge (status=1):\n",
      "STOP: TOTAL NO. of ITERATIONS REACHED LIMIT.\n",
      "\n",
      "Increase the number of iterations (max_iter) or scale the data as shown in:\n",
      "    https://scikit-learn.org/stable/modules/preprocessing.html\n",
      "Please also refer to the documentation for alternative solver options:\n",
      "    https://scikit-learn.org/stable/modules/linear_model.html#logistic-regression\n",
      "  n_iter_i = _check_optimize_result(\n",
      "/opt/conda/lib/python3.9/site-packages/sklearn/linear_model/_logistic.py:469: ConvergenceWarning: lbfgs failed to converge (status=1):\n",
      "STOP: TOTAL NO. of ITERATIONS REACHED LIMIT.\n",
      "\n",
      "Increase the number of iterations (max_iter) or scale the data as shown in:\n",
      "    https://scikit-learn.org/stable/modules/preprocessing.html\n",
      "Please also refer to the documentation for alternative solver options:\n",
      "    https://scikit-learn.org/stable/modules/linear_model.html#logistic-regression\n",
      "  n_iter_i = _check_optimize_result(\n",
      "/opt/conda/lib/python3.9/site-packages/sklearn/linear_model/_logistic.py:469: ConvergenceWarning: lbfgs failed to converge (status=1):\n",
      "STOP: TOTAL NO. of ITERATIONS REACHED LIMIT.\n",
      "\n",
      "Increase the number of iterations (max_iter) or scale the data as shown in:\n",
      "    https://scikit-learn.org/stable/modules/preprocessing.html\n",
      "Please also refer to the documentation for alternative solver options:\n",
      "    https://scikit-learn.org/stable/modules/linear_model.html#logistic-regression\n",
      "  n_iter_i = _check_optimize_result(\n",
      "/opt/conda/lib/python3.9/site-packages/sklearn/linear_model/_logistic.py:469: ConvergenceWarning: lbfgs failed to converge (status=1):\n",
      "STOP: TOTAL NO. of ITERATIONS REACHED LIMIT.\n",
      "\n",
      "Increase the number of iterations (max_iter) or scale the data as shown in:\n",
      "    https://scikit-learn.org/stable/modules/preprocessing.html\n",
      "Please also refer to the documentation for alternative solver options:\n",
      "    https://scikit-learn.org/stable/modules/linear_model.html#logistic-regression\n",
      "  n_iter_i = _check_optimize_result(\n"
     ]
    },
    {
     "name": "stdout",
     "output_type": "stream",
     "text": [
      "Метрика ROC-AUC лучшей модели:\n",
      " 0.9067477130022585\n",
      "Лучшая модель и её параметры:\n",
      "\n",
      " {'models': SVC(probability=True, random_state=42), 'models__kernel': 'rbf', 'preprocessor__num': StandardScaler()}\n"
     ]
    }
   ],
   "source": [
    "grid = GridSearchCV(\n",
    "    pipe_final, \n",
    "    param_grid=param_distributions, \n",
    "    cv=5, \n",
    "    scoring='roc_auc', \n",
    "    n_jobs=-1)\n",
    "\n",
    "grid.fit(X_train, y_train_1)\n",
    "\n",
    "print('Метрика ROC-AUC лучшей модели:\\n', grid.best_score_) \n",
    "print('Лучшая модель и её параметры:\\n\\n', grid.best_params_)"
   ]
  },
  {
   "cell_type": "markdown",
   "metadata": {},
   "source": [
    "**Даже после перебора гиперпараметров лучшая модель и значение метрики модели не изменились. Применим модель к тестовым данным:**"
   ]
  },
  {
   "cell_type": "code",
   "execution_count": 42,
   "metadata": {},
   "outputs": [
    {
     "name": "stdout",
     "output_type": "stream",
     "text": [
      "Метрика ROC-AUC на тестовой выборке: 0.9120252396553817\n"
     ]
    }
   ],
   "source": [
    "y_pred = grid.predict_proba(X_test)\n",
    "print(f'Метрика ROC-AUC на тестовой выборке: {roc_auc_score(y_test_1, y_pred[:, 1])}')"
   ]
  },
  {
   "cell_type": "markdown",
   "metadata": {},
   "source": [
    "**На тестовой выборке модель показала себя еще лучше. Отличный результат.**"
   ]
  },
  {
   "cell_type": "markdown",
   "metadata": {},
   "source": [
    "## Анализ важности признаков"
   ]
  },
  {
   "cell_type": "markdown",
   "metadata": {},
   "source": [
    "**Займемся оценкой важности признаков модели:**"
   ]
  },
  {
   "cell_type": "code",
   "execution_count": 43,
   "metadata": {},
   "outputs": [
    {
     "data": {
      "text/html": [
       "<style>#sk-container-id-1 {\n",
       "  /* Definition of color scheme common for light and dark mode */\n",
       "  --sklearn-color-text: black;\n",
       "  --sklearn-color-line: gray;\n",
       "  /* Definition of color scheme for unfitted estimators */\n",
       "  --sklearn-color-unfitted-level-0: #fff5e6;\n",
       "  --sklearn-color-unfitted-level-1: #f6e4d2;\n",
       "  --sklearn-color-unfitted-level-2: #ffe0b3;\n",
       "  --sklearn-color-unfitted-level-3: chocolate;\n",
       "  /* Definition of color scheme for fitted estimators */\n",
       "  --sklearn-color-fitted-level-0: #f0f8ff;\n",
       "  --sklearn-color-fitted-level-1: #d4ebff;\n",
       "  --sklearn-color-fitted-level-2: #b3dbfd;\n",
       "  --sklearn-color-fitted-level-3: cornflowerblue;\n",
       "\n",
       "  /* Specific color for light theme */\n",
       "  --sklearn-color-text-on-default-background: var(--sg-text-color, var(--theme-code-foreground, var(--jp-content-font-color1, black)));\n",
       "  --sklearn-color-background: var(--sg-background-color, var(--theme-background, var(--jp-layout-color0, white)));\n",
       "  --sklearn-color-border-box: var(--sg-text-color, var(--theme-code-foreground, var(--jp-content-font-color1, black)));\n",
       "  --sklearn-color-icon: #696969;\n",
       "\n",
       "  @media (prefers-color-scheme: dark) {\n",
       "    /* Redefinition of color scheme for dark theme */\n",
       "    --sklearn-color-text-on-default-background: var(--sg-text-color, var(--theme-code-foreground, var(--jp-content-font-color1, white)));\n",
       "    --sklearn-color-background: var(--sg-background-color, var(--theme-background, var(--jp-layout-color0, #111)));\n",
       "    --sklearn-color-border-box: var(--sg-text-color, var(--theme-code-foreground, var(--jp-content-font-color1, white)));\n",
       "    --sklearn-color-icon: #878787;\n",
       "  }\n",
       "}\n",
       "\n",
       "#sk-container-id-1 {\n",
       "  color: var(--sklearn-color-text);\n",
       "}\n",
       "\n",
       "#sk-container-id-1 pre {\n",
       "  padding: 0;\n",
       "}\n",
       "\n",
       "#sk-container-id-1 input.sk-hidden--visually {\n",
       "  border: 0;\n",
       "  clip: rect(1px 1px 1px 1px);\n",
       "  clip: rect(1px, 1px, 1px, 1px);\n",
       "  height: 1px;\n",
       "  margin: -1px;\n",
       "  overflow: hidden;\n",
       "  padding: 0;\n",
       "  position: absolute;\n",
       "  width: 1px;\n",
       "}\n",
       "\n",
       "#sk-container-id-1 div.sk-dashed-wrapped {\n",
       "  border: 1px dashed var(--sklearn-color-line);\n",
       "  margin: 0 0.4em 0.5em 0.4em;\n",
       "  box-sizing: border-box;\n",
       "  padding-bottom: 0.4em;\n",
       "  background-color: var(--sklearn-color-background);\n",
       "}\n",
       "\n",
       "#sk-container-id-1 div.sk-container {\n",
       "  /* jupyter's `normalize.less` sets `[hidden] { display: none; }`\n",
       "     but bootstrap.min.css set `[hidden] { display: none !important; }`\n",
       "     so we also need the `!important` here to be able to override the\n",
       "     default hidden behavior on the sphinx rendered scikit-learn.org.\n",
       "     See: https://github.com/scikit-learn/scikit-learn/issues/21755 */\n",
       "  display: inline-block !important;\n",
       "  position: relative;\n",
       "}\n",
       "\n",
       "#sk-container-id-1 div.sk-text-repr-fallback {\n",
       "  display: none;\n",
       "}\n",
       "\n",
       "div.sk-parallel-item,\n",
       "div.sk-serial,\n",
       "div.sk-item {\n",
       "  /* draw centered vertical line to link estimators */\n",
       "  background-image: linear-gradient(var(--sklearn-color-text-on-default-background), var(--sklearn-color-text-on-default-background));\n",
       "  background-size: 2px 100%;\n",
       "  background-repeat: no-repeat;\n",
       "  background-position: center center;\n",
       "}\n",
       "\n",
       "/* Parallel-specific style estimator block */\n",
       "\n",
       "#sk-container-id-1 div.sk-parallel-item::after {\n",
       "  content: \"\";\n",
       "  width: 100%;\n",
       "  border-bottom: 2px solid var(--sklearn-color-text-on-default-background);\n",
       "  flex-grow: 1;\n",
       "}\n",
       "\n",
       "#sk-container-id-1 div.sk-parallel {\n",
       "  display: flex;\n",
       "  align-items: stretch;\n",
       "  justify-content: center;\n",
       "  background-color: var(--sklearn-color-background);\n",
       "  position: relative;\n",
       "}\n",
       "\n",
       "#sk-container-id-1 div.sk-parallel-item {\n",
       "  display: flex;\n",
       "  flex-direction: column;\n",
       "}\n",
       "\n",
       "#sk-container-id-1 div.sk-parallel-item:first-child::after {\n",
       "  align-self: flex-end;\n",
       "  width: 50%;\n",
       "}\n",
       "\n",
       "#sk-container-id-1 div.sk-parallel-item:last-child::after {\n",
       "  align-self: flex-start;\n",
       "  width: 50%;\n",
       "}\n",
       "\n",
       "#sk-container-id-1 div.sk-parallel-item:only-child::after {\n",
       "  width: 0;\n",
       "}\n",
       "\n",
       "/* Serial-specific style estimator block */\n",
       "\n",
       "#sk-container-id-1 div.sk-serial {\n",
       "  display: flex;\n",
       "  flex-direction: column;\n",
       "  align-items: center;\n",
       "  background-color: var(--sklearn-color-background);\n",
       "  padding-right: 1em;\n",
       "  padding-left: 1em;\n",
       "}\n",
       "\n",
       "\n",
       "/* Toggleable style: style used for estimator/Pipeline/ColumnTransformer box that is\n",
       "clickable and can be expanded/collapsed.\n",
       "- Pipeline and ColumnTransformer use this feature and define the default style\n",
       "- Estimators will overwrite some part of the style using the `sk-estimator` class\n",
       "*/\n",
       "\n",
       "/* Pipeline and ColumnTransformer style (default) */\n",
       "\n",
       "#sk-container-id-1 div.sk-toggleable {\n",
       "  /* Default theme specific background. It is overwritten whether we have a\n",
       "  specific estimator or a Pipeline/ColumnTransformer */\n",
       "  background-color: var(--sklearn-color-background);\n",
       "}\n",
       "\n",
       "/* Toggleable label */\n",
       "#sk-container-id-1 label.sk-toggleable__label {\n",
       "  cursor: pointer;\n",
       "  display: block;\n",
       "  width: 100%;\n",
       "  margin-bottom: 0;\n",
       "  padding: 0.5em;\n",
       "  box-sizing: border-box;\n",
       "  text-align: center;\n",
       "}\n",
       "\n",
       "#sk-container-id-1 label.sk-toggleable__label-arrow:before {\n",
       "  /* Arrow on the left of the label */\n",
       "  content: \"▸\";\n",
       "  float: left;\n",
       "  margin-right: 0.25em;\n",
       "  color: var(--sklearn-color-icon);\n",
       "}\n",
       "\n",
       "#sk-container-id-1 label.sk-toggleable__label-arrow:hover:before {\n",
       "  color: var(--sklearn-color-text);\n",
       "}\n",
       "\n",
       "/* Toggleable content - dropdown */\n",
       "\n",
       "#sk-container-id-1 div.sk-toggleable__content {\n",
       "  max-height: 0;\n",
       "  max-width: 0;\n",
       "  overflow: hidden;\n",
       "  text-align: left;\n",
       "  /* unfitted */\n",
       "  background-color: var(--sklearn-color-unfitted-level-0);\n",
       "}\n",
       "\n",
       "#sk-container-id-1 div.sk-toggleable__content.fitted {\n",
       "  /* fitted */\n",
       "  background-color: var(--sklearn-color-fitted-level-0);\n",
       "}\n",
       "\n",
       "#sk-container-id-1 div.sk-toggleable__content pre {\n",
       "  margin: 0.2em;\n",
       "  border-radius: 0.25em;\n",
       "  color: var(--sklearn-color-text);\n",
       "  /* unfitted */\n",
       "  background-color: var(--sklearn-color-unfitted-level-0);\n",
       "}\n",
       "\n",
       "#sk-container-id-1 div.sk-toggleable__content.fitted pre {\n",
       "  /* unfitted */\n",
       "  background-color: var(--sklearn-color-fitted-level-0);\n",
       "}\n",
       "\n",
       "#sk-container-id-1 input.sk-toggleable__control:checked~div.sk-toggleable__content {\n",
       "  /* Expand drop-down */\n",
       "  max-height: 200px;\n",
       "  max-width: 100%;\n",
       "  overflow: auto;\n",
       "}\n",
       "\n",
       "#sk-container-id-1 input.sk-toggleable__control:checked~label.sk-toggleable__label-arrow:before {\n",
       "  content: \"▾\";\n",
       "}\n",
       "\n",
       "/* Pipeline/ColumnTransformer-specific style */\n",
       "\n",
       "#sk-container-id-1 div.sk-label input.sk-toggleable__control:checked~label.sk-toggleable__label {\n",
       "  color: var(--sklearn-color-text);\n",
       "  background-color: var(--sklearn-color-unfitted-level-2);\n",
       "}\n",
       "\n",
       "#sk-container-id-1 div.sk-label.fitted input.sk-toggleable__control:checked~label.sk-toggleable__label {\n",
       "  background-color: var(--sklearn-color-fitted-level-2);\n",
       "}\n",
       "\n",
       "/* Estimator-specific style */\n",
       "\n",
       "/* Colorize estimator box */\n",
       "#sk-container-id-1 div.sk-estimator input.sk-toggleable__control:checked~label.sk-toggleable__label {\n",
       "  /* unfitted */\n",
       "  background-color: var(--sklearn-color-unfitted-level-2);\n",
       "}\n",
       "\n",
       "#sk-container-id-1 div.sk-estimator.fitted input.sk-toggleable__control:checked~label.sk-toggleable__label {\n",
       "  /* fitted */\n",
       "  background-color: var(--sklearn-color-fitted-level-2);\n",
       "}\n",
       "\n",
       "#sk-container-id-1 div.sk-label label.sk-toggleable__label,\n",
       "#sk-container-id-1 div.sk-label label {\n",
       "  /* The background is the default theme color */\n",
       "  color: var(--sklearn-color-text-on-default-background);\n",
       "}\n",
       "\n",
       "/* On hover, darken the color of the background */\n",
       "#sk-container-id-1 div.sk-label:hover label.sk-toggleable__label {\n",
       "  color: var(--sklearn-color-text);\n",
       "  background-color: var(--sklearn-color-unfitted-level-2);\n",
       "}\n",
       "\n",
       "/* Label box, darken color on hover, fitted */\n",
       "#sk-container-id-1 div.sk-label.fitted:hover label.sk-toggleable__label.fitted {\n",
       "  color: var(--sklearn-color-text);\n",
       "  background-color: var(--sklearn-color-fitted-level-2);\n",
       "}\n",
       "\n",
       "/* Estimator label */\n",
       "\n",
       "#sk-container-id-1 div.sk-label label {\n",
       "  font-family: monospace;\n",
       "  font-weight: bold;\n",
       "  display: inline-block;\n",
       "  line-height: 1.2em;\n",
       "}\n",
       "\n",
       "#sk-container-id-1 div.sk-label-container {\n",
       "  text-align: center;\n",
       "}\n",
       "\n",
       "/* Estimator-specific */\n",
       "#sk-container-id-1 div.sk-estimator {\n",
       "  font-family: monospace;\n",
       "  border: 1px dotted var(--sklearn-color-border-box);\n",
       "  border-radius: 0.25em;\n",
       "  box-sizing: border-box;\n",
       "  margin-bottom: 0.5em;\n",
       "  /* unfitted */\n",
       "  background-color: var(--sklearn-color-unfitted-level-0);\n",
       "}\n",
       "\n",
       "#sk-container-id-1 div.sk-estimator.fitted {\n",
       "  /* fitted */\n",
       "  background-color: var(--sklearn-color-fitted-level-0);\n",
       "}\n",
       "\n",
       "/* on hover */\n",
       "#sk-container-id-1 div.sk-estimator:hover {\n",
       "  /* unfitted */\n",
       "  background-color: var(--sklearn-color-unfitted-level-2);\n",
       "}\n",
       "\n",
       "#sk-container-id-1 div.sk-estimator.fitted:hover {\n",
       "  /* fitted */\n",
       "  background-color: var(--sklearn-color-fitted-level-2);\n",
       "}\n",
       "\n",
       "/* Specification for estimator info (e.g. \"i\" and \"?\") */\n",
       "\n",
       "/* Common style for \"i\" and \"?\" */\n",
       "\n",
       ".sk-estimator-doc-link,\n",
       "a:link.sk-estimator-doc-link,\n",
       "a:visited.sk-estimator-doc-link {\n",
       "  float: right;\n",
       "  font-size: smaller;\n",
       "  line-height: 1em;\n",
       "  font-family: monospace;\n",
       "  background-color: var(--sklearn-color-background);\n",
       "  border-radius: 1em;\n",
       "  height: 1em;\n",
       "  width: 1em;\n",
       "  text-decoration: none !important;\n",
       "  margin-left: 1ex;\n",
       "  /* unfitted */\n",
       "  border: var(--sklearn-color-unfitted-level-1) 1pt solid;\n",
       "  color: var(--sklearn-color-unfitted-level-1);\n",
       "}\n",
       "\n",
       ".sk-estimator-doc-link.fitted,\n",
       "a:link.sk-estimator-doc-link.fitted,\n",
       "a:visited.sk-estimator-doc-link.fitted {\n",
       "  /* fitted */\n",
       "  border: var(--sklearn-color-fitted-level-1) 1pt solid;\n",
       "  color: var(--sklearn-color-fitted-level-1);\n",
       "}\n",
       "\n",
       "/* On hover */\n",
       "div.sk-estimator:hover .sk-estimator-doc-link:hover,\n",
       ".sk-estimator-doc-link:hover,\n",
       "div.sk-label-container:hover .sk-estimator-doc-link:hover,\n",
       ".sk-estimator-doc-link:hover {\n",
       "  /* unfitted */\n",
       "  background-color: var(--sklearn-color-unfitted-level-3);\n",
       "  color: var(--sklearn-color-background);\n",
       "  text-decoration: none;\n",
       "}\n",
       "\n",
       "div.sk-estimator.fitted:hover .sk-estimator-doc-link.fitted:hover,\n",
       ".sk-estimator-doc-link.fitted:hover,\n",
       "div.sk-label-container:hover .sk-estimator-doc-link.fitted:hover,\n",
       ".sk-estimator-doc-link.fitted:hover {\n",
       "  /* fitted */\n",
       "  background-color: var(--sklearn-color-fitted-level-3);\n",
       "  color: var(--sklearn-color-background);\n",
       "  text-decoration: none;\n",
       "}\n",
       "\n",
       "/* Span, style for the box shown on hovering the info icon */\n",
       ".sk-estimator-doc-link span {\n",
       "  display: none;\n",
       "  z-index: 9999;\n",
       "  position: relative;\n",
       "  font-weight: normal;\n",
       "  right: .2ex;\n",
       "  padding: .5ex;\n",
       "  margin: .5ex;\n",
       "  width: min-content;\n",
       "  min-width: 20ex;\n",
       "  max-width: 50ex;\n",
       "  color: var(--sklearn-color-text);\n",
       "  box-shadow: 2pt 2pt 4pt #999;\n",
       "  /* unfitted */\n",
       "  background: var(--sklearn-color-unfitted-level-0);\n",
       "  border: .5pt solid var(--sklearn-color-unfitted-level-3);\n",
       "}\n",
       "\n",
       ".sk-estimator-doc-link.fitted span {\n",
       "  /* fitted */\n",
       "  background: var(--sklearn-color-fitted-level-0);\n",
       "  border: var(--sklearn-color-fitted-level-3);\n",
       "}\n",
       "\n",
       ".sk-estimator-doc-link:hover span {\n",
       "  display: block;\n",
       "}\n",
       "\n",
       "/* \"?\"-specific style due to the `<a>` HTML tag */\n",
       "\n",
       "#sk-container-id-1 a.estimator_doc_link {\n",
       "  float: right;\n",
       "  font-size: 1rem;\n",
       "  line-height: 1em;\n",
       "  font-family: monospace;\n",
       "  background-color: var(--sklearn-color-background);\n",
       "  border-radius: 1rem;\n",
       "  height: 1rem;\n",
       "  width: 1rem;\n",
       "  text-decoration: none;\n",
       "  /* unfitted */\n",
       "  color: var(--sklearn-color-unfitted-level-1);\n",
       "  border: var(--sklearn-color-unfitted-level-1) 1pt solid;\n",
       "}\n",
       "\n",
       "#sk-container-id-1 a.estimator_doc_link.fitted {\n",
       "  /* fitted */\n",
       "  border: var(--sklearn-color-fitted-level-1) 1pt solid;\n",
       "  color: var(--sklearn-color-fitted-level-1);\n",
       "}\n",
       "\n",
       "/* On hover */\n",
       "#sk-container-id-1 a.estimator_doc_link:hover {\n",
       "  /* unfitted */\n",
       "  background-color: var(--sklearn-color-unfitted-level-3);\n",
       "  color: var(--sklearn-color-background);\n",
       "  text-decoration: none;\n",
       "}\n",
       "\n",
       "#sk-container-id-1 a.estimator_doc_link.fitted:hover {\n",
       "  /* fitted */\n",
       "  background-color: var(--sklearn-color-fitted-level-3);\n",
       "}\n",
       "</style><div id=\"sk-container-id-1\" class=\"sk-top-container\"><div class=\"sk-text-repr-fallback\"><pre>SVC(kernel=&#x27;linear&#x27;, probability=True, random_state=42)</pre><b>In a Jupyter environment, please rerun this cell to show the HTML representation or trust the notebook. <br />On GitHub, the HTML representation is unable to render, please try loading this page with nbviewer.org.</b></div><div class=\"sk-container\" hidden><div class=\"sk-item\"><div class=\"sk-estimator fitted sk-toggleable\"><input class=\"sk-toggleable__control sk-hidden--visually\" id=\"sk-estimator-id-1\" type=\"checkbox\" checked><label for=\"sk-estimator-id-1\" class=\"sk-toggleable__label fitted sk-toggleable__label-arrow fitted\">&nbsp;&nbsp;SVC<a class=\"sk-estimator-doc-link fitted\" rel=\"noreferrer\" target=\"_blank\" href=\"https://scikit-learn.org/1.5/modules/generated/sklearn.svm.SVC.html\">?<span>Documentation for SVC</span></a><span class=\"sk-estimator-doc-link fitted\">i<span>Fitted</span></span></label><div class=\"sk-toggleable__content fitted\"><pre>SVC(kernel=&#x27;linear&#x27;, probability=True, random_state=42)</pre></div> </div></div></div></div>"
      ],
      "text/plain": [
       "SVC(kernel='linear', probability=True, random_state=42)"
      ]
     },
     "execution_count": 43,
     "metadata": {},
     "output_type": "execute_result"
    }
   ],
   "source": [
    "ohe_encoder = OneHotEncoder(drop='first', handle_unknown='ignore', sparse_output=False)\n",
    "\n",
    "X_train_ohe = ohe_encoder.fit_transform(X_train[cat_col])\n",
    "X_test_ohe = ohe_encoder.transform(X_test[cat_col])\n",
    "ohe_encoder_col_names = ohe_encoder.get_feature_names_out()\n",
    "\n",
    "\n",
    "scaler = StandardScaler()\n",
    "X_train_scaled = scaler.fit_transform(X_train[num_col])\n",
    "X_test_scaled = scaler.transform(X_test[num_col])\n",
    "\n",
    "\n",
    "X_train_ohe = pd.DataFrame(X_train_ohe, columns=ohe_encoder_col_names)\n",
    "X_test_ohe = pd.DataFrame(X_test_ohe, columns=ohe_encoder_col_names)\n",
    "\n",
    "\n",
    "X_train_scaled = pd.DataFrame(X_train_scaled, columns=num_col)\n",
    "X_test_scaled = pd.DataFrame(X_test_scaled, columns=num_col)\n",
    "\n",
    "\n",
    "X_train_final = pd.concat([X_train_ohe, X_train_scaled], axis=1)\n",
    "X_test_final = pd.concat([X_test_ohe, X_test_scaled], axis=1)\n",
    "\n",
    "model = SVC(kernel='linear', probability=True, random_state=42)\n",
    "model.fit(X_train_final, y_train_1)"
   ]
  },
  {
   "cell_type": "code",
   "execution_count": 44,
   "metadata": {},
   "outputs": [
    {
     "data": {
      "image/png": "[encoded data removed]",
      "text/plain": [
       "<Figure size 576x396 with 2 Axes>"
      ]
     },
     "metadata": {
      "needs_background": "light"
     },
     "output_type": "display_data"
    }
   ],
   "source": [
    "explainer = shap.LinearExplainer(model, X_test_final)\n",
    "shap_values = explainer(X_test_final)\n",
    "\n",
    "plt.title('График важности признаков', size=15)\n",
    "shap.plots.beeswarm(shap_values, order=shap_values.abs.max(0))\n",
    "plt.show();"
   ]
  },
  {
   "cell_type": "markdown",
   "metadata": {},
   "source": [
    "* Значения страниц_за_визит и минут_предыдущий_месяц увеличивают вероятность принадлежности наблюдений к классу 0.\n",
    "* Значения акционные_покупки и неоплаченные продукты в корзине увеличивают значения SHAP-объектов и увеличивают вероятность принадлежности наблюдений к классу 1."
   ]
  },
  {
   "cell_type": "markdown",
   "metadata": {},
   "source": [
    "**Промежуточный вывод:**\n",
    "Логично, что количество посещенных страниц, минуты на сайте по месяцам и средний просмотр категорий за визит влияют на целевой покупательская активность больше остальных признаков. Ведь, чем больше страниц клиент посетил, и чем больше минут провел на сайте, тем выше будет его общая активность. Акции также сильно влияют на активность, бизнесу стоит пороработать данный фактор."
   ]
  },
  {
   "cell_type": "markdown",
   "metadata": {},
   "source": [
    "## Cегментация покупателей"
   ]
  },
  {
   "cell_type": "markdown",
   "metadata": {},
   "source": [
    "**Объединим тренировочную и тестовую выборки, добавим столбец с прогнозами и столбец с прибылью:**"
   ]
  },
  {
   "cell_type": "code",
   "execution_count": 45,
   "metadata": {},
   "outputs": [
    {
     "name": "stdout",
     "output_type": "stream",
     "text": [
      "(1296, 21)\n"
     ]
    },
    {
     "data": {
      "text/html": [
       "<div>\n",
       "<style scoped>\n",
       "    .dataframe tbody tr th:only-of-type {\n",
       "        vertical-align: middle;\n",
       "    }\n",
       "\n",
       "    .dataframe tbody tr th {\n",
       "        vertical-align: top;\n",
       "    }\n",
       "\n",
       "    .dataframe thead th {\n",
       "        text-align: right;\n",
       "    }\n",
       "</style>\n",
       "<table border=\"1\" class=\"dataframe\">\n",
       "  <thead>\n",
       "    <tr style=\"text-align: right;\">\n",
       "      <th></th>\n",
       "      <th>тип_сервиса</th>\n",
       "      <th>разрешить_сообщать</th>\n",
       "      <th>маркет_актив_6_мес</th>\n",
       "      <th>маркет_актив_тек_мес</th>\n",
       "      <th>длительность</th>\n",
       "      <th>акционные_покупки</th>\n",
       "      <th>популярная_категория</th>\n",
       "      <th>cредний_просмотр_категорий_за_визит</th>\n",
       "      <th>неоплаченные_продукты_штук_квартал</th>\n",
       "      <th>ошибка_сервиса</th>\n",
       "      <th>страниц_за_визит</th>\n",
       "      <th>выручка_текущий_мес</th>\n",
       "      <th>выручка_предыдущий_мес</th>\n",
       "      <th>выручка_препредыдущий_мес</th>\n",
       "      <th>минут_текущий_мес</th>\n",
       "      <th>минут_предыдущий_мес</th>\n",
       "      <th>покупательская_активность</th>\n",
       "      <th>прогноз</th>\n",
       "      <th>вероятность_прогноза</th>\n",
       "      <th>id</th>\n",
       "      <th>прибыль</th>\n",
       "    </tr>\n",
       "  </thead>\n",
       "  <tbody>\n",
       "    <tr>\n",
       "      <th>0</th>\n",
       "      <td>стандарт</td>\n",
       "      <td>да</td>\n",
       "      <td>5.5</td>\n",
       "      <td>4</td>\n",
       "      <td>510</td>\n",
       "      <td>0.15</td>\n",
       "      <td>Мелкая бытовая техника и электроника</td>\n",
       "      <td>2</td>\n",
       "      <td>4</td>\n",
       "      <td>7</td>\n",
       "      <td>16</td>\n",
       "      <td>6014.2</td>\n",
       "      <td>5170.5</td>\n",
       "      <td>4347.0</td>\n",
       "      <td>6</td>\n",
       "      <td>20</td>\n",
       "      <td>Прежний уровень</td>\n",
       "      <td>0</td>\n",
       "      <td>0.058143</td>\n",
       "      <td>215858</td>\n",
       "      <td>4.37</td>\n",
       "    </tr>\n",
       "    <tr>\n",
       "      <th>1</th>\n",
       "      <td>стандарт</td>\n",
       "      <td>да</td>\n",
       "      <td>5.1</td>\n",
       "      <td>4</td>\n",
       "      <td>199</td>\n",
       "      <td>0.23</td>\n",
       "      <td>Техника для красоты и здоровья</td>\n",
       "      <td>4</td>\n",
       "      <td>5</td>\n",
       "      <td>2</td>\n",
       "      <td>3</td>\n",
       "      <td>3789.7</td>\n",
       "      <td>6400.0</td>\n",
       "      <td>4597.0</td>\n",
       "      <td>13</td>\n",
       "      <td>11</td>\n",
       "      <td>Снизилась</td>\n",
       "      <td>1</td>\n",
       "      <td>0.810012</td>\n",
       "      <td>215361</td>\n",
       "      <td>4.03</td>\n",
       "    </tr>\n",
       "    <tr>\n",
       "      <th>2</th>\n",
       "      <td>стандарт</td>\n",
       "      <td>да</td>\n",
       "      <td>4.3</td>\n",
       "      <td>5</td>\n",
       "      <td>997</td>\n",
       "      <td>0.17</td>\n",
       "      <td>Мелкая бытовая техника и электроника</td>\n",
       "      <td>5</td>\n",
       "      <td>1</td>\n",
       "      <td>3</td>\n",
       "      <td>11</td>\n",
       "      <td>3798.4</td>\n",
       "      <td>4113.0</td>\n",
       "      <td>4626.0</td>\n",
       "      <td>10</td>\n",
       "      <td>13</td>\n",
       "      <td>Прежний уровень</td>\n",
       "      <td>0</td>\n",
       "      <td>0.116640</td>\n",
       "      <td>215884</td>\n",
       "      <td>4.37</td>\n",
       "    </tr>\n",
       "    <tr>\n",
       "      <th>3</th>\n",
       "      <td>стандарт</td>\n",
       "      <td>да</td>\n",
       "      <td>5.6</td>\n",
       "      <td>4</td>\n",
       "      <td>342</td>\n",
       "      <td>0.94</td>\n",
       "      <td>Кухонная посуда</td>\n",
       "      <td>2</td>\n",
       "      <td>7</td>\n",
       "      <td>5</td>\n",
       "      <td>8</td>\n",
       "      <td>4766.2</td>\n",
       "      <td>4930.0</td>\n",
       "      <td>5269.0</td>\n",
       "      <td>19</td>\n",
       "      <td>14</td>\n",
       "      <td>Прежний уровень</td>\n",
       "      <td>1</td>\n",
       "      <td>0.743591</td>\n",
       "      <td>216564</td>\n",
       "      <td>5.58</td>\n",
       "    </tr>\n",
       "    <tr>\n",
       "      <th>4</th>\n",
       "      <td>премиум</td>\n",
       "      <td>да</td>\n",
       "      <td>3.6</td>\n",
       "      <td>5</td>\n",
       "      <td>873</td>\n",
       "      <td>0.39</td>\n",
       "      <td>Товары для детей</td>\n",
       "      <td>3</td>\n",
       "      <td>2</td>\n",
       "      <td>2</td>\n",
       "      <td>5</td>\n",
       "      <td>4600.0</td>\n",
       "      <td>3716.0</td>\n",
       "      <td>4691.0</td>\n",
       "      <td>10</td>\n",
       "      <td>10</td>\n",
       "      <td>Снизилась</td>\n",
       "      <td>1</td>\n",
       "      <td>0.778945</td>\n",
       "      <td>215715</td>\n",
       "      <td>4.87</td>\n",
       "    </tr>\n",
       "    <tr>\n",
       "      <th>5</th>\n",
       "      <td>стандарт</td>\n",
       "      <td>нет</td>\n",
       "      <td>5.7</td>\n",
       "      <td>5</td>\n",
       "      <td>769</td>\n",
       "      <td>0.14</td>\n",
       "      <td>Техника для красоты и здоровья</td>\n",
       "      <td>4</td>\n",
       "      <td>1</td>\n",
       "      <td>8</td>\n",
       "      <td>10</td>\n",
       "      <td>5180.3</td>\n",
       "      <td>5868.0</td>\n",
       "      <td>4925.0</td>\n",
       "      <td>20</td>\n",
       "      <td>15</td>\n",
       "      <td>Прежний уровень</td>\n",
       "      <td>0</td>\n",
       "      <td>0.019050</td>\n",
       "      <td>216533</td>\n",
       "      <td>6.59</td>\n",
       "    </tr>\n",
       "    <tr>\n",
       "      <th>6</th>\n",
       "      <td>стандарт</td>\n",
       "      <td>да</td>\n",
       "      <td>3.0</td>\n",
       "      <td>4</td>\n",
       "      <td>304</td>\n",
       "      <td>0.25</td>\n",
       "      <td>Домашний текстиль</td>\n",
       "      <td>1</td>\n",
       "      <td>6</td>\n",
       "      <td>5</td>\n",
       "      <td>3</td>\n",
       "      <td>4762.2</td>\n",
       "      <td>4789.5</td>\n",
       "      <td>4305.0</td>\n",
       "      <td>11</td>\n",
       "      <td>11</td>\n",
       "      <td>Снизилась</td>\n",
       "      <td>1</td>\n",
       "      <td>0.963230</td>\n",
       "      <td>215674</td>\n",
       "      <td>2.72</td>\n",
       "    </tr>\n",
       "    <tr>\n",
       "      <th>7</th>\n",
       "      <td>премиум</td>\n",
       "      <td>да</td>\n",
       "      <td>6.1</td>\n",
       "      <td>3</td>\n",
       "      <td>1056</td>\n",
       "      <td>0.17</td>\n",
       "      <td>Домашний текстиль</td>\n",
       "      <td>2</td>\n",
       "      <td>3</td>\n",
       "      <td>7</td>\n",
       "      <td>8</td>\n",
       "      <td>4423.0</td>\n",
       "      <td>4767.5</td>\n",
       "      <td>5315.0</td>\n",
       "      <td>17</td>\n",
       "      <td>15</td>\n",
       "      <td>Прежний уровень</td>\n",
       "      <td>0</td>\n",
       "      <td>0.190786</td>\n",
       "      <td>216334</td>\n",
       "      <td>4.84</td>\n",
       "    </tr>\n",
       "    <tr>\n",
       "      <th>8</th>\n",
       "      <td>стандарт</td>\n",
       "      <td>да</td>\n",
       "      <td>4.3</td>\n",
       "      <td>4</td>\n",
       "      <td>831</td>\n",
       "      <td>0.21</td>\n",
       "      <td>Мелкая бытовая техника и электроника</td>\n",
       "      <td>5</td>\n",
       "      <td>2</td>\n",
       "      <td>3</td>\n",
       "      <td>7</td>\n",
       "      <td>3287.0</td>\n",
       "      <td>3872.0</td>\n",
       "      <td>4697.0</td>\n",
       "      <td>17</td>\n",
       "      <td>11</td>\n",
       "      <td>Прежний уровень</td>\n",
       "      <td>0</td>\n",
       "      <td>0.186875</td>\n",
       "      <td>216186</td>\n",
       "      <td>6.29</td>\n",
       "    </tr>\n",
       "    <tr>\n",
       "      <th>9</th>\n",
       "      <td>стандарт</td>\n",
       "      <td>да</td>\n",
       "      <td>5.6</td>\n",
       "      <td>4</td>\n",
       "      <td>157</td>\n",
       "      <td>0.30</td>\n",
       "      <td>Товары для детей</td>\n",
       "      <td>6</td>\n",
       "      <td>3</td>\n",
       "      <td>2</td>\n",
       "      <td>9</td>\n",
       "      <td>4765.0</td>\n",
       "      <td>4505.0</td>\n",
       "      <td>4655.0</td>\n",
       "      <td>14</td>\n",
       "      <td>13</td>\n",
       "      <td>Прежний уровень</td>\n",
       "      <td>0</td>\n",
       "      <td>0.112735</td>\n",
       "      <td>216526</td>\n",
       "      <td>5.11</td>\n",
       "    </tr>\n",
       "  </tbody>\n",
       "</table>\n",
       "</div>"
      ],
      "text/plain": [
       "  тип_сервиса разрешить_сообщать  маркет_актив_6_мес  маркет_актив_тек_мес  \\\n",
       "0    стандарт                 да                 5.5                     4   \n",
       "1    стандарт                 да                 5.1                     4   \n",
       "2    стандарт                 да                 4.3                     5   \n",
       "3    стандарт                 да                 5.6                     4   \n",
       "4     премиум                 да                 3.6                     5   \n",
       "5    стандарт                нет                 5.7                     5   \n",
       "6    стандарт                 да                 3.0                     4   \n",
       "7     премиум                 да                 6.1                     3   \n",
       "8    стандарт                 да                 4.3                     4   \n",
       "9    стандарт                 да                 5.6                     4   \n",
       "\n",
       "   длительность  акционные_покупки                  популярная_категория  \\\n",
       "0           510               0.15  Мелкая бытовая техника и электроника   \n",
       "1           199               0.23        Техника для красоты и здоровья   \n",
       "2           997               0.17  Мелкая бытовая техника и электроника   \n",
       "3           342               0.94                       Кухонная посуда   \n",
       "4           873               0.39                      Товары для детей   \n",
       "5           769               0.14        Техника для красоты и здоровья   \n",
       "6           304               0.25                     Домашний текстиль   \n",
       "7          1056               0.17                     Домашний текстиль   \n",
       "8           831               0.21  Мелкая бытовая техника и электроника   \n",
       "9           157               0.30                      Товары для детей   \n",
       "\n",
       "   cредний_просмотр_категорий_за_визит  неоплаченные_продукты_штук_квартал  \\\n",
       "0                                    2                                   4   \n",
       "1                                    4                                   5   \n",
       "2                                    5                                   1   \n",
       "3                                    2                                   7   \n",
       "4                                    3                                   2   \n",
       "5                                    4                                   1   \n",
       "6                                    1                                   6   \n",
       "7                                    2                                   3   \n",
       "8                                    5                                   2   \n",
       "9                                    6                                   3   \n",
       "\n",
       "   ошибка_сервиса  страниц_за_визит  выручка_текущий_мес  \\\n",
       "0               7                16               6014.2   \n",
       "1               2                 3               3789.7   \n",
       "2               3                11               3798.4   \n",
       "3               5                 8               4766.2   \n",
       "4               2                 5               4600.0   \n",
       "5               8                10               5180.3   \n",
       "6               5                 3               4762.2   \n",
       "7               7                 8               4423.0   \n",
       "8               3                 7               3287.0   \n",
       "9               2                 9               4765.0   \n",
       "\n",
       "   выручка_предыдущий_мес  выручка_препредыдущий_мес  минут_текущий_мес  \\\n",
       "0                  5170.5                     4347.0                  6   \n",
       "1                  6400.0                     4597.0                 13   \n",
       "2                  4113.0                     4626.0                 10   \n",
       "3                  4930.0                     5269.0                 19   \n",
       "4                  3716.0                     4691.0                 10   \n",
       "5                  5868.0                     4925.0                 20   \n",
       "6                  4789.5                     4305.0                 11   \n",
       "7                  4767.5                     5315.0                 17   \n",
       "8                  3872.0                     4697.0                 17   \n",
       "9                  4505.0                     4655.0                 14   \n",
       "\n",
       "   минут_предыдущий_мес покупательская_активность  прогноз  \\\n",
       "0                    20           Прежний уровень        0   \n",
       "1                    11                 Снизилась        1   \n",
       "2                    13           Прежний уровень        0   \n",
       "3                    14           Прежний уровень        1   \n",
       "4                    10                 Снизилась        1   \n",
       "5                    15           Прежний уровень        0   \n",
       "6                    11                 Снизилась        1   \n",
       "7                    15           Прежний уровень        0   \n",
       "8                    11           Прежний уровень        0   \n",
       "9                    13           Прежний уровень        0   \n",
       "\n",
       "   вероятность_прогноза      id  прибыль  \n",
       "0              0.058143  215858     4.37  \n",
       "1              0.810012  215361     4.03  \n",
       "2              0.116640  215884     4.37  \n",
       "3              0.743591  216564     5.58  \n",
       "4              0.778945  215715     4.87  \n",
       "5              0.019050  216533     6.59  \n",
       "6              0.963230  215674     2.72  \n",
       "7              0.190786  216334     4.84  \n",
       "8              0.186875  216186     6.29  \n",
       "9              0.112735  216526     5.11  "
      ]
     },
     "execution_count": 45,
     "metadata": {},
     "output_type": "execute_result"
    }
   ],
   "source": [
    "model_train = model.predict_proba(X_train_final)[:,1]\n",
    "model_test = model.predict_proba(X_test_final)[:,1]\n",
    "\n",
    "full_train = pd.concat([X_train, y_train], axis=1)\n",
    "full_test = pd.concat([X_test, y_test], axis=1)\n",
    "\n",
    "X_train_pred = model.predict(X_train_final)\n",
    "full_train['прогноз'] = X_train_pred.tolist()\n",
    "full_train['вероятность_прогноза'] = model_train.tolist()\n",
    "\n",
    "X_test_pred = model.predict(X_test_final)\n",
    "full_test['прогноз'] = X_test_pred.tolist()\n",
    "full_test['вероятность_прогноза'] = model_test.tolist()\n",
    "\n",
    "pred_df = pd.concat([full_train, full_test])\n",
    "pred_df = pd.merge(pred_df, full_df['id'], left_index=True, right_index=True)\n",
    "\n",
    "pred_df = pred_df.merge(df_money, on='id')\n",
    "    \n",
    "print(pred_df.shape)\n",
    "pred_df.head(10)"
   ]
  },
  {
   "cell_type": "code",
   "execution_count": 46,
   "metadata": {},
   "outputs": [
    {
     "name": "stdout",
     "output_type": "stream",
     "text": [
      "(1296, 21)\n"
     ]
    },
    {
     "data": {
      "text/html": [
       "<div>\n",
       "<style scoped>\n",
       "    .dataframe tbody tr th:only-of-type {\n",
       "        vertical-align: middle;\n",
       "    }\n",
       "\n",
       "    .dataframe tbody tr th {\n",
       "        vertical-align: top;\n",
       "    }\n",
       "\n",
       "    .dataframe thead th {\n",
       "        text-align: right;\n",
       "    }\n",
       "</style>\n",
       "<table border=\"1\" class=\"dataframe\">\n",
       "  <thead>\n",
       "    <tr style=\"text-align: right;\">\n",
       "      <th></th>\n",
       "      <th>тип_сервиса</th>\n",
       "      <th>разрешить_сообщать</th>\n",
       "      <th>маркет_актив_6_мес</th>\n",
       "      <th>маркет_актив_тек_мес</th>\n",
       "      <th>длительность</th>\n",
       "      <th>акционные_покупки</th>\n",
       "      <th>популярная_категория</th>\n",
       "      <th>cредний_просмотр_категорий_за_визит</th>\n",
       "      <th>неоплаченные_продукты_штук_квартал</th>\n",
       "      <th>ошибка_сервиса</th>\n",
       "      <th>страниц_за_визит</th>\n",
       "      <th>выручка_текущий_мес</th>\n",
       "      <th>выручка_предыдущий_мес</th>\n",
       "      <th>выручка_препредыдущий_мес</th>\n",
       "      <th>минут_текущий_мес</th>\n",
       "      <th>минут_предыдущий_мес</th>\n",
       "      <th>покупательская_активность</th>\n",
       "      <th>прогноз</th>\n",
       "      <th>вероятность_прогноза</th>\n",
       "      <th>id</th>\n",
       "      <th>прибыль</th>\n",
       "    </tr>\n",
       "  </thead>\n",
       "  <tbody>\n",
       "    <tr>\n",
       "      <th>0</th>\n",
       "      <td>стандарт</td>\n",
       "      <td>да</td>\n",
       "      <td>5.5</td>\n",
       "      <td>4</td>\n",
       "      <td>510</td>\n",
       "      <td>0.15</td>\n",
       "      <td>Мелкая бытовая техника и электроника</td>\n",
       "      <td>2</td>\n",
       "      <td>4</td>\n",
       "      <td>7</td>\n",
       "      <td>16</td>\n",
       "      <td>6014.2</td>\n",
       "      <td>5170.5</td>\n",
       "      <td>4347.0</td>\n",
       "      <td>6</td>\n",
       "      <td>20</td>\n",
       "      <td>Прежний уровень</td>\n",
       "      <td>не изменится</td>\n",
       "      <td>0.058143</td>\n",
       "      <td>215858</td>\n",
       "      <td>4.37</td>\n",
       "    </tr>\n",
       "    <tr>\n",
       "      <th>1</th>\n",
       "      <td>стандарт</td>\n",
       "      <td>да</td>\n",
       "      <td>5.1</td>\n",
       "      <td>4</td>\n",
       "      <td>199</td>\n",
       "      <td>0.23</td>\n",
       "      <td>Техника для красоты и здоровья</td>\n",
       "      <td>4</td>\n",
       "      <td>5</td>\n",
       "      <td>2</td>\n",
       "      <td>3</td>\n",
       "      <td>3789.7</td>\n",
       "      <td>6400.0</td>\n",
       "      <td>4597.0</td>\n",
       "      <td>13</td>\n",
       "      <td>11</td>\n",
       "      <td>Снизилась</td>\n",
       "      <td>снизится</td>\n",
       "      <td>0.810012</td>\n",
       "      <td>215361</td>\n",
       "      <td>4.03</td>\n",
       "    </tr>\n",
       "    <tr>\n",
       "      <th>2</th>\n",
       "      <td>стандарт</td>\n",
       "      <td>да</td>\n",
       "      <td>4.3</td>\n",
       "      <td>5</td>\n",
       "      <td>997</td>\n",
       "      <td>0.17</td>\n",
       "      <td>Мелкая бытовая техника и электроника</td>\n",
       "      <td>5</td>\n",
       "      <td>1</td>\n",
       "      <td>3</td>\n",
       "      <td>11</td>\n",
       "      <td>3798.4</td>\n",
       "      <td>4113.0</td>\n",
       "      <td>4626.0</td>\n",
       "      <td>10</td>\n",
       "      <td>13</td>\n",
       "      <td>Прежний уровень</td>\n",
       "      <td>не изменится</td>\n",
       "      <td>0.116640</td>\n",
       "      <td>215884</td>\n",
       "      <td>4.37</td>\n",
       "    </tr>\n",
       "    <tr>\n",
       "      <th>3</th>\n",
       "      <td>стандарт</td>\n",
       "      <td>да</td>\n",
       "      <td>5.6</td>\n",
       "      <td>4</td>\n",
       "      <td>342</td>\n",
       "      <td>0.94</td>\n",
       "      <td>Кухонная посуда</td>\n",
       "      <td>2</td>\n",
       "      <td>7</td>\n",
       "      <td>5</td>\n",
       "      <td>8</td>\n",
       "      <td>4766.2</td>\n",
       "      <td>4930.0</td>\n",
       "      <td>5269.0</td>\n",
       "      <td>19</td>\n",
       "      <td>14</td>\n",
       "      <td>Прежний уровень</td>\n",
       "      <td>снизится</td>\n",
       "      <td>0.743591</td>\n",
       "      <td>216564</td>\n",
       "      <td>5.58</td>\n",
       "    </tr>\n",
       "    <tr>\n",
       "      <th>4</th>\n",
       "      <td>премиум</td>\n",
       "      <td>да</td>\n",
       "      <td>3.6</td>\n",
       "      <td>5</td>\n",
       "      <td>873</td>\n",
       "      <td>0.39</td>\n",
       "      <td>Товары для детей</td>\n",
       "      <td>3</td>\n",
       "      <td>2</td>\n",
       "      <td>2</td>\n",
       "      <td>5</td>\n",
       "      <td>4600.0</td>\n",
       "      <td>3716.0</td>\n",
       "      <td>4691.0</td>\n",
       "      <td>10</td>\n",
       "      <td>10</td>\n",
       "      <td>Снизилась</td>\n",
       "      <td>снизится</td>\n",
       "      <td>0.778945</td>\n",
       "      <td>215715</td>\n",
       "      <td>4.87</td>\n",
       "    </tr>\n",
       "    <tr>\n",
       "      <th>5</th>\n",
       "      <td>стандарт</td>\n",
       "      <td>нет</td>\n",
       "      <td>5.7</td>\n",
       "      <td>5</td>\n",
       "      <td>769</td>\n",
       "      <td>0.14</td>\n",
       "      <td>Техника для красоты и здоровья</td>\n",
       "      <td>4</td>\n",
       "      <td>1</td>\n",
       "      <td>8</td>\n",
       "      <td>10</td>\n",
       "      <td>5180.3</td>\n",
       "      <td>5868.0</td>\n",
       "      <td>4925.0</td>\n",
       "      <td>20</td>\n",
       "      <td>15</td>\n",
       "      <td>Прежний уровень</td>\n",
       "      <td>не изменится</td>\n",
       "      <td>0.019050</td>\n",
       "      <td>216533</td>\n",
       "      <td>6.59</td>\n",
       "    </tr>\n",
       "    <tr>\n",
       "      <th>6</th>\n",
       "      <td>стандарт</td>\n",
       "      <td>да</td>\n",
       "      <td>3.0</td>\n",
       "      <td>4</td>\n",
       "      <td>304</td>\n",
       "      <td>0.25</td>\n",
       "      <td>Домашний текстиль</td>\n",
       "      <td>1</td>\n",
       "      <td>6</td>\n",
       "      <td>5</td>\n",
       "      <td>3</td>\n",
       "      <td>4762.2</td>\n",
       "      <td>4789.5</td>\n",
       "      <td>4305.0</td>\n",
       "      <td>11</td>\n",
       "      <td>11</td>\n",
       "      <td>Снизилась</td>\n",
       "      <td>снизится</td>\n",
       "      <td>0.963230</td>\n",
       "      <td>215674</td>\n",
       "      <td>2.72</td>\n",
       "    </tr>\n",
       "    <tr>\n",
       "      <th>7</th>\n",
       "      <td>премиум</td>\n",
       "      <td>да</td>\n",
       "      <td>6.1</td>\n",
       "      <td>3</td>\n",
       "      <td>1056</td>\n",
       "      <td>0.17</td>\n",
       "      <td>Домашний текстиль</td>\n",
       "      <td>2</td>\n",
       "      <td>3</td>\n",
       "      <td>7</td>\n",
       "      <td>8</td>\n",
       "      <td>4423.0</td>\n",
       "      <td>4767.5</td>\n",
       "      <td>5315.0</td>\n",
       "      <td>17</td>\n",
       "      <td>15</td>\n",
       "      <td>Прежний уровень</td>\n",
       "      <td>не изменится</td>\n",
       "      <td>0.190786</td>\n",
       "      <td>216334</td>\n",
       "      <td>4.84</td>\n",
       "    </tr>\n",
       "    <tr>\n",
       "      <th>8</th>\n",
       "      <td>стандарт</td>\n",
       "      <td>да</td>\n",
       "      <td>4.3</td>\n",
       "      <td>4</td>\n",
       "      <td>831</td>\n",
       "      <td>0.21</td>\n",
       "      <td>Мелкая бытовая техника и электроника</td>\n",
       "      <td>5</td>\n",
       "      <td>2</td>\n",
       "      <td>3</td>\n",
       "      <td>7</td>\n",
       "      <td>3287.0</td>\n",
       "      <td>3872.0</td>\n",
       "      <td>4697.0</td>\n",
       "      <td>17</td>\n",
       "      <td>11</td>\n",
       "      <td>Прежний уровень</td>\n",
       "      <td>не изменится</td>\n",
       "      <td>0.186875</td>\n",
       "      <td>216186</td>\n",
       "      <td>6.29</td>\n",
       "    </tr>\n",
       "    <tr>\n",
       "      <th>9</th>\n",
       "      <td>стандарт</td>\n",
       "      <td>да</td>\n",
       "      <td>5.6</td>\n",
       "      <td>4</td>\n",
       "      <td>157</td>\n",
       "      <td>0.30</td>\n",
       "      <td>Товары для детей</td>\n",
       "      <td>6</td>\n",
       "      <td>3</td>\n",
       "      <td>2</td>\n",
       "      <td>9</td>\n",
       "      <td>4765.0</td>\n",
       "      <td>4505.0</td>\n",
       "      <td>4655.0</td>\n",
       "      <td>14</td>\n",
       "      <td>13</td>\n",
       "      <td>Прежний уровень</td>\n",
       "      <td>не изменится</td>\n",
       "      <td>0.112735</td>\n",
       "      <td>216526</td>\n",
       "      <td>5.11</td>\n",
       "    </tr>\n",
       "  </tbody>\n",
       "</table>\n",
       "</div>"
      ],
      "text/plain": [
       "  тип_сервиса разрешить_сообщать  маркет_актив_6_мес  маркет_актив_тек_мес  \\\n",
       "0    стандарт                 да                 5.5                     4   \n",
       "1    стандарт                 да                 5.1                     4   \n",
       "2    стандарт                 да                 4.3                     5   \n",
       "3    стандарт                 да                 5.6                     4   \n",
       "4     премиум                 да                 3.6                     5   \n",
       "5    стандарт                нет                 5.7                     5   \n",
       "6    стандарт                 да                 3.0                     4   \n",
       "7     премиум                 да                 6.1                     3   \n",
       "8    стандарт                 да                 4.3                     4   \n",
       "9    стандарт                 да                 5.6                     4   \n",
       "\n",
       "   длительность  акционные_покупки                  популярная_категория  \\\n",
       "0           510               0.15  Мелкая бытовая техника и электроника   \n",
       "1           199               0.23        Техника для красоты и здоровья   \n",
       "2           997               0.17  Мелкая бытовая техника и электроника   \n",
       "3           342               0.94                       Кухонная посуда   \n",
       "4           873               0.39                      Товары для детей   \n",
       "5           769               0.14        Техника для красоты и здоровья   \n",
       "6           304               0.25                     Домашний текстиль   \n",
       "7          1056               0.17                     Домашний текстиль   \n",
       "8           831               0.21  Мелкая бытовая техника и электроника   \n",
       "9           157               0.30                      Товары для детей   \n",
       "\n",
       "   cредний_просмотр_категорий_за_визит  неоплаченные_продукты_штук_квартал  \\\n",
       "0                                    2                                   4   \n",
       "1                                    4                                   5   \n",
       "2                                    5                                   1   \n",
       "3                                    2                                   7   \n",
       "4                                    3                                   2   \n",
       "5                                    4                                   1   \n",
       "6                                    1                                   6   \n",
       "7                                    2                                   3   \n",
       "8                                    5                                   2   \n",
       "9                                    6                                   3   \n",
       "\n",
       "   ошибка_сервиса  страниц_за_визит  выручка_текущий_мес  \\\n",
       "0               7                16               6014.2   \n",
       "1               2                 3               3789.7   \n",
       "2               3                11               3798.4   \n",
       "3               5                 8               4766.2   \n",
       "4               2                 5               4600.0   \n",
       "5               8                10               5180.3   \n",
       "6               5                 3               4762.2   \n",
       "7               7                 8               4423.0   \n",
       "8               3                 7               3287.0   \n",
       "9               2                 9               4765.0   \n",
       "\n",
       "   выручка_предыдущий_мес  выручка_препредыдущий_мес  минут_текущий_мес  \\\n",
       "0                  5170.5                     4347.0                  6   \n",
       "1                  6400.0                     4597.0                 13   \n",
       "2                  4113.0                     4626.0                 10   \n",
       "3                  4930.0                     5269.0                 19   \n",
       "4                  3716.0                     4691.0                 10   \n",
       "5                  5868.0                     4925.0                 20   \n",
       "6                  4789.5                     4305.0                 11   \n",
       "7                  4767.5                     5315.0                 17   \n",
       "8                  3872.0                     4697.0                 17   \n",
       "9                  4505.0                     4655.0                 14   \n",
       "\n",
       "   минут_предыдущий_мес покупательская_активность       прогноз  \\\n",
       "0                    20           Прежний уровень  не изменится   \n",
       "1                    11                 Снизилась      снизится   \n",
       "2                    13           Прежний уровень  не изменится   \n",
       "3                    14           Прежний уровень      снизится   \n",
       "4                    10                 Снизилась      снизится   \n",
       "5                    15           Прежний уровень  не изменится   \n",
       "6                    11                 Снизилась      снизится   \n",
       "7                    15           Прежний уровень  не изменится   \n",
       "8                    11           Прежний уровень  не изменится   \n",
       "9                    13           Прежний уровень  не изменится   \n",
       "\n",
       "   вероятность_прогноза      id  прибыль  \n",
       "0              0.058143  215858     4.37  \n",
       "1              0.810012  215361     4.03  \n",
       "2              0.116640  215884     4.37  \n",
       "3              0.743591  216564     5.58  \n",
       "4              0.778945  215715     4.87  \n",
       "5              0.019050  216533     6.59  \n",
       "6              0.963230  215674     2.72  \n",
       "7              0.190786  216334     4.84  \n",
       "8              0.186875  216186     6.29  \n",
       "9              0.112735  216526     5.11  "
      ]
     },
     "execution_count": 46,
     "metadata": {},
     "output_type": "execute_result"
    }
   ],
   "source": [
    "pred_df['прогноз'] = pred_df['прогноз'].apply(lambda x: 'не изменится' if x==0 else 'снизится')\n",
    "\n",
    "print(pred_df.shape)\n",
    "pred_df.head(10)"
   ]
  },
  {
   "cell_type": "markdown",
   "metadata": {},
   "source": [
    "**Рассмотрим, долю покупателей, популярная категория которых - домашний текстиль. Разобъем полученный датасет на две части по вероятности снижения активности:**"
   ]
  },
  {
   "cell_type": "code",
   "execution_count": 47,
   "metadata": {},
   "outputs": [
    {
     "data": {
      "text/html": [
       "<div>\n",
       "<style scoped>\n",
       "    .dataframe tbody tr th:only-of-type {\n",
       "        vertical-align: middle;\n",
       "    }\n",
       "\n",
       "    .dataframe tbody tr th {\n",
       "        vertical-align: top;\n",
       "    }\n",
       "\n",
       "    .dataframe thead th {\n",
       "        text-align: right;\n",
       "    }\n",
       "</style>\n",
       "<table border=\"1\" class=\"dataframe\">\n",
       "  <thead>\n",
       "    <tr style=\"text-align: right;\">\n",
       "      <th></th>\n",
       "      <th>тип_сервиса</th>\n",
       "      <th>разрешить_сообщать</th>\n",
       "      <th>маркет_актив_6_мес</th>\n",
       "      <th>маркет_актив_тек_мес</th>\n",
       "      <th>длительность</th>\n",
       "      <th>акционные_покупки</th>\n",
       "      <th>популярная_категория</th>\n",
       "      <th>cредний_просмотр_категорий_за_визит</th>\n",
       "      <th>неоплаченные_продукты_штук_квартал</th>\n",
       "      <th>ошибка_сервиса</th>\n",
       "      <th>страниц_за_визит</th>\n",
       "      <th>выручка_текущий_мес</th>\n",
       "      <th>выручка_предыдущий_мес</th>\n",
       "      <th>выручка_препредыдущий_мес</th>\n",
       "      <th>минут_текущий_мес</th>\n",
       "      <th>минут_предыдущий_мес</th>\n",
       "      <th>покупательская_активность</th>\n",
       "      <th>прогноз</th>\n",
       "      <th>вероятность_прогноза</th>\n",
       "      <th>id</th>\n",
       "      <th>прибыль</th>\n",
       "    </tr>\n",
       "  </thead>\n",
       "  <tbody>\n",
       "    <tr>\n",
       "      <th>164</th>\n",
       "      <td>стандарт</td>\n",
       "      <td>да</td>\n",
       "      <td>3.6</td>\n",
       "      <td>3</td>\n",
       "      <td>825</td>\n",
       "      <td>0.20</td>\n",
       "      <td>Домашний текстиль</td>\n",
       "      <td>5</td>\n",
       "      <td>1</td>\n",
       "      <td>4</td>\n",
       "      <td>10</td>\n",
       "      <td>5758.6</td>\n",
       "      <td>5346.5</td>\n",
       "      <td>5021.0</td>\n",
       "      <td>11</td>\n",
       "      <td>13</td>\n",
       "      <td>Прежний уровень</td>\n",
       "      <td>не изменится</td>\n",
       "      <td>0.187135</td>\n",
       "      <td>215959</td>\n",
       "      <td>5.88</td>\n",
       "    </tr>\n",
       "    <tr>\n",
       "      <th>1207</th>\n",
       "      <td>стандарт</td>\n",
       "      <td>да</td>\n",
       "      <td>5.1</td>\n",
       "      <td>4</td>\n",
       "      <td>471</td>\n",
       "      <td>0.25</td>\n",
       "      <td>Домашний текстиль</td>\n",
       "      <td>3</td>\n",
       "      <td>3</td>\n",
       "      <td>4</td>\n",
       "      <td>8</td>\n",
       "      <td>5495.8</td>\n",
       "      <td>5364.5</td>\n",
       "      <td>5363.0</td>\n",
       "      <td>17</td>\n",
       "      <td>19</td>\n",
       "      <td>Прежний уровень</td>\n",
       "      <td>не изменится</td>\n",
       "      <td>0.099550</td>\n",
       "      <td>216401</td>\n",
       "      <td>3.79</td>\n",
       "    </tr>\n",
       "    <tr>\n",
       "      <th>1144</th>\n",
       "      <td>стандарт</td>\n",
       "      <td>да</td>\n",
       "      <td>4.0</td>\n",
       "      <td>3</td>\n",
       "      <td>773</td>\n",
       "      <td>0.18</td>\n",
       "      <td>Домашний текстиль</td>\n",
       "      <td>4</td>\n",
       "      <td>3</td>\n",
       "      <td>0</td>\n",
       "      <td>12</td>\n",
       "      <td>6046.6</td>\n",
       "      <td>5231.5</td>\n",
       "      <td>4441.0</td>\n",
       "      <td>10</td>\n",
       "      <td>14</td>\n",
       "      <td>Прежний уровень</td>\n",
       "      <td>не изменится</td>\n",
       "      <td>0.357815</td>\n",
       "      <td>216287</td>\n",
       "      <td>3.87</td>\n",
       "    </tr>\n",
       "    <tr>\n",
       "      <th>913</th>\n",
       "      <td>стандарт</td>\n",
       "      <td>да</td>\n",
       "      <td>4.2</td>\n",
       "      <td>3</td>\n",
       "      <td>280</td>\n",
       "      <td>0.17</td>\n",
       "      <td>Домашний текстиль</td>\n",
       "      <td>1</td>\n",
       "      <td>2</td>\n",
       "      <td>3</td>\n",
       "      <td>14</td>\n",
       "      <td>5419.8</td>\n",
       "      <td>5035.0</td>\n",
       "      <td>4741.0</td>\n",
       "      <td>16</td>\n",
       "      <td>11</td>\n",
       "      <td>Снизилась</td>\n",
       "      <td>не изменится</td>\n",
       "      <td>0.302884</td>\n",
       "      <td>215676</td>\n",
       "      <td>5.10</td>\n",
       "    </tr>\n",
       "    <tr>\n",
       "      <th>933</th>\n",
       "      <td>стандарт</td>\n",
       "      <td>нет</td>\n",
       "      <td>4.4</td>\n",
       "      <td>5</td>\n",
       "      <td>868</td>\n",
       "      <td>0.40</td>\n",
       "      <td>Домашний текстиль</td>\n",
       "      <td>2</td>\n",
       "      <td>7</td>\n",
       "      <td>8</td>\n",
       "      <td>5</td>\n",
       "      <td>6466.6</td>\n",
       "      <td>5918.0</td>\n",
       "      <td>4568.0</td>\n",
       "      <td>10</td>\n",
       "      <td>13</td>\n",
       "      <td>Снизилась</td>\n",
       "      <td>снизится</td>\n",
       "      <td>0.872856</td>\n",
       "      <td>215597</td>\n",
       "      <td>3.62</td>\n",
       "    </tr>\n",
       "    <tr>\n",
       "      <th>634</th>\n",
       "      <td>стандарт</td>\n",
       "      <td>да</td>\n",
       "      <td>6.6</td>\n",
       "      <td>4</td>\n",
       "      <td>374</td>\n",
       "      <td>0.17</td>\n",
       "      <td>Домашний текстиль</td>\n",
       "      <td>4</td>\n",
       "      <td>3</td>\n",
       "      <td>8</td>\n",
       "      <td>14</td>\n",
       "      <td>5447.8</td>\n",
       "      <td>5063.0</td>\n",
       "      <td>4769.0</td>\n",
       "      <td>9</td>\n",
       "      <td>17</td>\n",
       "      <td>Прежний уровень</td>\n",
       "      <td>не изменится</td>\n",
       "      <td>0.043911</td>\n",
       "      <td>216280</td>\n",
       "      <td>2.83</td>\n",
       "    </tr>\n",
       "    <tr>\n",
       "      <th>671</th>\n",
       "      <td>стандарт</td>\n",
       "      <td>нет</td>\n",
       "      <td>3.3</td>\n",
       "      <td>3</td>\n",
       "      <td>150</td>\n",
       "      <td>0.14</td>\n",
       "      <td>Домашний текстиль</td>\n",
       "      <td>5</td>\n",
       "      <td>1</td>\n",
       "      <td>1</td>\n",
       "      <td>14</td>\n",
       "      <td>5128.4</td>\n",
       "      <td>4981.5</td>\n",
       "      <td>4962.0</td>\n",
       "      <td>12</td>\n",
       "      <td>19</td>\n",
       "      <td>Прежний уровень</td>\n",
       "      <td>не изменится</td>\n",
       "      <td>0.045986</td>\n",
       "      <td>215979</td>\n",
       "      <td>4.70</td>\n",
       "    </tr>\n",
       "    <tr>\n",
       "      <th>314</th>\n",
       "      <td>премиум</td>\n",
       "      <td>да</td>\n",
       "      <td>2.4</td>\n",
       "      <td>5</td>\n",
       "      <td>692</td>\n",
       "      <td>0.35</td>\n",
       "      <td>Домашний текстиль</td>\n",
       "      <td>1</td>\n",
       "      <td>7</td>\n",
       "      <td>1</td>\n",
       "      <td>2</td>\n",
       "      <td>4168.5</td>\n",
       "      <td>4435.0</td>\n",
       "      <td>4330.0</td>\n",
       "      <td>10</td>\n",
       "      <td>8</td>\n",
       "      <td>Снизилась</td>\n",
       "      <td>снизится</td>\n",
       "      <td>0.994925</td>\n",
       "      <td>215562</td>\n",
       "      <td>3.89</td>\n",
       "    </tr>\n",
       "    <tr>\n",
       "      <th>601</th>\n",
       "      <td>премиум</td>\n",
       "      <td>да</td>\n",
       "      <td>4.2</td>\n",
       "      <td>4</td>\n",
       "      <td>919</td>\n",
       "      <td>0.14</td>\n",
       "      <td>Домашний текстиль</td>\n",
       "      <td>3</td>\n",
       "      <td>2</td>\n",
       "      <td>5</td>\n",
       "      <td>20</td>\n",
       "      <td>5583.4</td>\n",
       "      <td>4988.0</td>\n",
       "      <td>4451.0</td>\n",
       "      <td>17</td>\n",
       "      <td>16</td>\n",
       "      <td>Прежний уровень</td>\n",
       "      <td>не изменится</td>\n",
       "      <td>0.035132</td>\n",
       "      <td>216039</td>\n",
       "      <td>3.11</td>\n",
       "    </tr>\n",
       "    <tr>\n",
       "      <th>361</th>\n",
       "      <td>стандарт</td>\n",
       "      <td>да</td>\n",
       "      <td>4.2</td>\n",
       "      <td>3</td>\n",
       "      <td>846</td>\n",
       "      <td>0.30</td>\n",
       "      <td>Домашний текстиль</td>\n",
       "      <td>3</td>\n",
       "      <td>4</td>\n",
       "      <td>4</td>\n",
       "      <td>9</td>\n",
       "      <td>6991.2</td>\n",
       "      <td>5881.0</td>\n",
       "      <td>4750.0</td>\n",
       "      <td>13</td>\n",
       "      <td>15</td>\n",
       "      <td>Прежний уровень</td>\n",
       "      <td>не изменится</td>\n",
       "      <td>0.395893</td>\n",
       "      <td>216265</td>\n",
       "      <td>3.47</td>\n",
       "    </tr>\n",
       "  </tbody>\n",
       "</table>\n",
       "</div>"
      ],
      "text/plain": [
       "     тип_сервиса разрешить_сообщать  маркет_актив_6_мес  маркет_актив_тек_мес  \\\n",
       "164     стандарт                 да                 3.6                     3   \n",
       "1207    стандарт                 да                 5.1                     4   \n",
       "1144    стандарт                 да                 4.0                     3   \n",
       "913     стандарт                 да                 4.2                     3   \n",
       "933     стандарт                нет                 4.4                     5   \n",
       "634     стандарт                 да                 6.6                     4   \n",
       "671     стандарт                нет                 3.3                     3   \n",
       "314      премиум                 да                 2.4                     5   \n",
       "601      премиум                 да                 4.2                     4   \n",
       "361     стандарт                 да                 4.2                     3   \n",
       "\n",
       "      длительность  акционные_покупки популярная_категория  \\\n",
       "164            825               0.20    Домашний текстиль   \n",
       "1207           471               0.25    Домашний текстиль   \n",
       "1144           773               0.18    Домашний текстиль   \n",
       "913            280               0.17    Домашний текстиль   \n",
       "933            868               0.40    Домашний текстиль   \n",
       "634            374               0.17    Домашний текстиль   \n",
       "671            150               0.14    Домашний текстиль   \n",
       "314            692               0.35    Домашний текстиль   \n",
       "601            919               0.14    Домашний текстиль   \n",
       "361            846               0.30    Домашний текстиль   \n",
       "\n",
       "      cредний_просмотр_категорий_за_визит  неоплаченные_продукты_штук_квартал  \\\n",
       "164                                     5                                   1   \n",
       "1207                                    3                                   3   \n",
       "1144                                    4                                   3   \n",
       "913                                     1                                   2   \n",
       "933                                     2                                   7   \n",
       "634                                     4                                   3   \n",
       "671                                     5                                   1   \n",
       "314                                     1                                   7   \n",
       "601                                     3                                   2   \n",
       "361                                     3                                   4   \n",
       "\n",
       "      ошибка_сервиса  страниц_за_визит  выручка_текущий_мес  \\\n",
       "164                4                10               5758.6   \n",
       "1207               4                 8               5495.8   \n",
       "1144               0                12               6046.6   \n",
       "913                3                14               5419.8   \n",
       "933                8                 5               6466.6   \n",
       "634                8                14               5447.8   \n",
       "671                1                14               5128.4   \n",
       "314                1                 2               4168.5   \n",
       "601                5                20               5583.4   \n",
       "361                4                 9               6991.2   \n",
       "\n",
       "      выручка_предыдущий_мес  выручка_препредыдущий_мес  минут_текущий_мес  \\\n",
       "164                   5346.5                     5021.0                 11   \n",
       "1207                  5364.5                     5363.0                 17   \n",
       "1144                  5231.5                     4441.0                 10   \n",
       "913                   5035.0                     4741.0                 16   \n",
       "933                   5918.0                     4568.0                 10   \n",
       "634                   5063.0                     4769.0                  9   \n",
       "671                   4981.5                     4962.0                 12   \n",
       "314                   4435.0                     4330.0                 10   \n",
       "601                   4988.0                     4451.0                 17   \n",
       "361                   5881.0                     4750.0                 13   \n",
       "\n",
       "      минут_предыдущий_мес покупательская_активность       прогноз  \\\n",
       "164                     13           Прежний уровень  не изменится   \n",
       "1207                    19           Прежний уровень  не изменится   \n",
       "1144                    14           Прежний уровень  не изменится   \n",
       "913                     11                 Снизилась  не изменится   \n",
       "933                     13                 Снизилась      снизится   \n",
       "634                     17           Прежний уровень  не изменится   \n",
       "671                     19           Прежний уровень  не изменится   \n",
       "314                      8                 Снизилась      снизится   \n",
       "601                     16           Прежний уровень  не изменится   \n",
       "361                     15           Прежний уровень  не изменится   \n",
       "\n",
       "      вероятность_прогноза      id  прибыль  \n",
       "164               0.187135  215959     5.88  \n",
       "1207              0.099550  216401     3.79  \n",
       "1144              0.357815  216287     3.87  \n",
       "913               0.302884  215676     5.10  \n",
       "933               0.872856  215597     3.62  \n",
       "634               0.043911  216280     2.83  \n",
       "671               0.045986  215979     4.70  \n",
       "314               0.994925  215562     3.89  \n",
       "601               0.035132  216039     3.11  \n",
       "361               0.395893  216265     3.47  "
      ]
     },
     "execution_count": 47,
     "metadata": {},
     "output_type": "execute_result"
    }
   ],
   "source": [
    "home_textiles = pred_df.query('популярная_категория == \"Домашний текстиль\"')\n",
    "home_textiles.sample(10)"
   ]
  },
  {
   "cell_type": "code",
   "execution_count": 48,
   "metadata": {},
   "outputs": [
    {
     "data": {
      "image/png": "[encoded data removed]",
      "text/plain": [
       "<Figure size 1080x432 with 2 Axes>"
      ]
     },
     "metadata": {
      "needs_background": "light"
     },
     "output_type": "display_data"
    },
    {
     "data": {
      "image/png": "[encoded data removed]",
      "text/plain": [
       "<Figure size 1080x432 with 2 Axes>"
      ]
     },
     "metadata": {
      "needs_background": "light"
     },
     "output_type": "display_data"
    },
    {
     "data": {
      "image/png": "[encoded data removed]",
      "text/plain": [
       "<Figure size 1080x432 with 2 Axes>"
      ]
     },
     "metadata": {
      "needs_background": "light"
     },
     "output_type": "display_data"
    },
    {
     "data": {
      "image/png": "[encoded data removed]",
      "text/plain": [
       "<Figure size 1080x432 with 2 Axes>"
      ]
     },
     "metadata": {
      "needs_background": "light"
     },
     "output_type": "display_data"
    }
   ],
   "source": [
    "num_home_textiles = ['акционные_покупки', 'ошибка_сервиса', 'вероятность_прогноза', 'прибыль']\n",
    "\n",
    "for num in num_home_textiles:\n",
    "    num_graph(home_textiles, num)"
   ]
  },
  {
   "cell_type": "code",
   "execution_count": 49,
   "metadata": {},
   "outputs": [
    {
     "name": "stdout",
     "output_type": "stream",
     "text": [
      "Количество покупателей категории домашний текстиль: 250\n",
      "Процент покупателей с высокой вероятностью снижения активности:28.8%\n"
     ]
    }
   ],
   "source": [
    "count= round((home_textiles.query('вероятность_прогноза>=0.7').shape[0]/home_textiles.shape[0])*100, 2)\n",
    "\n",
    "print('Количество покупателей категории домашний текстиль:', home_textiles.shape[0])\n",
    "print(f'Процент покупателей с высокой вероятностью снижения активности:{count}%')"
   ]
  },
  {
   "cell_type": "markdown",
   "metadata": {},
   "source": [
    "**Чуть менее 30% покупателей в данной категории подвержены снижению покупательской активности. Посмотрим, какую прибыль они принесли сервису:**"
   ]
  },
  {
   "cell_type": "code",
   "execution_count": 50,
   "metadata": {},
   "outputs": [
    {
     "data": {
      "image/png": "[encoded data removed]",
      "text/plain": [
       "<Figure size 432x288 with 1 Axes>"
      ]
     },
     "metadata": {
      "needs_background": "light"
     },
     "output_type": "display_data"
    }
   ],
   "source": [
    "ax = sns.histplot(x = 'прибыль',\n",
    "           hue = 'прогноз',\n",
    "           data = home_textiles,\n",
    "           palette = ['c', 'y'])\n",
    "ax.set_title('Распределение прибыли клиентов по вероятности дальнейшей активности')\n",
    "ax.set(xlabel='Количество пользователей', ylabel='Прибыль');"
   ]
  },
  {
   "cell_type": "markdown",
   "metadata": {},
   "source": [
    "**Из гистограммы получаем, что покупатели с высокой вероятностью снижения активности по прибыльности сопоставимы с активными покупателями. Эту группу клиентов стоит удержать. Выведем статистику по рассылке рекламы:**"
   ]
  },
  {
   "cell_type": "code",
   "execution_count": 51,
   "metadata": {},
   "outputs": [
    {
     "name": "stdout",
     "output_type": "stream",
     "text": [
      "да     52\n",
      "нет    25\n",
      "Name: разрешить_сообщать, dtype: int64\n"
     ]
    }
   ],
   "source": [
    "print(home_textiles[home_textiles['прогноз'] == 'снизится']['разрешить_сообщать'].value_counts())"
   ]
  },
  {
   "cell_type": "markdown",
   "metadata": {},
   "source": [
    "**Почти у 70% клиентов есть доступ к рекламе. Возможно, стоит ввести персональные предложения на товары. Посмотрим распределление клиентов с вероятностью снижения активности по типам сервиса:**"
   ]
  },
  {
   "cell_type": "code",
   "execution_count": 52,
   "metadata": {},
   "outputs": [
    {
     "name": "stdout",
     "output_type": "stream",
     "text": [
      "Тип сервиса:\n",
      " стандарт    55\n",
      "премиум     22\n",
      "Name: тип_сервиса, dtype: int64\n"
     ]
    }
   ],
   "source": [
    "print('Тип сервиса:\\n', home_textiles[home_textiles['прогноз'] == 'снизится']['тип_сервиса'].value_counts())"
   ]
  },
  {
   "cell_type": "markdown",
   "metadata": {},
   "source": [
    "**Выведем количество клиентов с типом сервиса \"стандарт\" и возможностью рассылок:**"
   ]
  },
  {
   "cell_type": "code",
   "execution_count": 53,
   "metadata": {},
   "outputs": [
    {
     "name": "stdout",
     "output_type": "stream",
     "text": [
      "38\n"
     ]
    }
   ],
   "source": [
    "print(home_textiles[(home_textiles['прогноз'] == 'снизится')&\n",
    "                    (home_textiles['разрешить_сообщать'] == 'да')&\n",
    "                    (home_textiles['тип_сервиса'] == 'стандарт')]['id'].count())"
   ]
  },
  {
   "cell_type": "markdown",
   "metadata": {},
   "source": [
    "**Стоит присмотреться к данной группе и поискать возможности предоставления премиум сервиса по упрощенной схеме.**"
   ]
  },
  {
   "cell_type": "markdown",
   "metadata": {},
   "source": [
    "**Промежуточный вывод:**\n",
    "\n",
    "* Исходный датасет был объединен с предсказаниями модели по всем клиентам.\n",
    "* Проведен анализ группы клиентов с популярной категорией \"домашний текстиль\" и вероятностью снижения активности.\n",
    "\n",
    "**Выводы по анализу сегмента:**\n",
    "\n",
    "Доля клиентов с высокой вероятностью снижения активности относительно общего числа клиентов категории \"домашний текстиль\" составляет около 30%. Прибыль данной группы сопоставима с прибылью клиентов с высокой активностью. Почти 70% клиентов этой группы лояльны к рассылке рекламы и такой же процент клиентов имеет тип сервиса \"стандарт\".\n",
    "\n",
    "\n",
    "В целях удержания данного сегмента сервису предлагается скорректировать персональные предложения товаров, а также ввести выгодные предложения для клиентов сервиса стандарт по переходу на премиум. Также стоит поработать над разнообразием предлагаемых товаров на сервисе с целью увеличения количества просмотренных страниц и ввести раздел с персональными рекомендациями по прошлой активности."
   ]
  },
  {
   "cell_type": "markdown",
   "metadata": {},
   "source": [
    "## Общий вывод"
   ]
  },
  {
   "cell_type": "markdown",
   "metadata": {},
   "source": [
    "1. От заказчика было получено 4 датасета с исходными данными:\n",
    "    - market_file.csv - данные о поведении покупателя на сайте, о коммуникациях с покупателем и его продуктовом поведении;\n",
    "    - market_money.csv - данные о выручке, которую получает магазин с покупателя, то есть сколько покупатель всего потратил за период взаимодействия с сайтом;\n",
    "    - markt_time.csv - данные о времени (в минутах), которое покупатель провёл на сайте в течение периода;\n",
    "    - money.csv - данные о среднемесячной прибыли покупателя за последние 3 месяца: какую прибыль получает магазин от продаж каждому покупателю.\n",
    "\n",
    "\n",
    "2. На этапе предобработки все данные были исследованы на наличие пропусков, дубликатов, правильности типов данных. По окончанию знакомства с данными привели названия колонок к единому стилю и избавились от явных и неявных дубликатов.\n",
    "\n",
    "\n",
    "3. На этапе исследовательского анализа установили следующее:\n",
    "    - Почти у 40% клиентов падает активность месяц к месяцу. Это может быть связано с запретом рассылки сообщений, с покупкой долгосрочных товаров.\n",
    "    - Все гистограммы распределены нормально. Исключение составляет признак `длительности времени с момента регистрации`, который распределен равномерно, имеются острые пики в некоторые даты. \n",
    "    - Гистограмма признака `покупок по акции` имеет два пика в районе 0.2 и 0.9, второе значение сообщает, что есть клиенты, купившие товары с 80-100% скидкой. \n",
    "    - По гистограмме `просмотра категорий за визит` видим, что в среднем клиенты просматривают три категории товаров за визит.\n",
    "    - Также клиенты просматривают около 7 страниц за визит и имеют около 2 неоплаченных товаров в корзине покупок.\n",
    "    - На гистограмме выручки было замечено аномально большое значение выручки за месяц. Возможно, данный покупатель взял товары из раздела электроники оптом. Данный покупатель был удален и данных.\n",
    "    - Клиенты с активностью менее 3 месяцев также были убраны. Таких пользователей оказалось всего 3.\n",
    "\n",
    "\n",
    "4. В результате объединения таблиц разделили признаки выручки и минут на сайте по периодам. Итоговый датасет имеет 1296 записей клиентов с 18 признаками, включая уникальный id.\n",
    "\n",
    "\n",
    "5. В ходе корреляционного анализа построили матрицу спирмана, т.к. признак `длительности времени с момента регистрации`, не распределен нормально. На ее основе пронаблюдали высокую корреляцию между выручками за текущий и предыдущий месяцы. Мультиколиинеарности не было обнаружено.\n",
    "\n",
    "\n",
    "6. В ходе обучения модели были использованы пайплайны. \n",
    "    - Был осуществлен перебор методов маштабирования (StandardScaler и MinMaxScaler) и самих моделей (DecisionTreeClassifier, KNeighborsClassifier, SVC, LogisticRegression) с помощью метода GridSearchCV. Т.к. в датасете объектов с одним значением целевого признака больше, чем с другим, использовалась метрика ROC-AUC. По результатам обучения лучшая модель - SVC (метод опорных векторов), лучший метод масштабирования колличественных признаков - StandardScaler. На этих вводных метрика ROC-AUC имела значения: 0.9083 (90% точности предсказания).\n",
    "    - Далее был осуществлен подбор гиперпараметров для каждой модели. После обучения лучшая модель и значение метрики модели не изменились.\n",
    "    - Лучшая модель была проверена на тестовой выборке. Метрика ROC-AUC показала себя еще лучше: 0.9125.\n",
    "\n",
    "\n",
    "7. В результате оценки важности признаков у лучшей моделибыло определено следующее:\n",
    "    - Количество посещенных страниц, минуты на сайте по месяцам и средний просмотр категорий за визит влияют на целевой признак покупательская активность больше остальных признаков. Чем больше страниц клиент посетил, и чем больше минут провел на сайте, тем выше будет его общая активность.\n",
    "    - Акции также сильно влияют на активность, бизнесу стоит пороработать данный фактор.\n",
    "\n",
    "\n",
    "8. Провели анализ сегмента покупателей с популярной категорией `домашний текстиль`: Доля клиентов с высокой вероятностью снижения активности относительно общего числа клиентов категории составляет около 30%. Прибыль данной группы сопоставима с прибылью клиентов с высокой активностью. Почти 70% клиентов этой группы лояльны к рассылке рекламы и такой же процент клиентов имеет тип сервиса \"стандарт\".\n",
    "\n",
    "-------------------------------------------------------------------------------------------------------------------------------\n",
    "\n",
    "**В целях удержания данного сегмента сервису предлагается скорректировать персональные предложения товаров, а также ввести выгодные предложения для клиентов сервиса стандарт по переходу на премиум. \n",
    "Также стоит поработать над разнообразием предлагаемых товаров на сервисе с целью увеличения количества просмотренных страниц и ввести раздел с персональными рекомендациями по прошлой активности.**"
   ]
  }
 ],
 "metadata": {
  "ExecuteTimeLog": [
   {
    "duration": 47,
    "start_time": "2024-05-25T07:01:06.752Z"
   },
   {
    "duration": 475,
    "start_time": "2024-05-25T07:02:31.768Z"
   },
   {
    "duration": 258,
    "start_time": "2024-05-25T07:02:33.119Z"
   },
   {
    "duration": 23,
    "start_time": "2024-05-25T07:02:35.715Z"
   },
   {
    "duration": 40,
    "start_time": "2024-05-25T07:25:44.423Z"
   },
   {
    "duration": 4,
    "start_time": "2024-05-25T07:25:53.722Z"
   },
   {
    "duration": 7,
    "start_time": "2024-05-25T07:27:45.544Z"
   },
   {
    "duration": 12,
    "start_time": "2024-05-25T07:27:54.184Z"
   },
   {
    "duration": 12,
    "start_time": "2024-05-25T07:30:06.268Z"
   },
   {
    "duration": 10,
    "start_time": "2024-05-25T07:44:02.278Z"
   },
   {
    "duration": 432,
    "start_time": "2024-05-26T02:08:15.794Z"
   },
   {
    "duration": 366,
    "start_time": "2024-05-26T02:08:16.228Z"
   },
   {
    "duration": 25,
    "start_time": "2024-05-26T02:08:16.596Z"
   },
   {
    "duration": 13,
    "start_time": "2024-05-26T02:08:16.623Z"
   },
   {
    "duration": 10,
    "start_time": "2024-05-26T02:08:16.638Z"
   },
   {
    "duration": 9,
    "start_time": "2024-05-26T02:08:16.649Z"
   },
   {
    "duration": 24,
    "start_time": "2024-05-26T02:08:16.660Z"
   },
   {
    "duration": 11,
    "start_time": "2024-05-26T02:10:48.453Z"
   },
   {
    "duration": 9,
    "start_time": "2024-05-26T02:12:50.737Z"
   },
   {
    "duration": 84,
    "start_time": "2024-05-26T02:14:00.290Z"
   },
   {
    "duration": 8,
    "start_time": "2024-05-26T02:14:05.114Z"
   },
   {
    "duration": 10,
    "start_time": "2024-05-26T02:14:47.870Z"
   },
   {
    "duration": 92,
    "start_time": "2024-05-26T02:23:44.034Z"
   },
   {
    "duration": 9,
    "start_time": "2024-05-26T02:23:49.643Z"
   },
   {
    "duration": 11,
    "start_time": "2024-05-26T02:23:53.053Z"
   },
   {
    "duration": 9,
    "start_time": "2024-05-26T06:07:17.479Z"
   },
   {
    "duration": 6,
    "start_time": "2024-05-26T06:07:53.174Z"
   },
   {
    "duration": 12,
    "start_time": "2024-05-26T06:10:11.613Z"
   },
   {
    "duration": 12,
    "start_time": "2024-05-26T06:23:26.793Z"
   },
   {
    "duration": 5,
    "start_time": "2024-05-26T06:23:34.763Z"
   },
   {
    "duration": 5,
    "start_time": "2024-05-26T06:23:39.323Z"
   },
   {
    "duration": 5,
    "start_time": "2024-05-26T06:24:57.911Z"
   },
   {
    "duration": 48,
    "start_time": "2024-05-26T06:36:03.104Z"
   },
   {
    "duration": 42,
    "start_time": "2024-05-26T06:36:37.756Z"
   },
   {
    "duration": 15,
    "start_time": "2024-05-26T06:36:51.772Z"
   },
   {
    "duration": 51,
    "start_time": "2024-05-26T06:51:55.992Z"
   },
   {
    "duration": 51,
    "start_time": "2024-05-26T06:52:04.511Z"
   },
   {
    "duration": 537,
    "start_time": "2024-05-26T06:52:12.714Z"
   },
   {
    "duration": 70,
    "start_time": "2024-05-26T06:52:47.993Z"
   },
   {
    "duration": 11,
    "start_time": "2024-05-26T06:52:52.934Z"
   },
   {
    "duration": 16,
    "start_time": "2024-05-26T07:06:40.224Z"
   },
   {
    "duration": 5,
    "start_time": "2024-05-26T07:10:26.377Z"
   },
   {
    "duration": 6,
    "start_time": "2024-05-26T07:13:08.693Z"
   },
   {
    "duration": 6,
    "start_time": "2024-05-26T07:13:19.448Z"
   },
   {
    "duration": 26,
    "start_time": "2024-05-26T07:13:45.540Z"
   },
   {
    "duration": 13,
    "start_time": "2024-05-26T07:13:52.364Z"
   },
   {
    "duration": 6,
    "start_time": "2024-05-26T07:17:17.953Z"
   },
   {
    "duration": 6,
    "start_time": "2024-05-26T07:18:37.242Z"
   },
   {
    "duration": 8,
    "start_time": "2024-05-26T07:52:38.246Z"
   },
   {
    "duration": 5,
    "start_time": "2024-05-26T08:13:37.462Z"
   },
   {
    "duration": 6,
    "start_time": "2024-05-26T08:14:46.988Z"
   },
   {
    "duration": 417,
    "start_time": "2024-05-27T07:33:26.397Z"
   },
   {
    "duration": 351,
    "start_time": "2024-05-27T07:33:26.816Z"
   },
   {
    "duration": 26,
    "start_time": "2024-05-27T07:33:27.169Z"
   },
   {
    "duration": 28,
    "start_time": "2024-05-27T07:33:27.197Z"
   },
   {
    "duration": 11,
    "start_time": "2024-05-27T07:33:27.227Z"
   },
   {
    "duration": 15,
    "start_time": "2024-05-27T07:33:27.239Z"
   },
   {
    "duration": 10,
    "start_time": "2024-05-27T07:33:27.256Z"
   },
   {
    "duration": 27,
    "start_time": "2024-05-27T07:33:27.267Z"
   },
   {
    "duration": 25,
    "start_time": "2024-05-27T07:33:27.297Z"
   },
   {
    "duration": 12,
    "start_time": "2024-05-27T07:33:27.323Z"
   },
   {
    "duration": 7,
    "start_time": "2024-05-27T07:33:27.337Z"
   },
   {
    "duration": 23,
    "start_time": "2024-05-27T07:33:27.345Z"
   },
   {
    "duration": 17,
    "start_time": "2024-05-27T07:33:27.370Z"
   },
   {
    "duration": 13,
    "start_time": "2024-05-27T07:33:27.390Z"
   },
   {
    "duration": 12,
    "start_time": "2024-05-27T07:33:27.405Z"
   },
   {
    "duration": 6,
    "start_time": "2024-05-27T07:33:27.419Z"
   },
   {
    "duration": 6,
    "start_time": "2024-05-27T07:33:27.426Z"
   },
   {
    "duration": 28,
    "start_time": "2024-05-27T07:33:27.434Z"
   },
   {
    "duration": 50,
    "start_time": "2024-05-27T07:33:27.464Z"
   },
   {
    "duration": 8,
    "start_time": "2024-05-27T07:33:27.516Z"
   },
   {
    "duration": 6,
    "start_time": "2024-05-27T07:33:27.525Z"
   },
   {
    "duration": 423,
    "start_time": "2024-05-27T08:00:52.101Z"
   },
   {
    "duration": 5,
    "start_time": "2024-05-27T08:02:11.091Z"
   },
   {
    "duration": 80,
    "start_time": "2024-05-27T08:05:37.462Z"
   },
   {
    "duration": 135,
    "start_time": "2024-05-27T08:05:48.333Z"
   },
   {
    "duration": 149,
    "start_time": "2024-05-27T08:06:32.079Z"
   },
   {
    "duration": 567,
    "start_time": "2024-05-27T08:07:03.223Z"
   },
   {
    "duration": 348,
    "start_time": "2024-05-27T08:07:08.495Z"
   },
   {
    "duration": 40,
    "start_time": "2024-05-27T08:07:29.974Z"
   },
   {
    "duration": 21,
    "start_time": "2024-05-27T08:07:43.565Z"
   },
   {
    "duration": 20,
    "start_time": "2024-05-27T08:08:37.074Z"
   },
   {
    "duration": 13,
    "start_time": "2024-05-27T08:13:10.338Z"
   },
   {
    "duration": 290,
    "start_time": "2024-05-27T08:13:31.932Z"
   },
   {
    "duration": 20,
    "start_time": "2024-05-27T08:14:17.671Z"
   },
   {
    "duration": 231,
    "start_time": "2024-05-27T08:14:24.568Z"
   },
   {
    "duration": 343,
    "start_time": "2024-05-27T08:14:28.594Z"
   },
   {
    "duration": 208,
    "start_time": "2024-05-27T08:14:33.633Z"
   },
   {
    "duration": 315,
    "start_time": "2024-05-27T08:14:38.355Z"
   },
   {
    "duration": 322,
    "start_time": "2024-05-27T08:15:12.563Z"
   },
   {
    "duration": 424,
    "start_time": "2024-05-27T08:15:26.988Z"
   },
   {
    "duration": 311,
    "start_time": "2024-05-27T08:15:37.928Z"
   },
   {
    "duration": 342,
    "start_time": "2024-05-27T08:15:48.440Z"
   },
   {
    "duration": 50,
    "start_time": "2024-05-27T08:18:21.540Z"
   },
   {
    "duration": 47,
    "start_time": "2024-05-27T08:18:30.751Z"
   },
   {
    "duration": 69,
    "start_time": "2024-05-27T08:18:51.307Z"
   },
   {
    "duration": 62,
    "start_time": "2024-05-27T08:19:20.780Z"
   },
   {
    "duration": 60,
    "start_time": "2024-05-27T08:19:35.474Z"
   },
   {
    "duration": 59,
    "start_time": "2024-05-27T08:19:42.442Z"
   },
   {
    "duration": 58,
    "start_time": "2024-05-27T08:20:00.614Z"
   },
   {
    "duration": 64,
    "start_time": "2024-05-27T08:20:15.173Z"
   },
   {
    "duration": 61,
    "start_time": "2024-05-27T08:23:17.740Z"
   },
   {
    "duration": 70,
    "start_time": "2024-05-27T08:29:24.425Z"
   },
   {
    "duration": 152,
    "start_time": "2024-05-27T08:29:45.046Z"
   },
   {
    "duration": 103,
    "start_time": "2024-05-27T08:30:06.743Z"
   },
   {
    "duration": 70,
    "start_time": "2024-05-27T08:30:36.119Z"
   },
   {
    "duration": 64,
    "start_time": "2024-05-27T08:30:50.011Z"
   },
   {
    "duration": 3,
    "start_time": "2024-05-27T08:34:28.088Z"
   },
   {
    "duration": 222,
    "start_time": "2024-05-27T08:34:29.681Z"
   },
   {
    "duration": 49,
    "start_time": "2024-05-27T08:35:32.908Z"
   },
   {
    "duration": 44,
    "start_time": "2024-05-27T08:35:37.921Z"
   },
   {
    "duration": 46,
    "start_time": "2024-05-27T08:35:59.388Z"
   },
   {
    "duration": 52,
    "start_time": "2024-05-27T08:36:04.055Z"
   },
   {
    "duration": 42,
    "start_time": "2024-05-27T08:36:10.083Z"
   },
   {
    "duration": 44,
    "start_time": "2024-05-27T08:36:54.707Z"
   },
   {
    "duration": 203,
    "start_time": "2024-05-27T08:41:45.479Z"
   },
   {
    "duration": 76,
    "start_time": "2024-05-27T08:44:23.929Z"
   },
   {
    "duration": 148,
    "start_time": "2024-05-27T08:44:32.484Z"
   },
   {
    "duration": 140,
    "start_time": "2024-05-27T08:45:51.483Z"
   },
   {
    "duration": 80,
    "start_time": "2024-05-27T08:46:04.487Z"
   },
   {
    "duration": 73,
    "start_time": "2024-05-27T08:48:55.471Z"
   },
   {
    "duration": 74,
    "start_time": "2024-05-27T08:49:17.849Z"
   },
   {
    "duration": 54,
    "start_time": "2024-05-27T08:49:37.013Z"
   },
   {
    "duration": 80,
    "start_time": "2024-05-27T08:49:46.310Z"
   },
   {
    "duration": 80,
    "start_time": "2024-05-27T08:50:24.987Z"
   },
   {
    "duration": 72,
    "start_time": "2024-05-27T08:50:49.006Z"
   },
   {
    "duration": 183,
    "start_time": "2024-05-27T08:51:29.215Z"
   },
   {
    "duration": 80,
    "start_time": "2024-05-27T08:51:36.453Z"
   },
   {
    "duration": 168,
    "start_time": "2024-05-27T08:51:49.202Z"
   },
   {
    "duration": 170,
    "start_time": "2024-05-27T08:52:40.212Z"
   },
   {
    "duration": 86,
    "start_time": "2024-05-27T08:53:00.054Z"
   },
   {
    "duration": 87,
    "start_time": "2024-05-27T08:53:07.873Z"
   },
   {
    "duration": 94,
    "start_time": "2024-05-27T08:53:19.412Z"
   },
   {
    "duration": 75,
    "start_time": "2024-05-27T08:53:29.459Z"
   },
   {
    "duration": 74,
    "start_time": "2024-05-27T08:53:35.332Z"
   },
   {
    "duration": 72,
    "start_time": "2024-05-27T08:53:39.176Z"
   },
   {
    "duration": 72,
    "start_time": "2024-05-27T08:54:11.640Z"
   },
   {
    "duration": 77,
    "start_time": "2024-05-27T08:55:43.559Z"
   },
   {
    "duration": 71,
    "start_time": "2024-05-27T08:55:57.099Z"
   },
   {
    "duration": 76,
    "start_time": "2024-05-27T08:56:08.527Z"
   },
   {
    "duration": 127,
    "start_time": "2024-05-27T08:57:54.154Z"
   },
   {
    "duration": 81,
    "start_time": "2024-05-27T08:58:01.638Z"
   },
   {
    "duration": 49,
    "start_time": "2024-05-27T08:59:06.820Z"
   },
   {
    "duration": 76,
    "start_time": "2024-05-27T08:59:28.253Z"
   },
   {
    "duration": 80,
    "start_time": "2024-05-27T09:01:21.457Z"
   },
   {
    "duration": 22,
    "start_time": "2024-05-27T09:01:36.389Z"
   },
   {
    "duration": 67,
    "start_time": "2024-05-27T09:01:47.531Z"
   },
   {
    "duration": 300,
    "start_time": "2024-05-27T09:01:52.588Z"
   },
   {
    "duration": 19,
    "start_time": "2024-05-27T09:02:16.484Z"
   },
   {
    "duration": 212,
    "start_time": "2024-05-27T09:02:24.223Z"
   },
   {
    "duration": 225,
    "start_time": "2024-05-27T09:02:50.888Z"
   },
   {
    "duration": 174,
    "start_time": "2024-05-27T09:03:25.844Z"
   },
   {
    "duration": 207,
    "start_time": "2024-05-27T09:07:07.127Z"
   },
   {
    "duration": 285,
    "start_time": "2024-05-27T09:07:18.745Z"
   },
   {
    "duration": 294,
    "start_time": "2024-05-27T09:07:39.922Z"
   },
   {
    "duration": 20,
    "start_time": "2024-05-27T09:08:08.501Z"
   },
   {
    "duration": 20,
    "start_time": "2024-05-27T09:08:23.790Z"
   },
   {
    "duration": 86,
    "start_time": "2024-05-27T09:08:39.421Z"
   },
   {
    "duration": 149,
    "start_time": "2024-05-27T09:08:49.331Z"
   },
   {
    "duration": 409,
    "start_time": "2024-05-27T09:08:58.471Z"
   },
   {
    "duration": 13,
    "start_time": "2024-05-27T09:09:58.362Z"
   },
   {
    "duration": 280,
    "start_time": "2024-05-27T09:10:21.289Z"
   },
   {
    "duration": 61,
    "start_time": "2024-05-27T09:10:53.854Z"
   },
   {
    "duration": 47,
    "start_time": "2024-05-27T09:11:07.432Z"
   },
   {
    "duration": 43,
    "start_time": "2024-05-27T09:11:43.959Z"
   },
   {
    "duration": 14,
    "start_time": "2024-05-27T09:11:48.971Z"
   },
   {
    "duration": 2051,
    "start_time": "2024-05-27T09:12:16.510Z"
   },
   {
    "duration": 1032,
    "start_time": "2024-05-27T09:12:53.064Z"
   },
   {
    "duration": 1251,
    "start_time": "2024-05-27T09:13:03.149Z"
   },
   {
    "duration": 206,
    "start_time": "2024-05-27T09:15:04.198Z"
   },
   {
    "duration": 328,
    "start_time": "2024-05-27T09:15:08.576Z"
   },
   {
    "duration": 302,
    "start_time": "2024-05-27T09:15:18.890Z"
   },
   {
    "duration": 177,
    "start_time": "2024-05-27T09:15:34.265Z"
   },
   {
    "duration": 455,
    "start_time": "2024-05-27T09:15:40.662Z"
   },
   {
    "duration": 283,
    "start_time": "2024-05-27T09:16:00.262Z"
   },
   {
    "duration": 283,
    "start_time": "2024-05-27T09:16:06.202Z"
   },
   {
    "duration": 19,
    "start_time": "2024-05-27T09:16:14.667Z"
   },
   {
    "duration": 303,
    "start_time": "2024-05-27T09:16:20.687Z"
   },
   {
    "duration": 181,
    "start_time": "2024-05-27T09:17:10.612Z"
   },
   {
    "duration": 168,
    "start_time": "2024-05-27T09:17:25.683Z"
   },
   {
    "duration": 418,
    "start_time": "2024-05-27T09:18:44.911Z"
   },
   {
    "duration": 277,
    "start_time": "2024-05-27T09:18:56.129Z"
   },
   {
    "duration": 210,
    "start_time": "2024-05-27T09:19:04.270Z"
   },
   {
    "duration": 304,
    "start_time": "2024-05-27T09:19:26.733Z"
   },
   {
    "duration": 170,
    "start_time": "2024-05-27T09:21:43.967Z"
   },
   {
    "duration": 157,
    "start_time": "2024-05-27T09:21:54.786Z"
   },
   {
    "duration": 284,
    "start_time": "2024-05-27T09:22:37.488Z"
   },
   {
    "duration": 405,
    "start_time": "2024-05-27T09:23:09.836Z"
   },
   {
    "duration": 141,
    "start_time": "2024-05-27T09:23:19.293Z"
   },
   {
    "duration": 284,
    "start_time": "2024-05-27T09:23:29.396Z"
   },
   {
    "duration": 372,
    "start_time": "2024-05-27T09:23:38.338Z"
   },
   {
    "duration": 1163,
    "start_time": "2024-05-27T09:24:30.322Z"
   },
   {
    "duration": 85,
    "start_time": "2024-05-27T09:24:31.488Z"
   },
   {
    "duration": 267,
    "start_time": "2024-05-27T09:24:31.575Z"
   },
   {
    "duration": 80,
    "start_time": "2024-05-27T09:24:31.843Z"
   },
   {
    "duration": 72,
    "start_time": "2024-05-27T09:24:31.926Z"
   },
   {
    "duration": 87,
    "start_time": "2024-05-27T09:24:32.001Z"
   },
   {
    "duration": 76,
    "start_time": "2024-05-27T09:24:32.090Z"
   },
   {
    "duration": 31,
    "start_time": "2024-05-27T09:24:32.169Z"
   },
   {
    "duration": 85,
    "start_time": "2024-05-27T09:24:32.202Z"
   },
   {
    "duration": 198,
    "start_time": "2024-05-27T09:24:32.289Z"
   },
   {
    "duration": 8,
    "start_time": "2024-05-27T09:24:32.489Z"
   },
   {
    "duration": 38,
    "start_time": "2024-05-27T09:24:32.499Z"
   },
   {
    "duration": 17,
    "start_time": "2024-05-27T09:24:32.538Z"
   },
   {
    "duration": 17,
    "start_time": "2024-05-27T09:24:32.558Z"
   },
   {
    "duration": 18,
    "start_time": "2024-05-27T09:24:32.577Z"
   },
   {
    "duration": 14,
    "start_time": "2024-05-27T09:24:32.597Z"
   },
   {
    "duration": 13,
    "start_time": "2024-05-27T09:24:32.613Z"
   },
   {
    "duration": 35,
    "start_time": "2024-05-27T09:24:32.628Z"
   },
   {
    "duration": 36,
    "start_time": "2024-05-27T09:24:32.665Z"
   },
   {
    "duration": 21,
    "start_time": "2024-05-27T09:24:32.703Z"
   },
   {
    "duration": 5,
    "start_time": "2024-05-27T09:24:35.821Z"
   },
   {
    "duration": 396,
    "start_time": "2024-05-27T09:24:41.431Z"
   },
   {
    "duration": 343,
    "start_time": "2024-05-27T09:25:33.839Z"
   },
   {
    "duration": 265,
    "start_time": "2024-05-27T09:30:21.730Z"
   },
   {
    "duration": 17,
    "start_time": "2024-05-27T09:30:38.619Z"
   },
   {
    "duration": 73,
    "start_time": "2024-05-27T09:31:26.140Z"
   },
   {
    "duration": 114,
    "start_time": "2024-05-27T09:31:32.968Z"
   },
   {
    "duration": 109,
    "start_time": "2024-05-27T09:31:41.841Z"
   },
   {
    "duration": 83,
    "start_time": "2024-05-27T09:31:49.379Z"
   },
   {
    "duration": 148,
    "start_time": "2024-05-27T09:31:56.610Z"
   },
   {
    "duration": 80,
    "start_time": "2024-05-27T09:32:00.748Z"
   },
   {
    "duration": 73,
    "start_time": "2024-05-27T09:34:22.438Z"
   },
   {
    "duration": 82,
    "start_time": "2024-05-27T09:34:48.455Z"
   },
   {
    "duration": 87,
    "start_time": "2024-05-27T09:34:54.786Z"
   },
   {
    "duration": 74,
    "start_time": "2024-05-27T09:35:02.379Z"
   },
   {
    "duration": 361,
    "start_time": "2024-05-27T09:55:38.934Z"
   },
   {
    "duration": 353,
    "start_time": "2024-05-27T09:55:50.718Z"
   },
   {
    "duration": 438,
    "start_time": "2024-05-27T09:56:39.076Z"
   },
   {
    "duration": 335,
    "start_time": "2024-05-27T09:57:03.664Z"
   },
   {
    "duration": 360,
    "start_time": "2024-05-27T09:57:32.029Z"
   },
   {
    "duration": 139,
    "start_time": "2024-05-27T09:58:12.995Z"
   },
   {
    "duration": 44,
    "start_time": "2024-05-27T10:00:58.041Z"
   },
   {
    "duration": 80,
    "start_time": "2024-05-27T10:01:03.238Z"
   },
   {
    "duration": 329,
    "start_time": "2024-05-27T10:02:44.289Z"
   },
   {
    "duration": 328,
    "start_time": "2024-05-27T10:03:04.737Z"
   },
   {
    "duration": 7,
    "start_time": "2024-05-27T10:29:27.878Z"
   },
   {
    "duration": 1223,
    "start_time": "2024-05-27T10:29:40.950Z"
   },
   {
    "duration": 4,
    "start_time": "2024-05-27T10:30:17.088Z"
   },
   {
    "duration": 16,
    "start_time": "2024-05-27T10:31:36.894Z"
   },
   {
    "duration": 4,
    "start_time": "2024-05-27T10:31:46.849Z"
   },
   {
    "duration": 1775,
    "start_time": "2024-05-27T10:33:09.499Z"
   },
   {
    "duration": 4,
    "start_time": "2024-05-27T10:33:28.232Z"
   },
   {
    "duration": 1917,
    "start_time": "2024-05-27T10:33:29.975Z"
   },
   {
    "duration": 4,
    "start_time": "2024-05-27T10:33:39.348Z"
   },
   {
    "duration": 1916,
    "start_time": "2024-05-27T10:33:43.918Z"
   },
   {
    "duration": 49,
    "start_time": "2024-05-27T10:33:54.697Z"
   },
   {
    "duration": 2100,
    "start_time": "2024-05-27T10:33:56.397Z"
   },
   {
    "duration": 53,
    "start_time": "2024-05-27T10:34:11.860Z"
   },
   {
    "duration": 44,
    "start_time": "2024-05-27T10:35:03.212Z"
   },
   {
    "duration": 51,
    "start_time": "2024-05-27T10:35:18.041Z"
   },
   {
    "duration": 45,
    "start_time": "2024-05-27T10:35:23.503Z"
   },
   {
    "duration": 1929,
    "start_time": "2024-05-27T10:35:26.712Z"
   },
   {
    "duration": 43,
    "start_time": "2024-05-27T10:35:59.137Z"
   },
   {
    "duration": 1209,
    "start_time": "2024-05-27T10:36:14.202Z"
   },
   {
    "duration": 85,
    "start_time": "2024-05-27T10:36:15.414Z"
   },
   {
    "duration": 23,
    "start_time": "2024-05-27T10:36:15.501Z"
   },
   {
    "duration": 31,
    "start_time": "2024-05-27T10:36:15.526Z"
   },
   {
    "duration": 11,
    "start_time": "2024-05-27T10:36:15.558Z"
   },
   {
    "duration": 18,
    "start_time": "2024-05-27T10:36:15.571Z"
   },
   {
    "duration": 34,
    "start_time": "2024-05-27T10:36:15.591Z"
   },
   {
    "duration": 57,
    "start_time": "2024-05-27T10:36:15.626Z"
   },
   {
    "duration": 31,
    "start_time": "2024-05-27T10:36:15.685Z"
   },
   {
    "duration": 26,
    "start_time": "2024-05-27T10:36:15.718Z"
   },
   {
    "duration": 15,
    "start_time": "2024-05-27T10:36:15.746Z"
   },
   {
    "duration": 101,
    "start_time": "2024-05-27T10:36:15.763Z"
   },
   {
    "duration": 7,
    "start_time": "2024-05-27T10:36:15.866Z"
   },
   {
    "duration": 8,
    "start_time": "2024-05-27T10:36:15.875Z"
   },
   {
    "duration": 134,
    "start_time": "2024-05-27T10:36:15.884Z"
   },
   {
    "duration": 6,
    "start_time": "2024-05-27T10:36:16.020Z"
   },
   {
    "duration": 15,
    "start_time": "2024-05-27T10:36:16.027Z"
   },
   {
    "duration": 5,
    "start_time": "2024-05-27T10:36:16.044Z"
   },
   {
    "duration": 6,
    "start_time": "2024-05-27T10:36:16.051Z"
   },
   {
    "duration": 4,
    "start_time": "2024-05-27T10:36:16.059Z"
   },
   {
    "duration": 8,
    "start_time": "2024-05-27T10:36:16.064Z"
   },
   {
    "duration": 423,
    "start_time": "2024-05-27T10:36:16.074Z"
   },
   {
    "duration": 87,
    "start_time": "2024-05-27T10:36:16.499Z"
   },
   {
    "duration": 75,
    "start_time": "2024-05-27T10:36:16.588Z"
   },
   {
    "duration": 47,
    "start_time": "2024-05-27T10:36:20.523Z"
   },
   {
    "duration": 115,
    "start_time": "2024-05-27T10:36:24.545Z"
   },
   {
    "duration": 4,
    "start_time": "2024-05-27T10:36:49.316Z"
   },
   {
    "duration": 1088,
    "start_time": "2024-05-27T10:36:52.600Z"
   },
   {
    "duration": 4,
    "start_time": "2024-05-27T10:37:13.531Z"
   },
   {
    "duration": 1169,
    "start_time": "2024-05-27T10:37:14.986Z"
   },
   {
    "duration": 4,
    "start_time": "2024-05-27T10:39:17.004Z"
   },
   {
    "duration": 1181,
    "start_time": "2024-05-27T10:39:19.308Z"
   },
   {
    "duration": 4,
    "start_time": "2024-05-27T10:39:32.521Z"
   },
   {
    "duration": 1336,
    "start_time": "2024-05-27T10:39:45.393Z"
   },
   {
    "duration": 5,
    "start_time": "2024-05-27T10:40:03.427Z"
   },
   {
    "duration": 1099,
    "start_time": "2024-05-27T10:40:05.143Z"
   },
   {
    "duration": 4,
    "start_time": "2024-05-27T10:40:13.073Z"
   },
   {
    "duration": 1137,
    "start_time": "2024-05-27T10:40:14.481Z"
   },
   {
    "duration": 4,
    "start_time": "2024-05-27T10:40:23.971Z"
   },
   {
    "duration": 966,
    "start_time": "2024-05-27T10:40:26.791Z"
   },
   {
    "duration": 4,
    "start_time": "2024-05-27T10:41:01.728Z"
   },
   {
    "duration": 1223,
    "start_time": "2024-05-27T10:41:03.860Z"
   },
   {
    "duration": 5,
    "start_time": "2024-05-27T10:41:26.782Z"
   },
   {
    "duration": 1319,
    "start_time": "2024-05-27T10:41:28.164Z"
   },
   {
    "duration": 4,
    "start_time": "2024-05-27T10:42:22.579Z"
   },
   {
    "duration": 2204,
    "start_time": "2024-05-27T10:42:24.311Z"
   },
   {
    "duration": 4,
    "start_time": "2024-05-27T10:42:46.817Z"
   },
   {
    "duration": 195,
    "start_time": "2024-05-27T10:42:48.209Z"
   },
   {
    "duration": 4,
    "start_time": "2024-05-27T10:43:02.309Z"
   },
   {
    "duration": 205,
    "start_time": "2024-05-27T10:43:03.558Z"
   },
   {
    "duration": 4,
    "start_time": "2024-05-27T10:43:19.105Z"
   },
   {
    "duration": 2363,
    "start_time": "2024-05-27T10:43:20.352Z"
   },
   {
    "duration": 5,
    "start_time": "2024-05-27T10:44:31.871Z"
   },
   {
    "duration": 2307,
    "start_time": "2024-05-27T10:44:33.660Z"
   },
   {
    "duration": 4,
    "start_time": "2024-05-27T10:45:03.470Z"
   },
   {
    "duration": 2214,
    "start_time": "2024-05-27T10:45:04.620Z"
   },
   {
    "duration": 5,
    "start_time": "2024-05-27T10:50:34.612Z"
   },
   {
    "duration": 2331,
    "start_time": "2024-05-27T10:50:36.352Z"
   },
   {
    "duration": 4,
    "start_time": "2024-05-27T10:51:32.111Z"
   },
   {
    "duration": 1186,
    "start_time": "2024-05-27T10:51:33.272Z"
   },
   {
    "duration": 5,
    "start_time": "2024-05-27T10:53:50.125Z"
   },
   {
    "duration": 196,
    "start_time": "2024-05-27T10:53:51.448Z"
   },
   {
    "duration": 5,
    "start_time": "2024-05-27T10:55:03.582Z"
   },
   {
    "duration": 1492,
    "start_time": "2024-05-27T10:55:04.956Z"
   },
   {
    "duration": 5,
    "start_time": "2024-05-27T10:55:36.692Z"
   },
   {
    "duration": 1393,
    "start_time": "2024-05-27T10:55:40.676Z"
   },
   {
    "duration": 5,
    "start_time": "2024-05-27T10:56:27.601Z"
   },
   {
    "duration": 3309,
    "start_time": "2024-05-27T10:56:28.946Z"
   },
   {
    "duration": 4,
    "start_time": "2024-05-27T10:56:50.597Z"
   },
   {
    "duration": 3158,
    "start_time": "2024-05-27T10:56:51.903Z"
   },
   {
    "duration": 6,
    "start_time": "2024-05-27T10:57:02.655Z"
   },
   {
    "duration": 2890,
    "start_time": "2024-05-27T10:57:04.642Z"
   },
   {
    "duration": 4,
    "start_time": "2024-05-27T10:57:27.535Z"
   },
   {
    "duration": 208,
    "start_time": "2024-05-27T10:57:28.975Z"
   },
   {
    "duration": 5,
    "start_time": "2024-05-27T10:57:42.269Z"
   },
   {
    "duration": 3152,
    "start_time": "2024-05-27T10:57:43.579Z"
   },
   {
    "duration": 4,
    "start_time": "2024-05-27T10:58:00.011Z"
   },
   {
    "duration": 3004,
    "start_time": "2024-05-27T10:58:01.423Z"
   },
   {
    "duration": 5,
    "start_time": "2024-05-27T10:58:55.407Z"
   },
   {
    "duration": 2843,
    "start_time": "2024-05-27T10:58:57.072Z"
   },
   {
    "duration": 6,
    "start_time": "2024-05-27T11:00:23.115Z"
   },
   {
    "duration": 2771,
    "start_time": "2024-05-27T11:00:25.028Z"
   },
   {
    "duration": 4,
    "start_time": "2024-05-27T11:00:35.805Z"
   },
   {
    "duration": 2853,
    "start_time": "2024-05-27T11:00:37.175Z"
   },
   {
    "duration": 4,
    "start_time": "2024-05-27T11:01:18.676Z"
   },
   {
    "duration": 3111,
    "start_time": "2024-05-27T11:01:19.890Z"
   },
   {
    "duration": 4,
    "start_time": "2024-05-27T11:01:32.842Z"
   },
   {
    "duration": 2775,
    "start_time": "2024-05-27T11:01:34.310Z"
   },
   {
    "duration": 4,
    "start_time": "2024-05-27T11:02:06.906Z"
   },
   {
    "duration": 2898,
    "start_time": "2024-05-27T11:02:08.147Z"
   },
   {
    "duration": 4,
    "start_time": "2024-05-27T11:02:15.053Z"
   },
   {
    "duration": 175,
    "start_time": "2024-05-27T11:02:16.301Z"
   },
   {
    "duration": 5,
    "start_time": "2024-05-27T11:02:24.408Z"
   },
   {
    "duration": 2815,
    "start_time": "2024-05-27T11:02:25.543Z"
   },
   {
    "duration": 5,
    "start_time": "2024-05-27T11:02:36.072Z"
   },
   {
    "duration": 3215,
    "start_time": "2024-05-27T11:02:37.346Z"
   },
   {
    "duration": 9,
    "start_time": "2024-05-28T08:54:20.169Z"
   },
   {
    "duration": 1303,
    "start_time": "2024-05-28T08:54:31.194Z"
   },
   {
    "duration": 249,
    "start_time": "2024-05-28T08:54:32.500Z"
   },
   {
    "duration": 22,
    "start_time": "2024-05-28T08:54:32.751Z"
   },
   {
    "duration": 18,
    "start_time": "2024-05-28T08:54:32.775Z"
   },
   {
    "duration": 10,
    "start_time": "2024-05-28T08:54:32.795Z"
   },
   {
    "duration": 10,
    "start_time": "2024-05-28T08:54:32.806Z"
   },
   {
    "duration": 8,
    "start_time": "2024-05-28T08:54:32.818Z"
   },
   {
    "duration": 11,
    "start_time": "2024-05-28T08:54:32.827Z"
   },
   {
    "duration": 9,
    "start_time": "2024-05-28T08:54:32.839Z"
   },
   {
    "duration": 16,
    "start_time": "2024-05-28T08:54:32.849Z"
   },
   {
    "duration": 8,
    "start_time": "2024-05-28T08:54:32.867Z"
   },
   {
    "duration": 22,
    "start_time": "2024-05-28T08:54:32.877Z"
   },
   {
    "duration": 5,
    "start_time": "2024-05-28T08:54:32.913Z"
   },
   {
    "duration": 18,
    "start_time": "2024-05-28T08:54:32.922Z"
   },
   {
    "duration": 22,
    "start_time": "2024-05-28T08:54:32.941Z"
   },
   {
    "duration": 8,
    "start_time": "2024-05-28T08:54:32.965Z"
   },
   {
    "duration": 9,
    "start_time": "2024-05-28T08:54:32.975Z"
   },
   {
    "duration": 6,
    "start_time": "2024-05-28T08:54:32.986Z"
   },
   {
    "duration": 7,
    "start_time": "2024-05-28T08:54:33.011Z"
   },
   {
    "duration": 12,
    "start_time": "2024-05-28T08:54:33.020Z"
   },
   {
    "duration": 18,
    "start_time": "2024-05-28T08:54:33.034Z"
   },
   {
    "duration": 385,
    "start_time": "2024-05-28T08:54:33.053Z"
   },
   {
    "duration": 76,
    "start_time": "2024-05-28T08:54:33.439Z"
   },
   {
    "duration": 72,
    "start_time": "2024-05-28T08:54:33.517Z"
   },
   {
    "duration": 5,
    "start_time": "2024-05-28T08:54:33.590Z"
   },
   {
    "duration": 2453,
    "start_time": "2024-05-28T08:54:33.597Z"
   },
   {
    "duration": 4,
    "start_time": "2024-05-28T08:54:36.051Z"
   },
   {
    "duration": 2328,
    "start_time": "2024-05-28T08:54:36.056Z"
   },
   {
    "duration": 4,
    "start_time": "2024-05-28T08:56:16.290Z"
   },
   {
    "duration": 2173,
    "start_time": "2024-05-28T08:56:17.886Z"
   },
   {
    "duration": 4,
    "start_time": "2024-05-28T08:56:27.154Z"
   },
   {
    "duration": 2388,
    "start_time": "2024-05-28T08:56:29.626Z"
   },
   {
    "duration": 4,
    "start_time": "2024-05-28T08:56:45.133Z"
   },
   {
    "duration": 2397,
    "start_time": "2024-05-28T08:56:46.398Z"
   },
   {
    "duration": 5,
    "start_time": "2024-05-28T08:57:15.017Z"
   },
   {
    "duration": 2528,
    "start_time": "2024-05-28T08:57:16.889Z"
   },
   {
    "duration": 4,
    "start_time": "2024-05-28T08:57:38.383Z"
   },
   {
    "duration": 2500,
    "start_time": "2024-05-28T08:57:39.724Z"
   },
   {
    "duration": 5,
    "start_time": "2024-05-28T08:57:54.753Z"
   },
   {
    "duration": 2485,
    "start_time": "2024-05-28T08:57:56.150Z"
   },
   {
    "duration": 2532,
    "start_time": "2024-05-28T08:58:23.503Z"
   },
   {
    "duration": 4,
    "start_time": "2024-05-28T09:38:31.185Z"
   },
   {
    "duration": 1134,
    "start_time": "2024-05-28T09:38:50.973Z"
   },
   {
    "duration": 7,
    "start_time": "2024-05-28T09:39:16.727Z"
   },
   {
    "duration": 3242,
    "start_time": "2024-05-28T09:39:29.046Z"
   },
   {
    "duration": 3395,
    "start_time": "2024-05-28T09:44:59.319Z"
   },
   {
    "duration": 3305,
    "start_time": "2024-05-28T09:46:46.949Z"
   },
   {
    "duration": 4,
    "start_time": "2024-05-28T09:56:47.072Z"
   },
   {
    "duration": 1026,
    "start_time": "2024-05-28T09:57:31.050Z"
   },
   {
    "duration": 316,
    "start_time": "2024-05-28T09:57:45.639Z"
   },
   {
    "duration": 4,
    "start_time": "2024-05-28T09:59:56.103Z"
   },
   {
    "duration": 877,
    "start_time": "2024-05-28T10:00:18.393Z"
   },
   {
    "duration": 1137,
    "start_time": "2024-05-28T10:09:34.289Z"
   },
   {
    "duration": 82,
    "start_time": "2024-05-28T10:09:35.427Z"
   },
   {
    "duration": 20,
    "start_time": "2024-05-28T10:09:35.511Z"
   },
   {
    "duration": 10,
    "start_time": "2024-05-28T10:09:35.533Z"
   },
   {
    "duration": 21,
    "start_time": "2024-05-28T10:09:35.544Z"
   },
   {
    "duration": 9,
    "start_time": "2024-05-28T10:09:35.566Z"
   },
   {
    "duration": 25,
    "start_time": "2024-05-28T10:09:35.577Z"
   },
   {
    "duration": 14,
    "start_time": "2024-05-28T10:09:35.603Z"
   },
   {
    "duration": 8,
    "start_time": "2024-05-28T10:09:35.618Z"
   },
   {
    "duration": 9,
    "start_time": "2024-05-28T10:09:35.628Z"
   },
   {
    "duration": 5,
    "start_time": "2024-05-28T10:09:35.638Z"
   },
   {
    "duration": 7,
    "start_time": "2024-05-28T10:09:35.645Z"
   },
   {
    "duration": 3,
    "start_time": "2024-05-28T10:09:35.654Z"
   },
   {
    "duration": 4,
    "start_time": "2024-05-28T10:09:35.659Z"
   },
   {
    "duration": 11,
    "start_time": "2024-05-28T10:09:35.664Z"
   },
   {
    "duration": 38,
    "start_time": "2024-05-28T10:09:35.676Z"
   },
   {
    "duration": 5,
    "start_time": "2024-05-28T10:09:35.715Z"
   },
   {
    "duration": 8,
    "start_time": "2024-05-28T10:09:35.721Z"
   },
   {
    "duration": 8,
    "start_time": "2024-05-28T10:09:35.731Z"
   },
   {
    "duration": 13,
    "start_time": "2024-05-28T10:09:35.740Z"
   },
   {
    "duration": 8,
    "start_time": "2024-05-28T10:09:35.755Z"
   },
   {
    "duration": 353,
    "start_time": "2024-05-28T10:09:35.765Z"
   },
   {
    "duration": 72,
    "start_time": "2024-05-28T10:09:36.119Z"
   },
   {
    "duration": 74,
    "start_time": "2024-05-28T10:09:36.192Z"
   },
   {
    "duration": 4,
    "start_time": "2024-05-28T10:09:36.267Z"
   },
   {
    "duration": 2428,
    "start_time": "2024-05-28T10:09:36.272Z"
   },
   {
    "duration": 3098,
    "start_time": "2024-05-28T10:09:38.701Z"
   },
   {
    "duration": 3256,
    "start_time": "2024-05-28T10:09:41.801Z"
   },
   {
    "duration": 229,
    "start_time": "2024-05-28T10:09:45.058Z"
   },
   {
    "duration": 815,
    "start_time": "2024-05-28T10:09:45.289Z"
   },
   {
    "duration": 97,
    "start_time": "2024-05-28T10:11:17.916Z"
   },
   {
    "duration": 9,
    "start_time": "2024-05-28T10:11:41.060Z"
   },
   {
    "duration": 4,
    "start_time": "2024-05-28T10:15:35.755Z"
   },
   {
    "duration": 12,
    "start_time": "2024-05-28T10:17:25.483Z"
   },
   {
    "duration": 1119,
    "start_time": "2024-05-28T10:19:26.120Z"
   },
   {
    "duration": 83,
    "start_time": "2024-05-28T10:19:27.241Z"
   },
   {
    "duration": 20,
    "start_time": "2024-05-28T10:19:27.326Z"
   },
   {
    "duration": 10,
    "start_time": "2024-05-28T10:19:27.348Z"
   },
   {
    "duration": 10,
    "start_time": "2024-05-28T10:19:27.360Z"
   },
   {
    "duration": 39,
    "start_time": "2024-05-28T10:19:27.372Z"
   },
   {
    "duration": 19,
    "start_time": "2024-05-28T10:19:27.413Z"
   },
   {
    "duration": 19,
    "start_time": "2024-05-28T10:19:27.433Z"
   },
   {
    "duration": 8,
    "start_time": "2024-05-28T10:19:27.453Z"
   },
   {
    "duration": 15,
    "start_time": "2024-05-28T10:19:27.462Z"
   },
   {
    "duration": 10,
    "start_time": "2024-05-28T10:19:27.478Z"
   },
   {
    "duration": 4,
    "start_time": "2024-05-28T10:19:27.489Z"
   },
   {
    "duration": 6,
    "start_time": "2024-05-28T10:19:27.494Z"
   },
   {
    "duration": 10,
    "start_time": "2024-05-28T10:19:27.502Z"
   },
   {
    "duration": 12,
    "start_time": "2024-05-28T10:19:27.513Z"
   },
   {
    "duration": 6,
    "start_time": "2024-05-28T10:19:27.526Z"
   },
   {
    "duration": 5,
    "start_time": "2024-05-28T10:19:27.534Z"
   },
   {
    "duration": 24,
    "start_time": "2024-05-28T10:19:27.541Z"
   },
   {
    "duration": 6,
    "start_time": "2024-05-28T10:19:27.567Z"
   },
   {
    "duration": 3,
    "start_time": "2024-05-28T10:19:27.575Z"
   },
   {
    "duration": 10,
    "start_time": "2024-05-28T10:19:27.580Z"
   },
   {
    "duration": 391,
    "start_time": "2024-05-28T10:19:27.591Z"
   },
   {
    "duration": 84,
    "start_time": "2024-05-28T10:19:27.983Z"
   },
   {
    "duration": 70,
    "start_time": "2024-05-28T10:19:28.068Z"
   },
   {
    "duration": 4,
    "start_time": "2024-05-28T10:19:28.139Z"
   },
   {
    "duration": 2564,
    "start_time": "2024-05-28T10:19:28.144Z"
   },
   {
    "duration": 3350,
    "start_time": "2024-05-28T10:19:30.712Z"
   },
   {
    "duration": 3454,
    "start_time": "2024-05-28T10:19:34.064Z"
   },
   {
    "duration": 246,
    "start_time": "2024-05-28T10:19:37.520Z"
   },
   {
    "duration": 841,
    "start_time": "2024-05-28T10:19:37.767Z"
   },
   {
    "duration": 9,
    "start_time": "2024-05-28T10:19:38.612Z"
   },
   {
    "duration": 14,
    "start_time": "2024-05-28T10:19:38.623Z"
   },
   {
    "duration": 17,
    "start_time": "2024-05-28T10:19:38.638Z"
   },
   {
    "duration": 1156,
    "start_time": "2024-05-28T10:21:57.282Z"
   },
   {
    "duration": 81,
    "start_time": "2024-05-28T10:21:58.440Z"
   },
   {
    "duration": 20,
    "start_time": "2024-05-28T10:21:58.523Z"
   },
   {
    "duration": 10,
    "start_time": "2024-05-28T10:21:58.545Z"
   },
   {
    "duration": 37,
    "start_time": "2024-05-28T10:21:58.557Z"
   },
   {
    "duration": 20,
    "start_time": "2024-05-28T10:21:58.595Z"
   },
   {
    "duration": 10,
    "start_time": "2024-05-28T10:21:58.618Z"
   },
   {
    "duration": 10,
    "start_time": "2024-05-28T10:21:58.631Z"
   },
   {
    "duration": 10,
    "start_time": "2024-05-28T10:21:58.642Z"
   },
   {
    "duration": 13,
    "start_time": "2024-05-28T10:21:58.654Z"
   },
   {
    "duration": 8,
    "start_time": "2024-05-28T10:21:58.669Z"
   },
   {
    "duration": 27,
    "start_time": "2024-05-28T10:21:58.678Z"
   },
   {
    "duration": 4,
    "start_time": "2024-05-28T10:21:58.712Z"
   },
   {
    "duration": 8,
    "start_time": "2024-05-28T10:21:58.719Z"
   },
   {
    "duration": 11,
    "start_time": "2024-05-28T10:21:58.728Z"
   },
   {
    "duration": 6,
    "start_time": "2024-05-28T10:21:58.740Z"
   },
   {
    "duration": 8,
    "start_time": "2024-05-28T10:21:58.747Z"
   },
   {
    "duration": 16,
    "start_time": "2024-05-28T10:21:58.756Z"
   },
   {
    "duration": 7,
    "start_time": "2024-05-28T10:21:58.773Z"
   },
   {
    "duration": 10,
    "start_time": "2024-05-28T10:21:58.781Z"
   },
   {
    "duration": 24,
    "start_time": "2024-05-28T10:21:58.792Z"
   },
   {
    "duration": 368,
    "start_time": "2024-05-28T10:21:58.818Z"
   },
   {
    "duration": 83,
    "start_time": "2024-05-28T10:21:59.188Z"
   },
   {
    "duration": 81,
    "start_time": "2024-05-28T10:21:59.273Z"
   },
   {
    "duration": 4,
    "start_time": "2024-05-28T10:21:59.356Z"
   },
   {
    "duration": 2578,
    "start_time": "2024-05-28T10:21:59.362Z"
   },
   {
    "duration": 3324,
    "start_time": "2024-05-28T10:22:01.941Z"
   },
   {
    "duration": 3435,
    "start_time": "2024-05-28T10:22:05.266Z"
   },
   {
    "duration": 243,
    "start_time": "2024-05-28T10:22:08.702Z"
   },
   {
    "duration": 821,
    "start_time": "2024-05-28T10:22:08.947Z"
   },
   {
    "duration": 8,
    "start_time": "2024-05-28T10:22:09.770Z"
   },
   {
    "duration": 5,
    "start_time": "2024-05-28T10:22:09.780Z"
   },
   {
    "duration": 28,
    "start_time": "2024-05-28T10:22:09.786Z"
   },
   {
    "duration": 1137,
    "start_time": "2024-05-28T10:25:38.002Z"
   },
   {
    "duration": 82,
    "start_time": "2024-05-28T10:25:39.141Z"
   },
   {
    "duration": 20,
    "start_time": "2024-05-28T10:25:39.225Z"
   },
   {
    "duration": 10,
    "start_time": "2024-05-28T10:25:39.246Z"
   },
   {
    "duration": 11,
    "start_time": "2024-05-28T10:25:39.258Z"
   },
   {
    "duration": 9,
    "start_time": "2024-05-28T10:25:39.270Z"
   },
   {
    "duration": 9,
    "start_time": "2024-05-28T10:25:39.280Z"
   },
   {
    "duration": 22,
    "start_time": "2024-05-28T10:25:39.290Z"
   },
   {
    "duration": 11,
    "start_time": "2024-05-28T10:25:39.313Z"
   },
   {
    "duration": 9,
    "start_time": "2024-05-28T10:25:39.326Z"
   },
   {
    "duration": 5,
    "start_time": "2024-05-28T10:25:39.336Z"
   },
   {
    "duration": 4,
    "start_time": "2024-05-28T10:25:39.343Z"
   },
   {
    "duration": 7,
    "start_time": "2024-05-28T10:25:39.348Z"
   },
   {
    "duration": 10,
    "start_time": "2024-05-28T10:25:39.358Z"
   },
   {
    "duration": 11,
    "start_time": "2024-05-28T10:25:39.369Z"
   },
   {
    "duration": 36,
    "start_time": "2024-05-28T10:25:39.381Z"
   },
   {
    "duration": 22,
    "start_time": "2024-05-28T10:25:39.418Z"
   },
   {
    "duration": 4,
    "start_time": "2024-05-28T10:25:39.442Z"
   },
   {
    "duration": 14,
    "start_time": "2024-05-28T10:25:39.448Z"
   },
   {
    "duration": 5,
    "start_time": "2024-05-28T10:25:39.464Z"
   },
   {
    "duration": 344,
    "start_time": "2024-05-28T10:25:39.470Z"
   },
   {
    "duration": 87,
    "start_time": "2024-05-28T10:25:39.816Z"
   },
   {
    "duration": 69,
    "start_time": "2024-05-28T10:25:39.912Z"
   },
   {
    "duration": 4,
    "start_time": "2024-05-28T10:25:39.982Z"
   },
   {
    "duration": 2535,
    "start_time": "2024-05-28T10:25:39.988Z"
   },
   {
    "duration": 3305,
    "start_time": "2024-05-28T10:25:42.524Z"
   },
   {
    "duration": 3432,
    "start_time": "2024-05-28T10:25:45.830Z"
   },
   {
    "duration": 235,
    "start_time": "2024-05-28T10:25:49.264Z"
   },
   {
    "duration": 827,
    "start_time": "2024-05-28T10:25:49.501Z"
   },
   {
    "duration": 9,
    "start_time": "2024-05-28T10:25:50.329Z"
   },
   {
    "duration": 5,
    "start_time": "2024-05-28T10:25:50.340Z"
   },
   {
    "duration": 11,
    "start_time": "2024-05-28T10:25:50.346Z"
   },
   {
    "duration": 1207,
    "start_time": "2024-05-29T00:54:45.841Z"
   },
   {
    "duration": 276,
    "start_time": "2024-05-29T00:54:47.050Z"
   },
   {
    "duration": 18,
    "start_time": "2024-05-29T00:54:47.328Z"
   },
   {
    "duration": 10,
    "start_time": "2024-05-29T00:54:47.347Z"
   },
   {
    "duration": 15,
    "start_time": "2024-05-29T00:54:47.358Z"
   },
   {
    "duration": 11,
    "start_time": "2024-05-29T00:54:47.374Z"
   },
   {
    "duration": 9,
    "start_time": "2024-05-29T00:54:47.386Z"
   },
   {
    "duration": 29,
    "start_time": "2024-05-29T00:54:47.396Z"
   },
   {
    "duration": 29,
    "start_time": "2024-05-29T00:54:47.427Z"
   },
   {
    "duration": 16,
    "start_time": "2024-05-29T00:54:47.458Z"
   },
   {
    "duration": 20,
    "start_time": "2024-05-29T00:54:47.475Z"
   },
   {
    "duration": 6,
    "start_time": "2024-05-29T00:54:47.496Z"
   },
   {
    "duration": 20,
    "start_time": "2024-05-29T00:54:47.504Z"
   },
   {
    "duration": 7,
    "start_time": "2024-05-29T00:54:47.527Z"
   },
   {
    "duration": 16,
    "start_time": "2024-05-29T00:54:47.536Z"
   },
   {
    "duration": 11,
    "start_time": "2024-05-29T00:54:47.554Z"
   },
   {
    "duration": 11,
    "start_time": "2024-05-29T00:54:47.566Z"
   },
   {
    "duration": 11,
    "start_time": "2024-05-29T00:54:47.578Z"
   },
   {
    "duration": 24,
    "start_time": "2024-05-29T00:54:47.591Z"
   },
   {
    "duration": 7,
    "start_time": "2024-05-29T00:54:47.617Z"
   },
   {
    "duration": 358,
    "start_time": "2024-05-29T00:54:47.626Z"
   },
   {
    "duration": 90,
    "start_time": "2024-05-29T00:54:47.985Z"
   },
   {
    "duration": 72,
    "start_time": "2024-05-29T00:54:48.076Z"
   },
   {
    "duration": 3,
    "start_time": "2024-05-29T00:54:48.150Z"
   },
   {
    "duration": 2461,
    "start_time": "2024-05-29T00:54:48.155Z"
   },
   {
    "duration": 3117,
    "start_time": "2024-05-29T00:54:50.617Z"
   },
   {
    "duration": 3178,
    "start_time": "2024-05-29T00:54:53.736Z"
   },
   {
    "duration": 212,
    "start_time": "2024-05-29T00:54:56.915Z"
   },
   {
    "duration": 731,
    "start_time": "2024-05-29T00:54:57.128Z"
   },
   {
    "duration": 9,
    "start_time": "2024-05-29T00:54:57.860Z"
   },
   {
    "duration": 9,
    "start_time": "2024-05-29T00:54:57.870Z"
   },
   {
    "duration": 25,
    "start_time": "2024-05-29T00:54:57.881Z"
   },
   {
    "duration": 8,
    "start_time": "2024-05-29T01:09:08.944Z"
   },
   {
    "duration": 973,
    "start_time": "2024-05-29T01:09:44.248Z"
   },
   {
    "duration": 86,
    "start_time": "2024-05-29T01:09:45.223Z"
   },
   {
    "duration": 18,
    "start_time": "2024-05-29T01:09:45.310Z"
   },
   {
    "duration": 15,
    "start_time": "2024-05-29T01:09:45.329Z"
   },
   {
    "duration": 27,
    "start_time": "2024-05-29T01:09:45.346Z"
   },
   {
    "duration": 32,
    "start_time": "2024-05-29T01:09:45.374Z"
   },
   {
    "duration": 13,
    "start_time": "2024-05-29T01:09:45.407Z"
   },
   {
    "duration": 23,
    "start_time": "2024-05-29T01:09:45.421Z"
   },
   {
    "duration": 28,
    "start_time": "2024-05-29T01:09:45.445Z"
   },
   {
    "duration": 30,
    "start_time": "2024-05-29T01:09:45.474Z"
   },
   {
    "duration": 12,
    "start_time": "2024-05-29T01:09:45.505Z"
   },
   {
    "duration": 16,
    "start_time": "2024-05-29T01:09:45.518Z"
   },
   {
    "duration": 11,
    "start_time": "2024-05-29T01:09:45.535Z"
   },
   {
    "duration": 14,
    "start_time": "2024-05-29T01:09:45.549Z"
   },
   {
    "duration": 15,
    "start_time": "2024-05-29T01:09:45.564Z"
   },
   {
    "duration": 9,
    "start_time": "2024-05-29T01:09:45.580Z"
   },
   {
    "duration": 5,
    "start_time": "2024-05-29T01:09:45.590Z"
   },
   {
    "duration": 11,
    "start_time": "2024-05-29T01:09:45.596Z"
   },
   {
    "duration": 9,
    "start_time": "2024-05-29T01:09:45.608Z"
   },
   {
    "duration": 6,
    "start_time": "2024-05-29T01:09:45.618Z"
   },
   {
    "duration": 323,
    "start_time": "2024-05-29T01:09:45.625Z"
   },
   {
    "duration": 73,
    "start_time": "2024-05-29T01:09:45.949Z"
   },
   {
    "duration": 59,
    "start_time": "2024-05-29T01:09:46.023Z"
   },
   {
    "duration": 4,
    "start_time": "2024-05-29T01:09:46.083Z"
   },
   {
    "duration": 2177,
    "start_time": "2024-05-29T01:09:46.088Z"
   },
   {
    "duration": 2837,
    "start_time": "2024-05-29T01:09:48.266Z"
   },
   {
    "duration": 2917,
    "start_time": "2024-05-29T01:09:51.104Z"
   },
   {
    "duration": 205,
    "start_time": "2024-05-29T01:09:54.023Z"
   },
   {
    "duration": 692,
    "start_time": "2024-05-29T01:09:54.229Z"
   },
   {
    "duration": 8,
    "start_time": "2024-05-29T01:09:54.922Z"
   },
   {
    "duration": 6,
    "start_time": "2024-05-29T01:09:54.931Z"
   },
   {
    "duration": 13,
    "start_time": "2024-05-29T01:09:54.938Z"
   },
   {
    "duration": 15,
    "start_time": "2024-05-29T01:09:54.952Z"
   },
   {
    "duration": 90,
    "start_time": "2024-05-29T01:12:38.781Z"
   },
   {
    "duration": 1064,
    "start_time": "2024-05-29T01:12:48.968Z"
   },
   {
    "duration": 83,
    "start_time": "2024-05-29T01:12:50.034Z"
   },
   {
    "duration": 18,
    "start_time": "2024-05-29T01:12:50.118Z"
   },
   {
    "duration": 19,
    "start_time": "2024-05-29T01:12:50.138Z"
   },
   {
    "duration": 9,
    "start_time": "2024-05-29T01:12:50.158Z"
   },
   {
    "duration": 15,
    "start_time": "2024-05-29T01:12:50.168Z"
   },
   {
    "duration": 7,
    "start_time": "2024-05-29T01:12:50.184Z"
   },
   {
    "duration": 22,
    "start_time": "2024-05-29T01:12:50.192Z"
   },
   {
    "duration": 7,
    "start_time": "2024-05-29T01:12:50.215Z"
   },
   {
    "duration": 8,
    "start_time": "2024-05-29T01:12:50.225Z"
   },
   {
    "duration": 11,
    "start_time": "2024-05-29T01:12:50.234Z"
   },
   {
    "duration": 8,
    "start_time": "2024-05-29T01:12:50.246Z"
   },
   {
    "duration": 8,
    "start_time": "2024-05-29T01:12:50.256Z"
   },
   {
    "duration": 12,
    "start_time": "2024-05-29T01:12:50.266Z"
   },
   {
    "duration": 11,
    "start_time": "2024-05-29T01:12:50.280Z"
   },
   {
    "duration": 10,
    "start_time": "2024-05-29T01:12:50.292Z"
   },
   {
    "duration": 4,
    "start_time": "2024-05-29T01:12:50.303Z"
   },
   {
    "duration": 5,
    "start_time": "2024-05-29T01:12:50.308Z"
   },
   {
    "duration": 7,
    "start_time": "2024-05-29T01:12:50.314Z"
   },
   {
    "duration": 14,
    "start_time": "2024-05-29T01:12:50.322Z"
   },
   {
    "duration": 326,
    "start_time": "2024-05-29T01:12:50.338Z"
   },
   {
    "duration": 75,
    "start_time": "2024-05-29T01:12:50.665Z"
   },
   {
    "duration": 64,
    "start_time": "2024-05-29T01:12:50.741Z"
   },
   {
    "duration": 3,
    "start_time": "2024-05-29T01:12:50.806Z"
   },
   {
    "duration": 2169,
    "start_time": "2024-05-29T01:12:50.811Z"
   },
   {
    "duration": 2798,
    "start_time": "2024-05-29T01:12:52.982Z"
   },
   {
    "duration": 2891,
    "start_time": "2024-05-29T01:12:55.781Z"
   },
   {
    "duration": 209,
    "start_time": "2024-05-29T01:12:58.674Z"
   },
   {
    "duration": 739,
    "start_time": "2024-05-29T01:12:58.885Z"
   },
   {
    "duration": 11,
    "start_time": "2024-05-29T01:12:59.625Z"
   },
   {
    "duration": 23,
    "start_time": "2024-05-29T01:12:59.637Z"
   },
   {
    "duration": 23,
    "start_time": "2024-05-29T01:12:59.661Z"
   },
   {
    "duration": 105,
    "start_time": "2024-05-29T01:12:59.686Z"
   },
   {
    "duration": 8,
    "start_time": "2024-05-29T01:19:19.308Z"
   },
   {
    "duration": 938,
    "start_time": "2024-05-29T01:25:08.614Z"
   },
   {
    "duration": 81,
    "start_time": "2024-05-29T01:25:09.554Z"
   },
   {
    "duration": 17,
    "start_time": "2024-05-29T01:25:09.637Z"
   },
   {
    "duration": 9,
    "start_time": "2024-05-29T01:25:09.655Z"
   },
   {
    "duration": 13,
    "start_time": "2024-05-29T01:25:09.666Z"
   },
   {
    "duration": 9,
    "start_time": "2024-05-29T01:25:09.680Z"
   },
   {
    "duration": 8,
    "start_time": "2024-05-29T01:25:09.690Z"
   },
   {
    "duration": 14,
    "start_time": "2024-05-29T01:25:09.699Z"
   },
   {
    "duration": 6,
    "start_time": "2024-05-29T01:25:09.714Z"
   },
   {
    "duration": 8,
    "start_time": "2024-05-29T01:25:09.721Z"
   },
   {
    "duration": 18,
    "start_time": "2024-05-29T01:25:09.730Z"
   },
   {
    "duration": 10,
    "start_time": "2024-05-29T01:25:09.750Z"
   },
   {
    "duration": 3,
    "start_time": "2024-05-29T01:25:09.762Z"
   },
   {
    "duration": 4,
    "start_time": "2024-05-29T01:25:09.767Z"
   },
   {
    "duration": 11,
    "start_time": "2024-05-29T01:25:09.772Z"
   },
   {
    "duration": 6,
    "start_time": "2024-05-29T01:25:09.784Z"
   },
   {
    "duration": 13,
    "start_time": "2024-05-29T01:25:09.791Z"
   },
   {
    "duration": 7,
    "start_time": "2024-05-29T01:25:09.805Z"
   },
   {
    "duration": 14,
    "start_time": "2024-05-29T01:25:09.813Z"
   },
   {
    "duration": 6,
    "start_time": "2024-05-29T01:25:09.828Z"
   },
   {
    "duration": 313,
    "start_time": "2024-05-29T01:25:09.835Z"
   },
   {
    "duration": 71,
    "start_time": "2024-05-29T01:25:10.149Z"
   },
   {
    "duration": 58,
    "start_time": "2024-05-29T01:25:10.221Z"
   },
   {
    "duration": 3,
    "start_time": "2024-05-29T01:25:10.281Z"
   },
   {
    "duration": 2159,
    "start_time": "2024-05-29T01:25:10.286Z"
   },
   {
    "duration": 2780,
    "start_time": "2024-05-29T01:25:12.446Z"
   },
   {
    "duration": 2862,
    "start_time": "2024-05-29T01:25:15.228Z"
   },
   {
    "duration": 203,
    "start_time": "2024-05-29T01:25:18.091Z"
   },
   {
    "duration": 755,
    "start_time": "2024-05-29T01:25:18.295Z"
   },
   {
    "duration": 9,
    "start_time": "2024-05-29T01:25:19.051Z"
   },
   {
    "duration": 32,
    "start_time": "2024-05-29T01:25:19.061Z"
   },
   {
    "duration": 21,
    "start_time": "2024-05-29T01:25:19.094Z"
   },
   {
    "duration": 91,
    "start_time": "2024-05-29T01:25:19.117Z"
   },
   {
    "duration": 0,
    "start_time": "2024-05-29T01:25:19.209Z"
   },
   {
    "duration": 8,
    "start_time": "2024-05-29T01:25:44.215Z"
   },
   {
    "duration": 6,
    "start_time": "2024-05-29T01:25:46.601Z"
   },
   {
    "duration": 3,
    "start_time": "2024-05-29T01:26:01.568Z"
   },
   {
    "duration": 17,
    "start_time": "2024-05-29T01:28:02.307Z"
   },
   {
    "duration": 13,
    "start_time": "2024-05-29T01:28:34.721Z"
   },
   {
    "duration": 24,
    "start_time": "2024-05-29T01:37:40.244Z"
   },
   {
    "duration": 24,
    "start_time": "2024-05-29T01:38:04.419Z"
   },
   {
    "duration": 1000,
    "start_time": "2024-05-29T01:39:08.149Z"
   },
   {
    "duration": 89,
    "start_time": "2024-05-29T01:39:09.150Z"
   },
   {
    "duration": 27,
    "start_time": "2024-05-29T01:39:09.240Z"
   },
   {
    "duration": 13,
    "start_time": "2024-05-29T01:39:09.268Z"
   },
   {
    "duration": 8,
    "start_time": "2024-05-29T01:39:09.283Z"
   },
   {
    "duration": 8,
    "start_time": "2024-05-29T01:39:09.293Z"
   },
   {
    "duration": 10,
    "start_time": "2024-05-29T01:39:09.302Z"
   },
   {
    "duration": 9,
    "start_time": "2024-05-29T01:39:09.313Z"
   },
   {
    "duration": 23,
    "start_time": "2024-05-29T01:39:09.324Z"
   },
   {
    "duration": 12,
    "start_time": "2024-05-29T01:39:09.348Z"
   },
   {
    "duration": 10,
    "start_time": "2024-05-29T01:39:09.361Z"
   },
   {
    "duration": 28,
    "start_time": "2024-05-29T01:39:09.373Z"
   },
   {
    "duration": 6,
    "start_time": "2024-05-29T01:39:09.402Z"
   },
   {
    "duration": 4,
    "start_time": "2024-05-29T01:39:09.410Z"
   },
   {
    "duration": 12,
    "start_time": "2024-05-29T01:39:09.415Z"
   },
   {
    "duration": 6,
    "start_time": "2024-05-29T01:39:09.428Z"
   },
   {
    "duration": 13,
    "start_time": "2024-05-29T01:39:09.435Z"
   },
   {
    "duration": 9,
    "start_time": "2024-05-29T01:39:09.449Z"
   },
   {
    "duration": 5,
    "start_time": "2024-05-29T01:39:09.459Z"
   },
   {
    "duration": 10,
    "start_time": "2024-05-29T01:39:09.465Z"
   },
   {
    "duration": 324,
    "start_time": "2024-05-29T01:39:09.476Z"
   },
   {
    "duration": 75,
    "start_time": "2024-05-29T01:39:09.801Z"
   },
   {
    "duration": 71,
    "start_time": "2024-05-29T01:39:09.877Z"
   },
   {
    "duration": 4,
    "start_time": "2024-05-29T01:39:09.949Z"
   },
   {
    "duration": 2225,
    "start_time": "2024-05-29T01:39:09.954Z"
   },
   {
    "duration": 2823,
    "start_time": "2024-05-29T01:39:12.180Z"
   },
   {
    "duration": 2956,
    "start_time": "2024-05-29T01:39:15.004Z"
   },
   {
    "duration": 202,
    "start_time": "2024-05-29T01:39:17.961Z"
   },
   {
    "duration": 703,
    "start_time": "2024-05-29T01:39:18.164Z"
   },
   {
    "duration": 8,
    "start_time": "2024-05-29T01:39:18.869Z"
   },
   {
    "duration": 9,
    "start_time": "2024-05-29T01:39:18.878Z"
   },
   {
    "duration": 19,
    "start_time": "2024-05-29T01:39:18.888Z"
   },
   {
    "duration": 106,
    "start_time": "2024-05-29T01:39:18.908Z"
   },
   {
    "duration": 30,
    "start_time": "2024-05-29T01:39:51.583Z"
   },
   {
    "duration": 12,
    "start_time": "2024-05-29T01:42:31.835Z"
   },
   {
    "duration": 1057,
    "start_time": "2024-05-29T01:43:47.520Z"
   },
   {
    "duration": 82,
    "start_time": "2024-05-29T01:43:48.579Z"
   },
   {
    "duration": 18,
    "start_time": "2024-05-29T01:43:48.662Z"
   },
   {
    "duration": 31,
    "start_time": "2024-05-29T01:43:48.681Z"
   },
   {
    "duration": 7,
    "start_time": "2024-05-29T01:43:48.714Z"
   },
   {
    "duration": 9,
    "start_time": "2024-05-29T01:43:48.723Z"
   },
   {
    "duration": 7,
    "start_time": "2024-05-29T01:43:48.733Z"
   },
   {
    "duration": 9,
    "start_time": "2024-05-29T01:43:48.741Z"
   },
   {
    "duration": 7,
    "start_time": "2024-05-29T01:43:48.752Z"
   },
   {
    "duration": 23,
    "start_time": "2024-05-29T01:43:48.760Z"
   },
   {
    "duration": 14,
    "start_time": "2024-05-29T01:43:48.784Z"
   },
   {
    "duration": 7,
    "start_time": "2024-05-29T01:43:48.800Z"
   },
   {
    "duration": 5,
    "start_time": "2024-05-29T01:43:48.808Z"
   },
   {
    "duration": 11,
    "start_time": "2024-05-29T01:43:48.815Z"
   },
   {
    "duration": 8,
    "start_time": "2024-05-29T01:43:48.828Z"
   },
   {
    "duration": 5,
    "start_time": "2024-05-29T01:43:48.838Z"
   },
   {
    "duration": 4,
    "start_time": "2024-05-29T01:43:48.844Z"
   },
   {
    "duration": 5,
    "start_time": "2024-05-29T01:43:48.849Z"
   },
   {
    "duration": 4,
    "start_time": "2024-05-29T01:43:48.855Z"
   },
   {
    "duration": 5,
    "start_time": "2024-05-29T01:43:48.860Z"
   },
   {
    "duration": 326,
    "start_time": "2024-05-29T01:43:48.866Z"
   },
   {
    "duration": 81,
    "start_time": "2024-05-29T01:43:49.194Z"
   },
   {
    "duration": 70,
    "start_time": "2024-05-29T01:43:49.277Z"
   },
   {
    "duration": 3,
    "start_time": "2024-05-29T01:43:49.349Z"
   },
   {
    "duration": 2162,
    "start_time": "2024-05-29T01:43:49.353Z"
   },
   {
    "duration": 2756,
    "start_time": "2024-05-29T01:43:51.516Z"
   },
   {
    "duration": 2882,
    "start_time": "2024-05-29T01:43:54.273Z"
   },
   {
    "duration": 213,
    "start_time": "2024-05-29T01:43:57.157Z"
   },
   {
    "duration": 689,
    "start_time": "2024-05-29T01:43:57.371Z"
   },
   {
    "duration": 8,
    "start_time": "2024-05-29T01:43:58.062Z"
   },
   {
    "duration": 22,
    "start_time": "2024-05-29T01:43:58.071Z"
   },
   {
    "duration": 11,
    "start_time": "2024-05-29T01:43:58.094Z"
   },
   {
    "duration": 30,
    "start_time": "2024-05-29T01:44:26.616Z"
   },
   {
    "duration": 1011,
    "start_time": "2024-05-29T01:49:02.371Z"
   },
   {
    "duration": 83,
    "start_time": "2024-05-29T01:49:03.384Z"
   },
   {
    "duration": 17,
    "start_time": "2024-05-29T01:49:03.468Z"
   },
   {
    "duration": 13,
    "start_time": "2024-05-29T01:49:03.487Z"
   },
   {
    "duration": 11,
    "start_time": "2024-05-29T01:49:03.502Z"
   },
   {
    "duration": 30,
    "start_time": "2024-05-29T01:49:03.514Z"
   },
   {
    "duration": 8,
    "start_time": "2024-05-29T01:49:03.545Z"
   },
   {
    "duration": 9,
    "start_time": "2024-05-29T01:49:03.554Z"
   },
   {
    "duration": 7,
    "start_time": "2024-05-29T01:49:03.564Z"
   },
   {
    "duration": 13,
    "start_time": "2024-05-29T01:49:03.572Z"
   },
   {
    "duration": 11,
    "start_time": "2024-05-29T01:49:03.586Z"
   },
   {
    "duration": 12,
    "start_time": "2024-05-29T01:49:03.598Z"
   },
   {
    "duration": 19,
    "start_time": "2024-05-29T01:49:03.611Z"
   },
   {
    "duration": 32,
    "start_time": "2024-05-29T01:49:03.633Z"
   },
   {
    "duration": 27,
    "start_time": "2024-05-29T01:49:03.666Z"
   },
   {
    "duration": 9,
    "start_time": "2024-05-29T01:49:03.694Z"
   },
   {
    "duration": 13,
    "start_time": "2024-05-29T01:49:03.704Z"
   },
   {
    "duration": 23,
    "start_time": "2024-05-29T01:49:03.718Z"
   },
   {
    "duration": 11,
    "start_time": "2024-05-29T01:49:03.743Z"
   },
   {
    "duration": 10,
    "start_time": "2024-05-29T01:49:03.755Z"
   },
   {
    "duration": 326,
    "start_time": "2024-05-29T01:49:03.766Z"
   },
   {
    "duration": 84,
    "start_time": "2024-05-29T01:49:04.093Z"
   },
   {
    "duration": 69,
    "start_time": "2024-05-29T01:49:04.178Z"
   },
   {
    "duration": 4,
    "start_time": "2024-05-29T01:49:04.248Z"
   },
   {
    "duration": 2189,
    "start_time": "2024-05-29T01:49:04.253Z"
   },
   {
    "duration": 2811,
    "start_time": "2024-05-29T01:49:06.444Z"
   },
   {
    "duration": 2956,
    "start_time": "2024-05-29T01:49:09.257Z"
   },
   {
    "duration": 205,
    "start_time": "2024-05-29T01:49:12.215Z"
   },
   {
    "duration": 713,
    "start_time": "2024-05-29T01:49:12.421Z"
   },
   {
    "duration": 8,
    "start_time": "2024-05-29T01:49:13.135Z"
   },
   {
    "duration": 5,
    "start_time": "2024-05-29T01:49:13.144Z"
   },
   {
    "duration": 11,
    "start_time": "2024-05-29T01:49:13.150Z"
   },
   {
    "duration": 50,
    "start_time": "2024-05-29T01:49:13.162Z"
   },
   {
    "duration": 97,
    "start_time": "2024-05-29T01:49:13.213Z"
   },
   {
    "duration": 1051,
    "start_time": "2024-05-29T02:03:54.793Z"
   },
   {
    "duration": 83,
    "start_time": "2024-05-29T02:03:55.846Z"
   },
   {
    "duration": 17,
    "start_time": "2024-05-29T02:03:55.930Z"
   },
   {
    "duration": 9,
    "start_time": "2024-05-29T02:03:55.948Z"
   },
   {
    "duration": 8,
    "start_time": "2024-05-29T02:03:55.958Z"
   },
   {
    "duration": 18,
    "start_time": "2024-05-29T02:03:55.967Z"
   },
   {
    "duration": 7,
    "start_time": "2024-05-29T02:03:55.986Z"
   },
   {
    "duration": 18,
    "start_time": "2024-05-29T02:03:55.994Z"
   },
   {
    "duration": 7,
    "start_time": "2024-05-29T02:03:56.013Z"
   },
   {
    "duration": 12,
    "start_time": "2024-05-29T02:03:56.022Z"
   },
   {
    "duration": 7,
    "start_time": "2024-05-29T02:03:56.035Z"
   },
   {
    "duration": 9,
    "start_time": "2024-05-29T02:03:56.043Z"
   },
   {
    "duration": 7,
    "start_time": "2024-05-29T02:03:56.053Z"
   },
   {
    "duration": 6,
    "start_time": "2024-05-29T02:03:56.062Z"
   },
   {
    "duration": 13,
    "start_time": "2024-05-29T02:03:56.069Z"
   },
   {
    "duration": 18,
    "start_time": "2024-05-29T02:03:56.083Z"
   },
   {
    "duration": 5,
    "start_time": "2024-05-29T02:03:56.102Z"
   },
   {
    "duration": 17,
    "start_time": "2024-05-29T02:03:56.108Z"
   },
   {
    "duration": 10,
    "start_time": "2024-05-29T02:03:56.126Z"
   },
   {
    "duration": 17,
    "start_time": "2024-05-29T02:03:56.137Z"
   },
   {
    "duration": 316,
    "start_time": "2024-05-29T02:03:56.156Z"
   },
   {
    "duration": 75,
    "start_time": "2024-05-29T02:03:56.474Z"
   },
   {
    "duration": 63,
    "start_time": "2024-05-29T02:03:56.550Z"
   },
   {
    "duration": 3,
    "start_time": "2024-05-29T02:03:56.615Z"
   },
   {
    "duration": 2225,
    "start_time": "2024-05-29T02:03:56.619Z"
   },
   {
    "duration": 2910,
    "start_time": "2024-05-29T02:03:58.845Z"
   },
   {
    "duration": 2971,
    "start_time": "2024-05-29T02:04:01.757Z"
   },
   {
    "duration": 209,
    "start_time": "2024-05-29T02:04:04.730Z"
   },
   {
    "duration": 715,
    "start_time": "2024-05-29T02:04:04.940Z"
   },
   {
    "duration": 9,
    "start_time": "2024-05-29T02:04:05.656Z"
   },
   {
    "duration": 28,
    "start_time": "2024-05-29T02:04:05.666Z"
   },
   {
    "duration": 29,
    "start_time": "2024-05-29T02:04:05.696Z"
   },
   {
    "duration": 36,
    "start_time": "2024-05-29T02:04:05.726Z"
   },
   {
    "duration": 101,
    "start_time": "2024-05-29T02:04:05.763Z"
   },
   {
    "duration": 30,
    "start_time": "2024-05-29T02:04:45.515Z"
   },
   {
    "duration": 1049,
    "start_time": "2024-05-29T02:22:34.492Z"
   },
   {
    "duration": 84,
    "start_time": "2024-05-29T02:22:35.542Z"
   },
   {
    "duration": 18,
    "start_time": "2024-05-29T02:22:35.627Z"
   },
   {
    "duration": 10,
    "start_time": "2024-05-29T02:22:35.646Z"
   },
   {
    "duration": 14,
    "start_time": "2024-05-29T02:22:35.658Z"
   },
   {
    "duration": 12,
    "start_time": "2024-05-29T02:22:35.673Z"
   },
   {
    "duration": 21,
    "start_time": "2024-05-29T02:22:35.686Z"
   },
   {
    "duration": 12,
    "start_time": "2024-05-29T02:22:35.708Z"
   },
   {
    "duration": 15,
    "start_time": "2024-05-29T02:22:35.721Z"
   },
   {
    "duration": 19,
    "start_time": "2024-05-29T02:22:35.738Z"
   },
   {
    "duration": 10,
    "start_time": "2024-05-29T02:22:35.758Z"
   },
   {
    "duration": 4,
    "start_time": "2024-05-29T02:22:35.769Z"
   },
   {
    "duration": 10,
    "start_time": "2024-05-29T02:22:35.775Z"
   },
   {
    "duration": 27,
    "start_time": "2024-05-29T02:22:35.788Z"
   },
   {
    "duration": 23,
    "start_time": "2024-05-29T02:22:35.816Z"
   },
   {
    "duration": 40,
    "start_time": "2024-05-29T02:22:35.840Z"
   },
   {
    "duration": 45,
    "start_time": "2024-05-29T02:22:35.882Z"
   },
   {
    "duration": 21,
    "start_time": "2024-05-29T02:22:35.929Z"
   },
   {
    "duration": 27,
    "start_time": "2024-05-29T02:22:35.951Z"
   },
   {
    "duration": 27,
    "start_time": "2024-05-29T02:22:35.979Z"
   },
   {
    "duration": 325,
    "start_time": "2024-05-29T02:22:36.007Z"
   },
   {
    "duration": 78,
    "start_time": "2024-05-29T02:22:36.333Z"
   },
   {
    "duration": 64,
    "start_time": "2024-05-29T02:22:36.412Z"
   },
   {
    "duration": 4,
    "start_time": "2024-05-29T02:22:36.477Z"
   },
   {
    "duration": 2260,
    "start_time": "2024-05-29T02:22:36.482Z"
   },
   {
    "duration": 2921,
    "start_time": "2024-05-29T02:22:38.743Z"
   },
   {
    "duration": 2983,
    "start_time": "2024-05-29T02:22:41.665Z"
   },
   {
    "duration": 205,
    "start_time": "2024-05-29T02:22:44.649Z"
   },
   {
    "duration": 763,
    "start_time": "2024-05-29T02:22:44.855Z"
   },
   {
    "duration": 8,
    "start_time": "2024-05-29T02:22:45.620Z"
   },
   {
    "duration": 9,
    "start_time": "2024-05-29T02:22:45.629Z"
   },
   {
    "duration": 24,
    "start_time": "2024-05-29T02:22:45.639Z"
   },
   {
    "duration": 31,
    "start_time": "2024-05-29T02:22:45.664Z"
   },
   {
    "duration": 91,
    "start_time": "2024-05-29T02:22:45.697Z"
   },
   {
    "duration": 1038,
    "start_time": "2024-05-29T02:34:13.005Z"
   },
   {
    "duration": 83,
    "start_time": "2024-05-29T02:34:14.044Z"
   },
   {
    "duration": 17,
    "start_time": "2024-05-29T02:34:14.128Z"
   },
   {
    "duration": 10,
    "start_time": "2024-05-29T02:34:14.146Z"
   },
   {
    "duration": 10,
    "start_time": "2024-05-29T02:34:14.157Z"
   },
   {
    "duration": 11,
    "start_time": "2024-05-29T02:34:14.168Z"
   },
   {
    "duration": 12,
    "start_time": "2024-05-29T02:34:14.180Z"
   },
   {
    "duration": 10,
    "start_time": "2024-05-29T02:34:14.193Z"
   },
   {
    "duration": 8,
    "start_time": "2024-05-29T02:34:14.204Z"
   },
   {
    "duration": 40,
    "start_time": "2024-05-29T02:34:14.213Z"
   },
   {
    "duration": 28,
    "start_time": "2024-05-29T02:34:14.254Z"
   },
   {
    "duration": 35,
    "start_time": "2024-05-29T02:34:14.284Z"
   },
   {
    "duration": 11,
    "start_time": "2024-05-29T02:34:14.320Z"
   },
   {
    "duration": 15,
    "start_time": "2024-05-29T02:34:14.333Z"
   },
   {
    "duration": 30,
    "start_time": "2024-05-29T02:34:14.349Z"
   },
   {
    "duration": 31,
    "start_time": "2024-05-29T02:34:14.380Z"
   },
   {
    "duration": 14,
    "start_time": "2024-05-29T02:34:14.412Z"
   },
   {
    "duration": 14,
    "start_time": "2024-05-29T02:34:14.427Z"
   },
   {
    "duration": 5,
    "start_time": "2024-05-29T02:34:14.442Z"
   },
   {
    "duration": 7,
    "start_time": "2024-05-29T02:34:14.448Z"
   },
   {
    "duration": 323,
    "start_time": "2024-05-29T02:34:14.457Z"
   },
   {
    "duration": 78,
    "start_time": "2024-05-29T02:34:14.781Z"
   },
   {
    "duration": 64,
    "start_time": "2024-05-29T02:34:14.860Z"
   },
   {
    "duration": 4,
    "start_time": "2024-05-29T02:34:14.925Z"
   },
   {
    "duration": 2165,
    "start_time": "2024-05-29T02:34:14.930Z"
   },
   {
    "duration": 2801,
    "start_time": "2024-05-29T02:34:17.096Z"
   },
   {
    "duration": 2962,
    "start_time": "2024-05-29T02:34:19.901Z"
   },
   {
    "duration": 206,
    "start_time": "2024-05-29T02:34:22.864Z"
   },
   {
    "duration": 735,
    "start_time": "2024-05-29T02:34:23.072Z"
   },
   {
    "duration": 7,
    "start_time": "2024-05-29T02:34:23.809Z"
   },
   {
    "duration": 5,
    "start_time": "2024-05-29T02:34:23.817Z"
   },
   {
    "duration": 11,
    "start_time": "2024-05-29T02:34:23.823Z"
   },
   {
    "duration": 9,
    "start_time": "2024-05-29T02:34:23.835Z"
   },
   {
    "duration": 87,
    "start_time": "2024-05-29T02:34:28.078Z"
   },
   {
    "duration": 15,
    "start_time": "2024-05-29T02:34:55.823Z"
   },
   {
    "duration": 28,
    "start_time": "2024-05-29T02:35:07.055Z"
   },
   {
    "duration": 8,
    "start_time": "2024-05-29T02:40:29.727Z"
   },
   {
    "duration": 21,
    "start_time": "2024-05-29T02:40:30.943Z"
   },
   {
    "duration": 7,
    "start_time": "2024-05-29T03:29:27.877Z"
   },
   {
    "duration": 12,
    "start_time": "2024-05-29T03:29:40.382Z"
   },
   {
    "duration": 14,
    "start_time": "2024-05-29T03:40:16.859Z"
   },
   {
    "duration": 1172,
    "start_time": "2024-05-29T03:40:36.473Z"
   },
   {
    "duration": 117,
    "start_time": "2024-05-29T03:42:39.512Z"
   },
   {
    "duration": 1139,
    "start_time": "2024-05-29T03:44:17.470Z"
   },
   {
    "duration": 1212,
    "start_time": "2024-05-29T03:44:57.009Z"
   },
   {
    "duration": 20,
    "start_time": "2024-05-29T03:45:27.579Z"
   },
   {
    "duration": 1153,
    "start_time": "2024-05-29T03:47:14.928Z"
   },
   {
    "duration": 19,
    "start_time": "2024-05-29T03:48:05.225Z"
   },
   {
    "duration": 1165,
    "start_time": "2024-05-29T03:48:50.609Z"
   },
   {
    "duration": 19,
    "start_time": "2024-05-29T03:49:02.132Z"
   },
   {
    "duration": 1271,
    "start_time": "2024-05-29T03:49:12.611Z"
   },
   {
    "duration": 1186,
    "start_time": "2024-05-29T03:49:29.484Z"
   },
   {
    "duration": 1175,
    "start_time": "2024-05-29T03:49:55.374Z"
   },
   {
    "duration": 360,
    "start_time": "2024-05-29T05:38:18.472Z"
   },
   {
    "duration": 10,
    "start_time": "2024-05-29T05:38:32.546Z"
   },
   {
    "duration": 15236,
    "start_time": "2024-05-29T05:38:43.792Z"
   },
   {
    "duration": 115,
    "start_time": "2024-05-29T05:53:03.945Z"
   },
   {
    "duration": 5,
    "start_time": "2024-05-29T05:53:21.635Z"
   },
   {
    "duration": 18,
    "start_time": "2024-05-29T05:53:34.425Z"
   },
   {
    "duration": 311100,
    "start_time": "2024-05-29T05:53:46.987Z"
   },
   {
    "duration": 16,
    "start_time": "2024-05-29T06:03:55.311Z"
   },
   {
    "duration": 4232,
    "start_time": "2024-05-29T09:55:14.670Z"
   },
   {
    "duration": 36,
    "start_time": "2024-05-29T09:57:31.700Z"
   },
   {
    "duration": 108,
    "start_time": "2024-05-29T09:59:33.832Z"
   },
   {
    "duration": 9,
    "start_time": "2024-05-29T10:10:01.223Z"
   },
   {
    "duration": 17,
    "start_time": "2024-05-29T10:10:31.506Z"
   },
   {
    "duration": 24,
    "start_time": "2024-05-29T10:21:24.936Z"
   },
   {
    "duration": 11,
    "start_time": "2024-05-29T10:22:34.969Z"
   },
   {
    "duration": 16,
    "start_time": "2024-05-29T10:23:02.454Z"
   },
   {
    "duration": 14,
    "start_time": "2024-05-29T10:23:22.446Z"
   },
   {
    "duration": 22,
    "start_time": "2024-05-29T10:23:40.127Z"
   },
   {
    "duration": 19,
    "start_time": "2024-05-29T10:25:33.445Z"
   },
   {
    "duration": 29,
    "start_time": "2024-05-29T10:26:19.016Z"
   },
   {
    "duration": 8,
    "start_time": "2024-05-29T10:31:29.400Z"
   },
   {
    "duration": 14,
    "start_time": "2024-05-29T10:31:39.330Z"
   },
   {
    "duration": 11,
    "start_time": "2024-05-29T10:31:58.116Z"
   },
   {
    "duration": 9,
    "start_time": "2024-05-29T10:32:33.001Z"
   },
   {
    "duration": 19,
    "start_time": "2024-05-29T10:32:41.863Z"
   },
   {
    "duration": 17,
    "start_time": "2024-05-29T10:32:47.471Z"
   },
   {
    "duration": 100,
    "start_time": "2024-05-29T10:32:52.324Z"
   },
   {
    "duration": 103,
    "start_time": "2024-05-29T10:33:02.204Z"
   },
   {
    "duration": 38,
    "start_time": "2024-05-29T10:35:32.506Z"
   },
   {
    "duration": 151,
    "start_time": "2024-05-29T10:35:49.476Z"
   },
   {
    "duration": 151,
    "start_time": "2024-05-29T10:37:10.707Z"
   },
   {
    "duration": 131,
    "start_time": "2024-05-29T10:38:55.064Z"
   },
   {
    "duration": 773,
    "start_time": "2024-05-29T10:39:21.552Z"
   },
   {
    "duration": 724,
    "start_time": "2024-05-29T10:39:46.881Z"
   },
   {
    "duration": 670,
    "start_time": "2024-05-29T10:40:59.080Z"
   },
   {
    "duration": 167,
    "start_time": "2024-05-29T10:41:14.896Z"
   },
   {
    "duration": 193,
    "start_time": "2024-05-29T10:44:29.716Z"
   },
   {
    "duration": 174,
    "start_time": "2024-05-29T10:44:51.539Z"
   },
   {
    "duration": 191,
    "start_time": "2024-05-29T10:47:07.952Z"
   },
   {
    "duration": 146,
    "start_time": "2024-05-29T10:47:41.613Z"
   },
   {
    "duration": 589,
    "start_time": "2024-05-29T10:50:57.780Z"
   },
   {
    "duration": 484,
    "start_time": "2024-05-29T10:51:19.720Z"
   },
   {
    "duration": 574,
    "start_time": "2024-05-29T10:51:29.429Z"
   },
   {
    "duration": 156,
    "start_time": "2024-05-29T10:53:21.807Z"
   },
   {
    "duration": 66,
    "start_time": "2024-05-29T10:54:41.447Z"
   },
   {
    "duration": 495,
    "start_time": "2024-05-29T10:54:46.706Z"
   },
   {
    "duration": 1486,
    "start_time": "2024-05-29T11:00:26.124Z"
   },
   {
    "duration": 723,
    "start_time": "2024-05-29T11:02:14.008Z"
   },
   {
    "duration": 624,
    "start_time": "2024-05-29T11:02:22.684Z"
   },
   {
    "duration": 580,
    "start_time": "2024-05-29T11:02:27.755Z"
   },
   {
    "duration": 733,
    "start_time": "2024-05-29T11:02:40.418Z"
   },
   {
    "duration": 610,
    "start_time": "2024-05-29T11:02:51.003Z"
   },
   {
    "duration": 514,
    "start_time": "2024-05-29T11:03:02.278Z"
   },
   {
    "duration": 6936,
    "start_time": "2024-05-30T00:42:41.397Z"
   },
   {
    "duration": 372,
    "start_time": "2024-05-30T00:42:48.335Z"
   },
   {
    "duration": 25,
    "start_time": "2024-05-30T00:42:48.709Z"
   },
   {
    "duration": 22,
    "start_time": "2024-05-30T00:42:48.736Z"
   },
   {
    "duration": 15,
    "start_time": "2024-05-30T00:42:48.760Z"
   },
   {
    "duration": 31,
    "start_time": "2024-05-30T00:42:48.777Z"
   },
   {
    "duration": 9,
    "start_time": "2024-05-30T00:42:48.810Z"
   },
   {
    "duration": 12,
    "start_time": "2024-05-30T00:42:48.821Z"
   },
   {
    "duration": 8,
    "start_time": "2024-05-30T00:42:48.834Z"
   },
   {
    "duration": 10,
    "start_time": "2024-05-30T00:42:48.844Z"
   },
   {
    "duration": 6,
    "start_time": "2024-05-30T00:42:48.855Z"
   },
   {
    "duration": 22,
    "start_time": "2024-05-30T00:42:48.863Z"
   },
   {
    "duration": 16,
    "start_time": "2024-05-30T00:42:48.887Z"
   },
   {
    "duration": 12,
    "start_time": "2024-05-30T00:42:48.906Z"
   },
   {
    "duration": 15,
    "start_time": "2024-05-30T00:42:48.920Z"
   },
   {
    "duration": 6,
    "start_time": "2024-05-30T00:42:48.937Z"
   },
   {
    "duration": 24,
    "start_time": "2024-05-30T00:42:48.945Z"
   },
   {
    "duration": 27,
    "start_time": "2024-05-30T00:42:48.971Z"
   },
   {
    "duration": 4,
    "start_time": "2024-05-30T00:42:49.000Z"
   },
   {
    "duration": 7,
    "start_time": "2024-05-30T00:42:49.006Z"
   },
   {
    "duration": 382,
    "start_time": "2024-05-30T00:42:49.015Z"
   },
   {
    "duration": 116,
    "start_time": "2024-05-30T00:42:49.399Z"
   },
   {
    "duration": 83,
    "start_time": "2024-05-30T00:42:49.516Z"
   },
   {
    "duration": 5,
    "start_time": "2024-05-30T00:42:49.602Z"
   },
   {
    "duration": 3204,
    "start_time": "2024-05-30T00:42:49.608Z"
   },
   {
    "duration": 4192,
    "start_time": "2024-05-30T00:42:52.813Z"
   },
   {
    "duration": 4465,
    "start_time": "2024-05-30T00:42:57.006Z"
   },
   {
    "duration": 303,
    "start_time": "2024-05-30T00:43:01.473Z"
   },
   {
    "duration": 1286,
    "start_time": "2024-05-30T00:43:01.785Z"
   },
   {
    "duration": 22,
    "start_time": "2024-05-30T00:43:03.073Z"
   },
   {
    "duration": 47,
    "start_time": "2024-05-30T00:43:03.097Z"
   },
   {
    "duration": 26,
    "start_time": "2024-05-30T00:43:03.145Z"
   },
   {
    "duration": 24,
    "start_time": "2024-05-30T00:43:03.173Z"
   },
   {
    "duration": 39,
    "start_time": "2024-05-30T00:43:03.199Z"
   },
   {
    "duration": 11,
    "start_time": "2024-05-30T00:43:03.239Z"
   },
   {
    "duration": 56,
    "start_time": "2024-05-30T00:43:03.251Z"
   },
   {
    "duration": 1729,
    "start_time": "2024-05-30T00:43:03.308Z"
   },
   {
    "duration": 13,
    "start_time": "2024-05-30T00:43:05.039Z"
   },
   {
    "duration": 704,
    "start_time": "2024-05-30T00:43:05.053Z"
   },
   {
    "duration": 0,
    "start_time": "2024-05-30T00:43:05.760Z"
   },
   {
    "duration": 0,
    "start_time": "2024-05-30T00:43:05.762Z"
   },
   {
    "duration": 0,
    "start_time": "2024-05-30T00:43:05.763Z"
   },
   {
    "duration": 0,
    "start_time": "2024-05-30T00:43:05.765Z"
   },
   {
    "duration": 0,
    "start_time": "2024-05-30T00:43:05.766Z"
   },
   {
    "duration": 0,
    "start_time": "2024-05-30T00:43:05.780Z"
   },
   {
    "duration": 0,
    "start_time": "2024-05-30T00:43:05.782Z"
   },
   {
    "duration": 4888,
    "start_time": "2024-05-30T00:43:58.870Z"
   },
   {
    "duration": 92,
    "start_time": "2024-05-30T00:44:03.761Z"
   },
   {
    "duration": 30,
    "start_time": "2024-05-30T00:44:03.855Z"
   },
   {
    "duration": 23,
    "start_time": "2024-05-30T00:44:03.888Z"
   },
   {
    "duration": 15,
    "start_time": "2024-05-30T00:44:03.913Z"
   },
   {
    "duration": 13,
    "start_time": "2024-05-30T00:44:03.930Z"
   },
   {
    "duration": 53,
    "start_time": "2024-05-30T00:44:03.944Z"
   },
   {
    "duration": 11,
    "start_time": "2024-05-30T00:44:03.999Z"
   },
   {
    "duration": 11,
    "start_time": "2024-05-30T00:44:04.012Z"
   },
   {
    "duration": 11,
    "start_time": "2024-05-30T00:44:04.026Z"
   },
   {
    "duration": 18,
    "start_time": "2024-05-30T00:44:04.038Z"
   },
   {
    "duration": 33,
    "start_time": "2024-05-30T00:44:04.058Z"
   },
   {
    "duration": 7,
    "start_time": "2024-05-30T00:44:04.097Z"
   },
   {
    "duration": 8,
    "start_time": "2024-05-30T00:44:04.107Z"
   },
   {
    "duration": 33,
    "start_time": "2024-05-30T00:44:04.117Z"
   },
   {
    "duration": 10,
    "start_time": "2024-05-30T00:44:04.152Z"
   },
   {
    "duration": 37,
    "start_time": "2024-05-30T00:44:04.164Z"
   },
   {
    "duration": 7,
    "start_time": "2024-05-30T00:44:04.203Z"
   },
   {
    "duration": 12,
    "start_time": "2024-05-30T00:44:04.212Z"
   },
   {
    "duration": 12,
    "start_time": "2024-05-30T00:44:04.226Z"
   },
   {
    "duration": 530,
    "start_time": "2024-05-30T00:44:04.240Z"
   },
   {
    "duration": 139,
    "start_time": "2024-05-30T00:44:04.771Z"
   },
   {
    "duration": 100,
    "start_time": "2024-05-30T00:44:04.912Z"
   },
   {
    "duration": 4,
    "start_time": "2024-05-30T00:44:05.014Z"
   },
   {
    "duration": 3293,
    "start_time": "2024-05-30T00:44:05.019Z"
   },
   {
    "duration": 4428,
    "start_time": "2024-05-30T00:44:08.314Z"
   },
   {
    "duration": 4638,
    "start_time": "2024-05-30T00:44:12.744Z"
   },
   {
    "duration": 283,
    "start_time": "2024-05-30T00:44:17.391Z"
   },
   {
    "duration": 1121,
    "start_time": "2024-05-30T00:44:17.676Z"
   },
   {
    "duration": 10,
    "start_time": "2024-05-30T00:44:18.798Z"
   },
   {
    "duration": 17,
    "start_time": "2024-05-30T00:44:18.809Z"
   },
   {
    "duration": 41,
    "start_time": "2024-05-30T00:44:18.828Z"
   },
   {
    "duration": 19,
    "start_time": "2024-05-30T00:44:18.870Z"
   },
   {
    "duration": 42,
    "start_time": "2024-05-30T00:44:18.891Z"
   },
   {
    "duration": 10,
    "start_time": "2024-05-30T00:44:18.934Z"
   },
   {
    "duration": 54,
    "start_time": "2024-05-30T00:44:18.945Z"
   },
   {
    "duration": 1560,
    "start_time": "2024-05-30T00:44:19.001Z"
   },
   {
    "duration": 38,
    "start_time": "2024-05-30T00:44:20.563Z"
   },
   {
    "duration": 16318,
    "start_time": "2024-05-30T00:44:20.603Z"
   },
   {
    "duration": 5,
    "start_time": "2024-05-30T00:44:36.923Z"
   },
   {
    "duration": 428088,
    "start_time": "2024-05-30T00:44:36.930Z"
   },
   {
    "duration": 30,
    "start_time": "2024-05-30T00:51:45.020Z"
   },
   {
    "duration": 86,
    "start_time": "2024-05-30T00:51:45.052Z"
   },
   {
    "duration": 0,
    "start_time": "2024-05-30T00:51:45.140Z"
   },
   {
    "duration": 0,
    "start_time": "2024-05-30T00:51:45.141Z"
   },
   {
    "duration": 0,
    "start_time": "2024-05-30T00:51:45.142Z"
   },
   {
    "duration": 66,
    "start_time": "2024-05-30T00:53:34.444Z"
   },
   {
    "duration": 684,
    "start_time": "2024-05-30T00:53:37.038Z"
   },
   {
    "duration": 178,
    "start_time": "2024-05-30T00:55:01.349Z"
   },
   {
    "duration": 16,
    "start_time": "2024-05-30T01:05:32.752Z"
   },
   {
    "duration": 4691,
    "start_time": "2024-05-30T01:17:36.993Z"
   },
   {
    "duration": 83,
    "start_time": "2024-05-30T01:17:41.686Z"
   },
   {
    "duration": 33,
    "start_time": "2024-05-30T01:17:41.771Z"
   },
   {
    "duration": 11,
    "start_time": "2024-05-30T01:17:41.805Z"
   },
   {
    "duration": 15,
    "start_time": "2024-05-30T01:17:41.819Z"
   },
   {
    "duration": 13,
    "start_time": "2024-05-30T01:17:41.836Z"
   },
   {
    "duration": 46,
    "start_time": "2024-05-30T01:17:41.851Z"
   },
   {
    "duration": 10,
    "start_time": "2024-05-30T01:17:41.899Z"
   },
   {
    "duration": 8,
    "start_time": "2024-05-30T01:17:41.911Z"
   },
   {
    "duration": 11,
    "start_time": "2024-05-30T01:17:41.921Z"
   },
   {
    "duration": 5,
    "start_time": "2024-05-30T01:17:41.933Z"
   },
   {
    "duration": 11,
    "start_time": "2024-05-30T01:17:41.940Z"
   },
   {
    "duration": 5,
    "start_time": "2024-05-30T01:17:41.952Z"
   },
   {
    "duration": 24,
    "start_time": "2024-05-30T01:17:41.960Z"
   },
   {
    "duration": 12,
    "start_time": "2024-05-30T01:17:41.996Z"
   },
   {
    "duration": 6,
    "start_time": "2024-05-30T01:17:42.010Z"
   },
   {
    "duration": 6,
    "start_time": "2024-05-30T01:17:42.017Z"
   },
   {
    "duration": 25,
    "start_time": "2024-05-30T01:17:42.024Z"
   },
   {
    "duration": 5,
    "start_time": "2024-05-30T01:17:42.051Z"
   },
   {
    "duration": 18,
    "start_time": "2024-05-30T01:17:42.058Z"
   },
   {
    "duration": 395,
    "start_time": "2024-05-30T01:17:42.078Z"
   },
   {
    "duration": 133,
    "start_time": "2024-05-30T01:17:42.475Z"
   },
   {
    "duration": 118,
    "start_time": "2024-05-30T01:17:42.610Z"
   },
   {
    "duration": 4,
    "start_time": "2024-05-30T01:17:42.730Z"
   },
   {
    "duration": 3344,
    "start_time": "2024-05-30T01:17:42.736Z"
   },
   {
    "duration": 4252,
    "start_time": "2024-05-30T01:17:46.085Z"
   },
   {
    "duration": 4660,
    "start_time": "2024-05-30T01:17:50.338Z"
   },
   {
    "duration": 270,
    "start_time": "2024-05-30T01:17:54.999Z"
   },
   {
    "duration": 1133,
    "start_time": "2024-05-30T01:17:55.271Z"
   },
   {
    "duration": 12,
    "start_time": "2024-05-30T01:17:56.405Z"
   },
   {
    "duration": 14,
    "start_time": "2024-05-30T01:17:56.418Z"
   },
   {
    "duration": 13,
    "start_time": "2024-05-30T01:17:56.435Z"
   },
   {
    "duration": 30,
    "start_time": "2024-05-30T01:17:56.450Z"
   },
   {
    "duration": 46,
    "start_time": "2024-05-30T01:17:56.482Z"
   },
   {
    "duration": 9,
    "start_time": "2024-05-30T01:17:56.530Z"
   },
   {
    "duration": 62,
    "start_time": "2024-05-30T01:17:56.541Z"
   },
   {
    "duration": 1625,
    "start_time": "2024-05-30T01:17:56.605Z"
   },
   {
    "duration": 13,
    "start_time": "2024-05-30T01:17:58.232Z"
   },
   {
    "duration": 17471,
    "start_time": "2024-05-30T01:17:58.246Z"
   },
   {
    "duration": 5,
    "start_time": "2024-05-30T01:18:15.719Z"
   },
   {
    "duration": 431814,
    "start_time": "2024-05-30T01:18:15.728Z"
   },
   {
    "duration": 42,
    "start_time": "2024-05-30T01:25:27.543Z"
   },
   {
    "duration": 51,
    "start_time": "2024-05-30T01:25:27.596Z"
   },
   {
    "duration": 671,
    "start_time": "2024-05-30T01:25:27.649Z"
   },
   {
    "duration": 50,
    "start_time": "2024-05-30T01:25:46.414Z"
   },
   {
    "duration": 23,
    "start_time": "2024-05-30T01:39:09.540Z"
   },
   {
    "duration": 20,
    "start_time": "2024-05-30T01:39:34.441Z"
   },
   {
    "duration": 6332,
    "start_time": "2024-05-30T07:08:06.310Z"
   },
   {
    "duration": 260,
    "start_time": "2024-05-30T07:08:12.644Z"
   },
   {
    "duration": 23,
    "start_time": "2024-05-30T07:08:12.905Z"
   },
   {
    "duration": 12,
    "start_time": "2024-05-30T07:08:12.930Z"
   },
   {
    "duration": 10,
    "start_time": "2024-05-30T07:08:12.944Z"
   },
   {
    "duration": 11,
    "start_time": "2024-05-30T07:08:12.955Z"
   },
   {
    "duration": 19,
    "start_time": "2024-05-30T07:08:12.968Z"
   },
   {
    "duration": 10,
    "start_time": "2024-05-30T07:08:12.989Z"
   },
   {
    "duration": 8,
    "start_time": "2024-05-30T07:08:13.001Z"
   },
   {
    "duration": 11,
    "start_time": "2024-05-30T07:08:13.011Z"
   },
   {
    "duration": 10,
    "start_time": "2024-05-30T07:08:13.023Z"
   },
   {
    "duration": 16,
    "start_time": "2024-05-30T07:08:13.035Z"
   },
   {
    "duration": 9,
    "start_time": "2024-05-30T07:08:13.053Z"
   },
   {
    "duration": 21,
    "start_time": "2024-05-30T07:08:13.065Z"
   },
   {
    "duration": 11,
    "start_time": "2024-05-30T07:08:13.087Z"
   },
   {
    "duration": 16,
    "start_time": "2024-05-30T07:08:13.100Z"
   },
   {
    "duration": 15,
    "start_time": "2024-05-30T07:08:13.117Z"
   },
   {
    "duration": 14,
    "start_time": "2024-05-30T07:08:13.134Z"
   },
   {
    "duration": 27,
    "start_time": "2024-05-30T07:08:13.150Z"
   },
   {
    "duration": 10,
    "start_time": "2024-05-30T07:08:13.178Z"
   },
   {
    "duration": 355,
    "start_time": "2024-05-30T07:08:13.189Z"
   },
   {
    "duration": 92,
    "start_time": "2024-05-30T07:08:13.546Z"
   },
   {
    "duration": 77,
    "start_time": "2024-05-30T07:08:13.639Z"
   },
   {
    "duration": 4,
    "start_time": "2024-05-30T07:08:13.717Z"
   },
   {
    "duration": 3005,
    "start_time": "2024-05-30T07:08:13.723Z"
   },
   {
    "duration": 3877,
    "start_time": "2024-05-30T07:08:16.729Z"
   },
   {
    "duration": 4148,
    "start_time": "2024-05-30T07:08:20.608Z"
   },
   {
    "duration": 257,
    "start_time": "2024-05-30T07:08:24.758Z"
   },
   {
    "duration": 1042,
    "start_time": "2024-05-30T07:08:25.017Z"
   },
   {
    "duration": 9,
    "start_time": "2024-05-30T07:08:26.061Z"
   },
   {
    "duration": 38,
    "start_time": "2024-05-30T07:08:26.072Z"
   },
   {
    "duration": 28,
    "start_time": "2024-05-30T07:08:26.112Z"
   },
   {
    "duration": 37,
    "start_time": "2024-05-30T07:08:26.143Z"
   },
   {
    "duration": 67,
    "start_time": "2024-05-30T07:08:26.182Z"
   },
   {
    "duration": 11,
    "start_time": "2024-05-30T07:08:26.251Z"
   },
   {
    "duration": 62,
    "start_time": "2024-05-30T07:08:26.264Z"
   },
   {
    "duration": 1514,
    "start_time": "2024-05-30T07:08:26.329Z"
   },
   {
    "duration": 16,
    "start_time": "2024-05-30T07:08:27.845Z"
   },
   {
    "duration": 10058,
    "start_time": "2024-05-30T07:08:27.862Z"
   },
   {
    "duration": 6,
    "start_time": "2024-05-30T07:08:37.922Z"
   },
   {
    "duration": 377280,
    "start_time": "2024-05-30T07:08:37.933Z"
   },
   {
    "duration": 18,
    "start_time": "2024-05-30T07:14:55.215Z"
   },
   {
    "duration": 62,
    "start_time": "2024-05-30T07:14:55.235Z"
   },
   {
    "duration": 622,
    "start_time": "2024-05-30T07:14:55.299Z"
   },
   {
    "duration": 174,
    "start_time": "2024-05-30T07:14:55.923Z"
   },
   {
    "duration": 0,
    "start_time": "2024-05-30T07:14:56.098Z"
   },
   {
    "duration": 0,
    "start_time": "2024-05-30T07:14:56.099Z"
   },
   {
    "duration": 16,
    "start_time": "2024-05-30T07:15:56.199Z"
   },
   {
    "duration": 4447,
    "start_time": "2024-05-30T07:20:08.603Z"
   },
   {
    "duration": 88,
    "start_time": "2024-05-30T07:20:13.052Z"
   },
   {
    "duration": 25,
    "start_time": "2024-05-30T07:20:13.142Z"
   },
   {
    "duration": 12,
    "start_time": "2024-05-30T07:20:13.170Z"
   },
   {
    "duration": 10,
    "start_time": "2024-05-30T07:20:13.184Z"
   },
   {
    "duration": 12,
    "start_time": "2024-05-30T07:20:13.195Z"
   },
   {
    "duration": 12,
    "start_time": "2024-05-30T07:20:13.208Z"
   },
   {
    "duration": 15,
    "start_time": "2024-05-30T07:20:13.221Z"
   },
   {
    "duration": 34,
    "start_time": "2024-05-30T07:20:13.237Z"
   },
   {
    "duration": 32,
    "start_time": "2024-05-30T07:20:13.273Z"
   },
   {
    "duration": 18,
    "start_time": "2024-05-30T07:20:13.307Z"
   },
   {
    "duration": 21,
    "start_time": "2024-05-30T07:20:13.326Z"
   },
   {
    "duration": 31,
    "start_time": "2024-05-30T07:20:13.349Z"
   },
   {
    "duration": 11,
    "start_time": "2024-05-30T07:20:13.381Z"
   },
   {
    "duration": 28,
    "start_time": "2024-05-30T07:20:13.393Z"
   },
   {
    "duration": 26,
    "start_time": "2024-05-30T07:20:13.423Z"
   },
   {
    "duration": 41,
    "start_time": "2024-05-30T07:20:13.450Z"
   },
   {
    "duration": 23,
    "start_time": "2024-05-30T07:20:13.492Z"
   },
   {
    "duration": 22,
    "start_time": "2024-05-30T07:20:13.516Z"
   },
   {
    "duration": 17,
    "start_time": "2024-05-30T07:20:13.540Z"
   },
   {
    "duration": 413,
    "start_time": "2024-05-30T07:20:13.559Z"
   },
   {
    "duration": 95,
    "start_time": "2024-05-30T07:20:13.974Z"
   },
   {
    "duration": 89,
    "start_time": "2024-05-30T07:20:14.070Z"
   },
   {
    "duration": 5,
    "start_time": "2024-05-30T07:20:14.160Z"
   },
   {
    "duration": 3011,
    "start_time": "2024-05-30T07:20:14.166Z"
   },
   {
    "duration": 3875,
    "start_time": "2024-05-30T07:20:17.181Z"
   },
   {
    "duration": 4119,
    "start_time": "2024-05-30T07:20:21.057Z"
   },
   {
    "duration": 258,
    "start_time": "2024-05-30T07:20:25.181Z"
   },
   {
    "duration": 1051,
    "start_time": "2024-05-30T07:20:25.440Z"
   },
   {
    "duration": 10,
    "start_time": "2024-05-30T07:20:26.492Z"
   },
   {
    "duration": 28,
    "start_time": "2024-05-30T07:20:26.504Z"
   },
   {
    "duration": 23,
    "start_time": "2024-05-30T07:20:26.533Z"
   },
   {
    "duration": 14,
    "start_time": "2024-05-30T07:20:26.557Z"
   },
   {
    "duration": 36,
    "start_time": "2024-05-30T07:20:26.572Z"
   },
   {
    "duration": 8,
    "start_time": "2024-05-30T07:20:26.610Z"
   },
   {
    "duration": 38,
    "start_time": "2024-05-30T07:20:26.619Z"
   },
   {
    "duration": 1496,
    "start_time": "2024-05-30T07:20:26.658Z"
   },
   {
    "duration": 13,
    "start_time": "2024-05-30T07:20:28.155Z"
   },
   {
    "duration": 9637,
    "start_time": "2024-05-30T07:20:28.169Z"
   },
   {
    "duration": 4,
    "start_time": "2024-05-30T07:20:37.808Z"
   },
   {
    "duration": 374098,
    "start_time": "2024-05-30T07:20:37.814Z"
   },
   {
    "duration": 17,
    "start_time": "2024-05-30T07:26:51.914Z"
   },
   {
    "duration": 66,
    "start_time": "2024-05-30T07:26:51.933Z"
   },
   {
    "duration": 0,
    "start_time": "2024-05-30T07:26:52.001Z"
   },
   {
    "duration": 145,
    "start_time": "2024-05-30T07:27:47.292Z"
   },
   {
    "duration": 610,
    "start_time": "2024-05-30T07:27:53.197Z"
   },
   {
    "duration": 148,
    "start_time": "2024-05-30T07:28:01.015Z"
   },
   {
    "duration": 66,
    "start_time": "2024-05-30T07:28:13.056Z"
   },
   {
    "duration": 23,
    "start_time": "2024-05-30T07:28:30.401Z"
   },
   {
    "duration": 52,
    "start_time": "2024-06-04T09:15:31.557Z"
   },
   {
    "duration": 6749,
    "start_time": "2024-06-04T09:15:35.649Z"
   },
   {
    "duration": 497,
    "start_time": "2024-06-04T09:15:42.400Z"
   },
   {
    "duration": 23,
    "start_time": "2024-06-04T09:15:42.899Z"
   },
   {
    "duration": 13,
    "start_time": "2024-06-04T09:15:42.924Z"
   },
   {
    "duration": 13,
    "start_time": "2024-06-04T09:15:42.939Z"
   },
   {
    "duration": 28,
    "start_time": "2024-06-04T09:15:42.954Z"
   },
   {
    "duration": 32,
    "start_time": "2024-06-04T09:15:42.984Z"
   },
   {
    "duration": 13,
    "start_time": "2024-06-04T09:15:43.018Z"
   },
   {
    "duration": 38,
    "start_time": "2024-06-04T09:15:43.033Z"
   },
   {
    "duration": 12,
    "start_time": "2024-06-04T09:15:43.073Z"
   },
   {
    "duration": 16,
    "start_time": "2024-06-04T09:15:43.087Z"
   },
   {
    "duration": 11,
    "start_time": "2024-06-04T09:15:43.105Z"
   },
   {
    "duration": 27,
    "start_time": "2024-06-04T09:15:43.118Z"
   },
   {
    "duration": 24,
    "start_time": "2024-06-04T09:15:43.149Z"
   },
   {
    "duration": 30,
    "start_time": "2024-06-04T09:15:43.175Z"
   },
   {
    "duration": 7,
    "start_time": "2024-06-04T09:15:43.207Z"
   },
   {
    "duration": 6,
    "start_time": "2024-06-04T09:15:43.216Z"
   },
   {
    "duration": 7,
    "start_time": "2024-06-04T09:15:43.224Z"
   },
   {
    "duration": 9,
    "start_time": "2024-06-04T09:15:43.233Z"
   },
   {
    "duration": 8,
    "start_time": "2024-06-04T09:15:43.258Z"
   },
   {
    "duration": 376,
    "start_time": "2024-06-04T09:15:43.268Z"
   },
   {
    "duration": 98,
    "start_time": "2024-06-04T09:15:43.646Z"
   },
   {
    "duration": 82,
    "start_time": "2024-06-04T09:15:43.746Z"
   },
   {
    "duration": 4,
    "start_time": "2024-06-04T09:15:43.830Z"
   },
   {
    "duration": 3124,
    "start_time": "2024-06-04T09:15:43.856Z"
   },
   {
    "duration": 3923,
    "start_time": "2024-06-04T09:15:46.982Z"
   },
   {
    "duration": 4128,
    "start_time": "2024-06-04T09:15:50.906Z"
   },
   {
    "duration": 264,
    "start_time": "2024-06-04T09:15:55.036Z"
   },
   {
    "duration": 1071,
    "start_time": "2024-06-04T09:15:55.301Z"
   },
   {
    "duration": 10,
    "start_time": "2024-06-04T09:15:56.374Z"
   },
   {
    "duration": 4,
    "start_time": "2024-06-04T09:15:56.386Z"
   },
   {
    "duration": 16,
    "start_time": "2024-06-04T09:15:56.392Z"
   },
   {
    "duration": 20,
    "start_time": "2024-06-04T09:15:56.410Z"
   },
   {
    "duration": 37,
    "start_time": "2024-06-04T09:15:56.455Z"
   },
   {
    "duration": 10,
    "start_time": "2024-06-04T09:15:56.494Z"
   },
   {
    "duration": 52,
    "start_time": "2024-06-04T09:15:56.506Z"
   },
   {
    "duration": 1480,
    "start_time": "2024-06-04T09:15:56.560Z"
   },
   {
    "duration": 22,
    "start_time": "2024-06-04T09:15:58.042Z"
   },
   {
    "duration": 10225,
    "start_time": "2024-06-04T09:15:58.066Z"
   },
   {
    "duration": 5,
    "start_time": "2024-06-04T09:16:08.293Z"
   },
   {
    "duration": 380690,
    "start_time": "2024-06-04T09:16:08.302Z"
   },
   {
    "duration": 18,
    "start_time": "2024-06-04T09:22:28.994Z"
   },
   {
    "duration": 168,
    "start_time": "2024-06-04T09:22:29.014Z"
   },
   {
    "duration": 624,
    "start_time": "2024-06-04T09:22:29.184Z"
   },
   {
    "duration": 276,
    "start_time": "2024-06-04T09:22:29.810Z"
   },
   {
    "duration": 0,
    "start_time": "2024-06-04T09:22:30.089Z"
   },
   {
    "duration": 0,
    "start_time": "2024-06-04T09:22:30.090Z"
   },
   {
    "duration": 0,
    "start_time": "2024-06-04T09:22:30.092Z"
   },
   {
    "duration": 2,
    "start_time": "2024-06-04T09:23:44.695Z"
   },
   {
    "duration": 89,
    "start_time": "2024-06-04T09:23:56.147Z"
   },
   {
    "duration": 23,
    "start_time": "2024-06-04T09:23:57.800Z"
   },
   {
    "duration": 6254,
    "start_time": "2024-06-05T01:09:44.636Z"
   },
   {
    "duration": 267,
    "start_time": "2024-06-05T01:09:50.892Z"
   },
   {
    "duration": 18,
    "start_time": "2024-06-05T01:09:51.160Z"
   },
   {
    "duration": 26,
    "start_time": "2024-06-05T01:09:51.179Z"
   },
   {
    "duration": 26,
    "start_time": "2024-06-05T01:09:51.207Z"
   },
   {
    "duration": 11,
    "start_time": "2024-06-05T01:09:51.234Z"
   },
   {
    "duration": 7,
    "start_time": "2024-06-05T01:09:51.247Z"
   },
   {
    "duration": 23,
    "start_time": "2024-06-05T01:09:51.255Z"
   },
   {
    "duration": 23,
    "start_time": "2024-06-05T01:09:51.279Z"
   },
   {
    "duration": 43,
    "start_time": "2024-06-05T01:09:51.304Z"
   },
   {
    "duration": 10,
    "start_time": "2024-06-05T01:09:51.349Z"
   },
   {
    "duration": 22,
    "start_time": "2024-06-05T01:09:51.360Z"
   },
   {
    "duration": 17,
    "start_time": "2024-06-05T01:09:51.384Z"
   },
   {
    "duration": 26,
    "start_time": "2024-06-05T01:09:51.404Z"
   },
   {
    "duration": 25,
    "start_time": "2024-06-05T01:09:51.431Z"
   },
   {
    "duration": 42,
    "start_time": "2024-06-05T01:09:51.457Z"
   },
   {
    "duration": 15,
    "start_time": "2024-06-05T01:09:51.500Z"
   },
   {
    "duration": 40,
    "start_time": "2024-06-05T01:09:51.516Z"
   },
   {
    "duration": 7,
    "start_time": "2024-06-05T01:09:51.557Z"
   },
   {
    "duration": 12,
    "start_time": "2024-06-05T01:09:51.565Z"
   },
   {
    "duration": 329,
    "start_time": "2024-06-05T01:09:51.579Z"
   },
   {
    "duration": 74,
    "start_time": "2024-06-05T01:09:51.909Z"
   },
   {
    "duration": 60,
    "start_time": "2024-06-05T01:09:51.984Z"
   },
   {
    "duration": 3,
    "start_time": "2024-06-05T01:09:52.045Z"
   },
   {
    "duration": 2287,
    "start_time": "2024-06-05T01:09:52.049Z"
   },
   {
    "duration": 2795,
    "start_time": "2024-06-05T01:09:54.337Z"
   },
   {
    "duration": 3009,
    "start_time": "2024-06-05T01:09:57.134Z"
   },
   {
    "duration": 225,
    "start_time": "2024-06-05T01:10:00.144Z"
   },
   {
    "duration": 757,
    "start_time": "2024-06-05T01:10:00.371Z"
   },
   {
    "duration": 8,
    "start_time": "2024-06-05T01:10:01.130Z"
   },
   {
    "duration": 22,
    "start_time": "2024-06-05T01:10:01.139Z"
   },
   {
    "duration": 56,
    "start_time": "2024-06-05T01:10:01.162Z"
   },
   {
    "duration": 65,
    "start_time": "2024-06-05T01:10:01.219Z"
   },
   {
    "duration": 93,
    "start_time": "2024-06-05T01:10:01.285Z"
   },
   {
    "duration": 29,
    "start_time": "2024-06-05T01:10:01.380Z"
   },
   {
    "duration": 58,
    "start_time": "2024-06-05T01:10:01.411Z"
   },
   {
    "duration": 1186,
    "start_time": "2024-06-05T01:10:01.470Z"
   },
   {
    "duration": 10,
    "start_time": "2024-06-05T01:10:02.658Z"
   },
   {
    "duration": 7145,
    "start_time": "2024-06-05T01:10:02.669Z"
   },
   {
    "duration": 4,
    "start_time": "2024-06-05T01:10:09.816Z"
   },
   {
    "duration": 309381,
    "start_time": "2024-06-05T01:10:09.822Z"
   },
   {
    "duration": 17,
    "start_time": "2024-06-05T01:15:19.204Z"
   },
   {
    "duration": 136,
    "start_time": "2024-06-05T01:15:19.222Z"
   },
   {
    "duration": 535,
    "start_time": "2024-06-05T01:15:19.359Z"
   },
   {
    "duration": 2,
    "start_time": "2024-06-05T01:15:19.895Z"
   },
   {
    "duration": 68,
    "start_time": "2024-06-05T01:15:19.901Z"
   },
   {
    "duration": 32,
    "start_time": "2024-06-05T01:15:19.971Z"
   },
   {
    "duration": 71,
    "start_time": "2024-06-05T01:15:20.005Z"
   },
   {
    "duration": 38,
    "start_time": "2024-06-05T01:46:03.659Z"
   },
   {
    "duration": 18,
    "start_time": "2024-06-05T01:46:15.127Z"
   },
   {
    "duration": 950,
    "start_time": "2024-06-05T01:58:57.168Z"
   },
   {
    "duration": 1097,
    "start_time": "2024-06-05T02:01:36.992Z"
   },
   {
    "duration": 121,
    "start_time": "2024-06-05T02:09:40.947Z"
   },
   {
    "duration": 7,
    "start_time": "2024-06-05T02:13:07.245Z"
   },
   {
    "duration": 74,
    "start_time": "2024-06-05T02:13:29.789Z"
   },
   {
    "duration": 12,
    "start_time": "2024-06-05T02:13:37.925Z"
   },
   {
    "duration": 8,
    "start_time": "2024-06-05T02:14:49.352Z"
   },
   {
    "duration": 10,
    "start_time": "2024-06-05T02:15:00.671Z"
   },
   {
    "duration": 4,
    "start_time": "2024-06-05T02:22:36.755Z"
   },
   {
    "duration": 2280,
    "start_time": "2024-06-05T02:22:40.364Z"
   },
   {
    "duration": 2927,
    "start_time": "2024-06-05T02:23:47.244Z"
   },
   {
    "duration": 3033,
    "start_time": "2024-06-05T02:23:59.120Z"
   },
   {
    "duration": 192,
    "start_time": "2024-06-05T02:24:11.991Z"
   },
   {
    "duration": 1270,
    "start_time": "2024-06-05T02:24:25.440Z"
   },
   {
    "duration": 119,
    "start_time": "2024-06-05T02:24:40.835Z"
   },
   {
    "duration": 109,
    "start_time": "2024-06-05T02:25:11.368Z"
   },
   {
    "duration": 209,
    "start_time": "2024-06-05T02:26:15.004Z"
   },
   {
    "duration": 411,
    "start_time": "2024-06-05T02:27:04.866Z"
   },
   {
    "duration": 6,
    "start_time": "2024-06-05T02:34:39.880Z"
   },
   {
    "duration": 108,
    "start_time": "2024-06-05T02:39:34.365Z"
   },
   {
    "duration": 69,
    "start_time": "2024-06-05T02:42:44.868Z"
   },
   {
    "duration": 105,
    "start_time": "2024-06-05T02:42:52.973Z"
   },
   {
    "duration": 4415,
    "start_time": "2024-06-05T02:48:17.322Z"
   },
   {
    "duration": 3486,
    "start_time": "2024-06-05T02:48:59.990Z"
   },
   {
    "duration": 176,
    "start_time": "2024-06-05T02:50:10.127Z"
   },
   {
    "duration": 4037,
    "start_time": "2024-06-05T02:51:47.466Z"
   },
   {
    "duration": 84,
    "start_time": "2024-06-05T02:51:51.505Z"
   },
   {
    "duration": 18,
    "start_time": "2024-06-05T02:51:51.590Z"
   },
   {
    "duration": 12,
    "start_time": "2024-06-05T02:51:51.610Z"
   },
   {
    "duration": 14,
    "start_time": "2024-06-05T02:51:51.623Z"
   },
   {
    "duration": 8,
    "start_time": "2024-06-05T02:51:51.638Z"
   },
   {
    "duration": 9,
    "start_time": "2024-06-05T02:51:51.647Z"
   },
   {
    "duration": 10,
    "start_time": "2024-06-05T02:51:51.657Z"
   },
   {
    "duration": 18,
    "start_time": "2024-06-05T02:51:51.668Z"
   },
   {
    "duration": 19,
    "start_time": "2024-06-05T02:51:51.688Z"
   },
   {
    "duration": 26,
    "start_time": "2024-06-05T02:51:51.708Z"
   },
   {
    "duration": 20,
    "start_time": "2024-06-05T02:51:51.735Z"
   },
   {
    "duration": 19,
    "start_time": "2024-06-05T02:51:51.756Z"
   },
   {
    "duration": 11,
    "start_time": "2024-06-05T02:51:51.776Z"
   },
   {
    "duration": 11,
    "start_time": "2024-06-05T02:51:51.788Z"
   },
   {
    "duration": 12,
    "start_time": "2024-06-05T02:51:51.800Z"
   },
   {
    "duration": 7,
    "start_time": "2024-06-05T02:51:51.813Z"
   },
   {
    "duration": 14,
    "start_time": "2024-06-05T02:51:51.821Z"
   },
   {
    "duration": 15,
    "start_time": "2024-06-05T02:51:51.837Z"
   },
   {
    "duration": 20,
    "start_time": "2024-06-05T02:51:51.853Z"
   },
   {
    "duration": 350,
    "start_time": "2024-06-05T02:51:51.874Z"
   },
   {
    "duration": 86,
    "start_time": "2024-06-05T02:51:52.225Z"
   },
   {
    "duration": 59,
    "start_time": "2024-06-05T02:51:52.313Z"
   },
   {
    "duration": 4,
    "start_time": "2024-06-05T02:51:52.373Z"
   },
   {
    "duration": 2291,
    "start_time": "2024-06-05T02:51:52.378Z"
   },
   {
    "duration": 2876,
    "start_time": "2024-06-05T02:51:54.670Z"
   },
   {
    "duration": 3040,
    "start_time": "2024-06-05T02:51:57.547Z"
   },
   {
    "duration": 205,
    "start_time": "2024-06-05T02:52:00.590Z"
   },
   {
    "duration": 776,
    "start_time": "2024-06-05T02:52:00.796Z"
   },
   {
    "duration": 8,
    "start_time": "2024-06-05T02:52:01.573Z"
   },
   {
    "duration": 41,
    "start_time": "2024-06-05T02:52:01.582Z"
   },
   {
    "duration": 28,
    "start_time": "2024-06-05T02:52:01.624Z"
   },
   {
    "duration": 19,
    "start_time": "2024-06-05T02:52:01.653Z"
   },
   {
    "duration": 38,
    "start_time": "2024-06-05T02:52:01.674Z"
   },
   {
    "duration": 7,
    "start_time": "2024-06-05T02:52:01.713Z"
   },
   {
    "duration": 40,
    "start_time": "2024-06-05T02:52:01.721Z"
   },
   {
    "duration": 1199,
    "start_time": "2024-06-05T02:52:01.762Z"
   },
   {
    "duration": 10,
    "start_time": "2024-06-05T02:52:02.963Z"
   },
   {
    "duration": 6845,
    "start_time": "2024-06-05T02:52:02.975Z"
   },
   {
    "duration": 4,
    "start_time": "2024-06-05T02:52:09.822Z"
   },
   {
    "duration": 307592,
    "start_time": "2024-06-05T02:52:09.827Z"
   },
   {
    "duration": 22,
    "start_time": "2024-06-05T02:57:17.420Z"
   },
   {
    "duration": 200,
    "start_time": "2024-06-05T02:57:17.444Z"
   },
   {
    "duration": 534,
    "start_time": "2024-06-05T02:57:17.647Z"
   },
   {
    "duration": 2,
    "start_time": "2024-06-05T02:57:18.183Z"
   },
   {
    "duration": 68,
    "start_time": "2024-06-05T02:57:18.186Z"
   },
   {
    "duration": 18,
    "start_time": "2024-06-05T02:57:18.255Z"
   },
   {
    "duration": 42,
    "start_time": "2024-06-05T02:57:18.275Z"
   },
   {
    "duration": 1214,
    "start_time": "2024-06-05T02:57:18.318Z"
   },
   {
    "duration": 7,
    "start_time": "2024-06-05T02:57:19.533Z"
   },
   {
    "duration": 207,
    "start_time": "2024-06-05T02:57:19.541Z"
   },
   {
    "duration": 60,
    "start_time": "2024-06-05T02:57:19.749Z"
   },
   {
    "duration": 5934,
    "start_time": "2024-06-07T04:43:50.700Z"
   },
   {
    "duration": 249,
    "start_time": "2024-06-07T04:43:56.636Z"
   },
   {
    "duration": 18,
    "start_time": "2024-06-07T04:43:56.886Z"
   },
   {
    "duration": 18,
    "start_time": "2024-06-07T04:43:56.906Z"
   },
   {
    "duration": 8,
    "start_time": "2024-06-07T04:43:56.926Z"
   },
   {
    "duration": 13,
    "start_time": "2024-06-07T04:43:56.935Z"
   },
   {
    "duration": 7,
    "start_time": "2024-06-07T04:43:56.949Z"
   },
   {
    "duration": 12,
    "start_time": "2024-06-07T04:43:56.957Z"
   },
   {
    "duration": 17,
    "start_time": "2024-06-07T04:43:56.970Z"
   },
   {
    "duration": 24,
    "start_time": "2024-06-07T04:43:56.988Z"
   },
   {
    "duration": 17,
    "start_time": "2024-06-07T04:43:57.013Z"
   },
   {
    "duration": 39,
    "start_time": "2024-06-07T04:43:57.031Z"
   },
   {
    "duration": 19,
    "start_time": "2024-06-07T04:43:57.071Z"
   },
   {
    "duration": 11,
    "start_time": "2024-06-07T04:43:57.093Z"
   },
   {
    "duration": 27,
    "start_time": "2024-06-07T04:43:57.105Z"
   },
   {
    "duration": 10,
    "start_time": "2024-06-07T04:43:57.133Z"
   },
   {
    "duration": 10,
    "start_time": "2024-06-07T04:43:57.144Z"
   },
   {
    "duration": 19,
    "start_time": "2024-06-07T04:43:57.155Z"
   },
   {
    "duration": 6,
    "start_time": "2024-06-07T04:43:57.175Z"
   },
   {
    "duration": 8,
    "start_time": "2024-06-07T04:43:57.182Z"
   },
   {
    "duration": 325,
    "start_time": "2024-06-07T04:43:57.191Z"
   },
   {
    "duration": 73,
    "start_time": "2024-06-07T04:43:57.517Z"
   },
   {
    "duration": 58,
    "start_time": "2024-06-07T04:43:57.591Z"
   },
   {
    "duration": 4,
    "start_time": "2024-06-07T04:43:57.650Z"
   },
   {
    "duration": 2243,
    "start_time": "2024-06-07T04:43:57.655Z"
   },
   {
    "duration": 2819,
    "start_time": "2024-06-07T04:43:59.901Z"
   },
   {
    "duration": 2999,
    "start_time": "2024-06-07T04:44:02.722Z"
   },
   {
    "duration": 208,
    "start_time": "2024-06-07T04:44:05.723Z"
   },
   {
    "duration": 829,
    "start_time": "2024-06-07T04:44:05.933Z"
   },
   {
    "duration": 8,
    "start_time": "2024-06-07T04:44:06.764Z"
   },
   {
    "duration": 21,
    "start_time": "2024-06-07T04:44:06.773Z"
   },
   {
    "duration": 22,
    "start_time": "2024-06-07T04:44:06.795Z"
   },
   {
    "duration": 11,
    "start_time": "2024-06-07T04:44:06.819Z"
   },
   {
    "duration": 45,
    "start_time": "2024-06-07T04:44:06.831Z"
   },
   {
    "duration": 11,
    "start_time": "2024-06-07T04:44:06.877Z"
   },
   {
    "duration": 32,
    "start_time": "2024-06-07T04:44:06.890Z"
   },
   {
    "duration": 1175,
    "start_time": "2024-06-07T04:44:06.923Z"
   },
   {
    "duration": 10,
    "start_time": "2024-06-07T04:44:08.101Z"
   },
   {
    "duration": 7007,
    "start_time": "2024-06-07T04:44:08.112Z"
   },
   {
    "duration": 4,
    "start_time": "2024-06-07T04:44:15.121Z"
   },
   {
    "duration": 307275,
    "start_time": "2024-06-07T04:44:15.129Z"
   },
   {
    "duration": 17,
    "start_time": "2024-06-07T04:49:22.405Z"
   },
   {
    "duration": 121,
    "start_time": "2024-06-07T04:49:22.424Z"
   },
   {
    "duration": 495,
    "start_time": "2024-06-07T04:49:22.546Z"
   },
   {
    "duration": 2,
    "start_time": "2024-06-07T04:49:23.042Z"
   },
   {
    "duration": 58,
    "start_time": "2024-06-07T04:49:23.046Z"
   },
   {
    "duration": 18,
    "start_time": "2024-06-07T04:49:23.106Z"
   },
   {
    "duration": 38,
    "start_time": "2024-06-07T04:49:23.125Z"
   },
   {
    "duration": 1162,
    "start_time": "2024-06-07T04:49:23.164Z"
   },
   {
    "duration": 6,
    "start_time": "2024-06-07T04:49:24.327Z"
   },
   {
    "duration": 187,
    "start_time": "2024-06-07T04:49:24.334Z"
   },
   {
    "duration": 121,
    "start_time": "2024-06-07T04:49:24.523Z"
   },
   {
    "duration": 1937,
    "start_time": "2024-06-07T06:14:46.936Z"
   },
   {
    "duration": 5,
    "start_time": "2024-06-07T06:15:08.228Z"
   },
   {
    "duration": 4,
    "start_time": "2024-06-07T06:15:40.297Z"
   },
   {
    "duration": 5,
    "start_time": "2024-06-07T06:15:55.456Z"
   },
   {
    "duration": 4,
    "start_time": "2024-06-07T06:22:54.174Z"
   },
   {
    "duration": 4,
    "start_time": "2024-06-07T06:23:05.830Z"
   },
   {
    "duration": 160,
    "start_time": "2024-06-07T06:23:57.946Z"
   },
   {
    "duration": 6,
    "start_time": "2024-06-07T06:24:09.448Z"
   },
   {
    "duration": 5,
    "start_time": "2024-06-07T06:24:14.717Z"
   },
   {
    "duration": 18,
    "start_time": "2024-06-07T06:27:15.340Z"
   },
   {
    "duration": 156,
    "start_time": "2024-06-07T06:27:50.727Z"
   },
   {
    "duration": 105,
    "start_time": "2024-06-07T06:27:53.534Z"
   },
   {
    "duration": 18,
    "start_time": "2024-06-07T06:28:01.624Z"
   },
   {
    "duration": 20,
    "start_time": "2024-06-07T06:28:18.050Z"
   },
   {
    "duration": 6,
    "start_time": "2024-06-07T06:28:25.685Z"
   },
   {
    "duration": 15,
    "start_time": "2024-06-07T06:29:03.628Z"
   },
   {
    "duration": 5,
    "start_time": "2024-06-07T06:29:31.778Z"
   },
   {
    "duration": 6136,
    "start_time": "2024-06-09T00:52:01.482Z"
   },
   {
    "duration": 262,
    "start_time": "2024-06-09T00:55:54.895Z"
   },
   {
    "duration": 13,
    "start_time": "2024-06-09T00:55:58.056Z"
   },
   {
    "duration": 11,
    "start_time": "2024-06-09T00:56:59.784Z"
   },
   {
    "duration": 9,
    "start_time": "2024-06-09T01:15:15.797Z"
   },
   {
    "duration": 9,
    "start_time": "2024-06-09T01:15:19.005Z"
   },
   {
    "duration": 7,
    "start_time": "2024-06-09T01:15:22.139Z"
   },
   {
    "duration": 9,
    "start_time": "2024-06-09T01:15:25.065Z"
   },
   {
    "duration": 7,
    "start_time": "2024-06-09T01:15:27.945Z"
   },
   {
    "duration": 8,
    "start_time": "2024-06-09T01:15:30.421Z"
   },
   {
    "duration": 5,
    "start_time": "2024-06-09T01:18:34.072Z"
   },
   {
    "duration": 4,
    "start_time": "2024-06-09T01:20:12.040Z"
   },
   {
    "duration": 4,
    "start_time": "2024-06-09T01:20:12.899Z"
   },
   {
    "duration": 4,
    "start_time": "2024-06-09T01:20:13.502Z"
   },
   {
    "duration": 11,
    "start_time": "2024-06-09T01:20:16.415Z"
   },
   {
    "duration": 6,
    "start_time": "2024-06-09T01:20:52.742Z"
   },
   {
    "duration": 5,
    "start_time": "2024-06-09T01:21:01.930Z"
   },
   {
    "duration": 4,
    "start_time": "2024-06-09T01:21:05.846Z"
   },
   {
    "duration": 4,
    "start_time": "2024-06-09T01:21:10.508Z"
   },
   {
    "duration": 5,
    "start_time": "2024-06-09T01:21:16.285Z"
   },
   {
    "duration": 308,
    "start_time": "2024-06-09T01:31:11.732Z"
   },
   {
    "duration": 76,
    "start_time": "2024-06-09T01:33:40.689Z"
   },
   {
    "duration": 66,
    "start_time": "2024-06-09T01:40:35.688Z"
   },
   {
    "duration": 187,
    "start_time": "2024-06-09T01:52:37.407Z"
   },
   {
    "duration": 282,
    "start_time": "2024-06-09T01:52:50.385Z"
   },
   {
    "duration": 176,
    "start_time": "2024-06-09T01:53:01.311Z"
   },
   {
    "duration": 893,
    "start_time": "2024-06-09T01:53:27.956Z"
   },
   {
    "duration": 136,
    "start_time": "2024-06-09T01:53:53.888Z"
   },
   {
    "duration": 119,
    "start_time": "2024-06-09T01:54:57.020Z"
   },
   {
    "duration": 357,
    "start_time": "2024-06-09T01:55:20.432Z"
   },
   {
    "duration": 195,
    "start_time": "2024-06-09T01:55:39.074Z"
   },
   {
    "duration": 167,
    "start_time": "2024-06-09T01:55:46.308Z"
   },
   {
    "duration": 163,
    "start_time": "2024-06-09T01:55:54.126Z"
   },
   {
    "duration": 102,
    "start_time": "2024-06-09T01:56:07.022Z"
   },
   {
    "duration": 148,
    "start_time": "2024-06-09T01:56:16.645Z"
   },
   {
    "duration": 147,
    "start_time": "2024-06-09T01:56:22.825Z"
   },
   {
    "duration": 151,
    "start_time": "2024-06-09T01:56:44.312Z"
   },
   {
    "duration": 153,
    "start_time": "2024-06-09T01:57:18.568Z"
   },
   {
    "duration": 73,
    "start_time": "2024-06-09T01:57:59.253Z"
   },
   {
    "duration": 57,
    "start_time": "2024-06-09T01:58:09.548Z"
   },
   {
    "duration": 3,
    "start_time": "2024-06-09T01:58:17.007Z"
   },
   {
    "duration": 2285,
    "start_time": "2024-06-09T01:58:18.660Z"
   },
   {
    "duration": 279,
    "start_time": "2024-06-09T02:17:23.007Z"
   },
   {
    "duration": 265,
    "start_time": "2024-06-09T02:17:37.953Z"
   },
   {
    "duration": 950,
    "start_time": "2024-06-09T02:17:44.481Z"
   },
   {
    "duration": 410,
    "start_time": "2024-06-09T02:18:10.889Z"
   },
   {
    "duration": 961,
    "start_time": "2024-06-09T02:19:28.051Z"
   },
   {
    "duration": 901,
    "start_time": "2024-06-09T02:19:47.851Z"
   },
   {
    "duration": 993,
    "start_time": "2024-06-09T02:19:53.225Z"
   },
   {
    "duration": 15,
    "start_time": "2024-06-09T02:21:02.108Z"
   },
   {
    "duration": 12,
    "start_time": "2024-06-09T02:22:03.282Z"
   },
   {
    "duration": 17,
    "start_time": "2024-06-09T02:22:09.593Z"
   },
   {
    "duration": 11,
    "start_time": "2024-06-09T02:22:43.891Z"
   },
   {
    "duration": 11,
    "start_time": "2024-06-09T02:23:20.612Z"
   },
   {
    "duration": 71642,
    "start_time": "2024-06-09T02:23:26.586Z"
   },
   {
    "duration": 930,
    "start_time": "2024-06-09T02:31:15.627Z"
   },
   {
    "duration": 2364,
    "start_time": "2024-06-09T02:32:08.123Z"
   },
   {
    "duration": 94,
    "start_time": "2024-06-09T02:32:27.577Z"
   },
   {
    "duration": 4,
    "start_time": "2024-06-09T02:32:34.149Z"
   },
   {
    "duration": 607,
    "start_time": "2024-06-09T02:32:37.255Z"
   },
   {
    "duration": 635,
    "start_time": "2024-06-09T02:33:13.446Z"
   },
   {
    "duration": 848,
    "start_time": "2024-06-09T02:35:07.361Z"
   },
   {
    "duration": 695,
    "start_time": "2024-06-09T02:35:17.616Z"
   },
   {
    "duration": 692,
    "start_time": "2024-06-09T02:35:36.450Z"
   },
   {
    "duration": 203,
    "start_time": "2024-06-09T02:40:53.531Z"
   },
   {
    "duration": 312,
    "start_time": "2024-06-09T02:40:59.806Z"
   },
   {
    "duration": 203,
    "start_time": "2024-06-09T02:41:18.891Z"
   },
   {
    "duration": 196,
    "start_time": "2024-06-09T02:41:46.742Z"
   },
   {
    "duration": 9,
    "start_time": "2024-06-09T02:41:55.276Z"
   },
   {
    "duration": 3,
    "start_time": "2024-06-09T02:41:59.920Z"
   },
   {
    "duration": 11,
    "start_time": "2024-06-09T02:42:01.378Z"
   },
   {
    "duration": 10,
    "start_time": "2024-06-09T02:42:36.456Z"
   },
   {
    "duration": 33,
    "start_time": "2024-06-09T02:42:38.025Z"
   },
   {
    "duration": 8,
    "start_time": "2024-06-09T02:42:40.959Z"
   },
   {
    "duration": 21,
    "start_time": "2024-06-09T02:42:44.521Z"
   },
   {
    "duration": 11,
    "start_time": "2024-06-09T03:13:11.857Z"
   },
   {
    "duration": 7302,
    "start_time": "2024-06-11T03:13:59.991Z"
   },
   {
    "duration": 289,
    "start_time": "2024-06-11T03:14:07.295Z"
   },
   {
    "duration": 19,
    "start_time": "2024-06-11T03:14:07.586Z"
   },
   {
    "duration": 13,
    "start_time": "2024-06-11T03:14:07.607Z"
   },
   {
    "duration": 28,
    "start_time": "2024-06-11T03:14:07.621Z"
   },
   {
    "duration": 53,
    "start_time": "2024-06-11T03:14:07.651Z"
   },
   {
    "duration": 12,
    "start_time": "2024-06-11T03:14:07.705Z"
   },
   {
    "duration": 76,
    "start_time": "2024-06-11T03:14:07.718Z"
   },
   {
    "duration": 11,
    "start_time": "2024-06-11T03:14:07.796Z"
   },
   {
    "duration": 69,
    "start_time": "2024-06-11T03:14:07.809Z"
   },
   {
    "duration": 24,
    "start_time": "2024-06-11T03:14:07.880Z"
   },
   {
    "duration": 16,
    "start_time": "2024-06-11T03:14:07.905Z"
   },
   {
    "duration": 46,
    "start_time": "2024-06-11T03:14:07.923Z"
   },
   {
    "duration": 34,
    "start_time": "2024-06-11T03:14:07.970Z"
   },
   {
    "duration": 64,
    "start_time": "2024-06-11T03:14:08.006Z"
   },
   {
    "duration": 7,
    "start_time": "2024-06-11T03:14:08.072Z"
   },
   {
    "duration": 19,
    "start_time": "2024-06-11T03:14:08.080Z"
   },
   {
    "duration": 66,
    "start_time": "2024-06-11T03:14:08.101Z"
   },
   {
    "duration": 27,
    "start_time": "2024-06-11T03:14:08.169Z"
   },
   {
    "duration": 65,
    "start_time": "2024-06-11T03:14:08.198Z"
   },
   {
    "duration": 530,
    "start_time": "2024-06-11T03:14:08.266Z"
   },
   {
    "duration": 487,
    "start_time": "2024-06-11T03:14:08.798Z"
   },
   {
    "duration": 139,
    "start_time": "2024-06-11T03:14:09.286Z"
   },
   {
    "duration": 95,
    "start_time": "2024-06-11T03:14:09.427Z"
   },
   {
    "duration": 4,
    "start_time": "2024-06-11T03:14:09.524Z"
   },
   {
    "duration": 978,
    "start_time": "2024-06-11T03:14:09.530Z"
   },
   {
    "duration": 1678,
    "start_time": "2024-06-11T03:14:10.510Z"
   },
   {
    "duration": 619,
    "start_time": "2024-06-11T03:14:12.192Z"
   },
   {
    "duration": 318,
    "start_time": "2024-06-11T03:14:12.814Z"
   },
   {
    "duration": 294,
    "start_time": "2024-06-11T03:14:13.134Z"
   },
   {
    "duration": 464,
    "start_time": "2024-06-11T03:14:13.430Z"
   },
   {
    "duration": 14,
    "start_time": "2024-06-11T03:14:13.896Z"
   },
   {
    "duration": 14,
    "start_time": "2024-06-11T03:14:13.911Z"
   },
   {
    "duration": 33,
    "start_time": "2024-06-11T03:14:13.927Z"
   },
   {
    "duration": 20,
    "start_time": "2024-06-11T03:14:13.962Z"
   },
   {
    "duration": 43,
    "start_time": "2024-06-11T03:14:13.984Z"
   },
   {
    "duration": 11,
    "start_time": "2024-06-11T03:14:14.029Z"
   },
   {
    "duration": 57,
    "start_time": "2024-06-11T03:14:14.042Z"
   },
   {
    "duration": 2018,
    "start_time": "2024-06-11T03:14:14.100Z"
   },
   {
    "duration": 157,
    "start_time": "2024-06-11T03:14:27.843Z"
   },
   {
    "duration": 2699,
    "start_time": "2024-06-11T03:15:08.038Z"
   },
   {
    "duration": 32,
    "start_time": "2024-06-11T03:15:17.426Z"
   },
   {
    "duration": 15,
    "start_time": "2024-06-11T03:15:48.692Z"
   },
   {
    "duration": 572,
    "start_time": "2024-06-11T03:16:28.857Z"
   },
   {
    "duration": 86,
    "start_time": "2024-06-11T03:19:02.159Z"
   },
   {
    "duration": 9809,
    "start_time": "2024-06-11T03:19:11.847Z"
   },
   {
    "duration": 568,
    "start_time": "2024-06-11T03:19:42.119Z"
   },
   {
    "duration": 6214,
    "start_time": "2024-06-11T03:21:30.178Z"
   },
   {
    "duration": 590,
    "start_time": "2024-06-11T03:22:15.402Z"
   },
   {
    "duration": 15,
    "start_time": "2024-06-11T03:33:40.610Z"
   },
   {
    "duration": 17,
    "start_time": "2024-06-11T03:33:48.110Z"
   },
   {
    "duration": 10739,
    "start_time": "2024-06-11T03:33:57.212Z"
   },
   {
    "duration": 9273,
    "start_time": "2024-06-11T03:38:55.999Z"
   },
   {
    "duration": 10954,
    "start_time": "2024-06-11T03:39:27.019Z"
   },
   {
    "duration": 26,
    "start_time": "2024-06-11T03:40:00.669Z"
   },
   {
    "duration": 14820,
    "start_time": "2024-06-11T06:58:18.553Z"
   },
   {
    "duration": 86,
    "start_time": "2024-06-11T06:58:33.375Z"
   },
   {
    "duration": 14,
    "start_time": "2024-06-11T06:58:33.462Z"
   },
   {
    "duration": 36,
    "start_time": "2024-06-11T06:58:33.477Z"
   },
   {
    "duration": 20,
    "start_time": "2024-06-11T06:58:33.515Z"
   },
   {
    "duration": 54,
    "start_time": "2024-06-11T06:58:33.536Z"
   },
   {
    "duration": 36,
    "start_time": "2024-06-11T06:58:33.592Z"
   },
   {
    "duration": 13,
    "start_time": "2024-06-11T06:58:33.629Z"
   },
   {
    "duration": 15,
    "start_time": "2024-06-11T06:58:33.644Z"
   },
   {
    "duration": 25,
    "start_time": "2024-06-11T06:58:33.660Z"
   },
   {
    "duration": 6,
    "start_time": "2024-06-11T06:58:33.687Z"
   },
   {
    "duration": 12,
    "start_time": "2024-06-11T06:58:33.694Z"
   },
   {
    "duration": 7,
    "start_time": "2024-06-11T06:58:33.707Z"
   },
   {
    "duration": 13,
    "start_time": "2024-06-11T06:58:33.717Z"
   },
   {
    "duration": 14,
    "start_time": "2024-06-11T06:58:33.732Z"
   },
   {
    "duration": 4,
    "start_time": "2024-06-11T06:58:33.748Z"
   },
   {
    "duration": 5,
    "start_time": "2024-06-11T06:58:33.754Z"
   },
   {
    "duration": 6,
    "start_time": "2024-06-11T06:58:33.760Z"
   },
   {
    "duration": 8,
    "start_time": "2024-06-11T06:58:33.768Z"
   },
   {
    "duration": 27,
    "start_time": "2024-06-11T06:58:33.777Z"
   },
   {
    "duration": 235,
    "start_time": "2024-06-11T06:58:33.806Z"
   },
   {
    "duration": 202,
    "start_time": "2024-06-11T06:58:34.043Z"
   },
   {
    "duration": 87,
    "start_time": "2024-06-11T06:58:34.247Z"
   },
   {
    "duration": 58,
    "start_time": "2024-06-11T06:58:34.335Z"
   },
   {
    "duration": 3,
    "start_time": "2024-06-11T06:58:34.395Z"
   },
   {
    "duration": 813,
    "start_time": "2024-06-11T06:58:34.410Z"
   },
   {
    "duration": 785,
    "start_time": "2024-06-11T06:58:35.226Z"
   },
   {
    "duration": 256,
    "start_time": "2024-06-11T06:58:36.012Z"
   },
   {
    "duration": 270,
    "start_time": "2024-06-11T06:58:36.270Z"
   },
   {
    "duration": 238,
    "start_time": "2024-06-11T06:58:36.542Z"
   },
   {
    "duration": 344,
    "start_time": "2024-06-11T06:58:36.781Z"
   },
   {
    "duration": 9,
    "start_time": "2024-06-11T06:58:37.127Z"
   },
   {
    "duration": 11,
    "start_time": "2024-06-11T06:58:37.137Z"
   },
   {
    "duration": 22,
    "start_time": "2024-06-11T06:58:37.149Z"
   },
   {
    "duration": 24,
    "start_time": "2024-06-11T06:58:37.173Z"
   },
   {
    "duration": 44,
    "start_time": "2024-06-11T06:58:37.198Z"
   },
   {
    "duration": 8,
    "start_time": "2024-06-11T06:58:37.243Z"
   },
   {
    "duration": 40,
    "start_time": "2024-06-11T06:58:37.252Z"
   },
   {
    "duration": 1328,
    "start_time": "2024-06-11T06:58:37.293Z"
   },
   {
    "duration": 148,
    "start_time": "2024-06-11T06:58:38.624Z"
   },
   {
    "duration": 0,
    "start_time": "2024-06-11T06:58:38.774Z"
   },
   {
    "duration": 0,
    "start_time": "2024-06-11T06:58:38.775Z"
   },
   {
    "duration": 0,
    "start_time": "2024-06-11T06:58:38.776Z"
   },
   {
    "duration": 0,
    "start_time": "2024-06-11T06:58:38.776Z"
   },
   {
    "duration": 0,
    "start_time": "2024-06-11T06:58:38.777Z"
   },
   {
    "duration": 0,
    "start_time": "2024-06-11T06:58:38.778Z"
   },
   {
    "duration": 0,
    "start_time": "2024-06-11T06:58:38.778Z"
   },
   {
    "duration": 0,
    "start_time": "2024-06-11T06:58:38.779Z"
   },
   {
    "duration": 0,
    "start_time": "2024-06-11T06:58:38.780Z"
   },
   {
    "duration": 0,
    "start_time": "2024-06-11T06:58:38.780Z"
   },
   {
    "duration": 0,
    "start_time": "2024-06-11T06:58:38.781Z"
   },
   {
    "duration": 0,
    "start_time": "2024-06-11T06:58:38.782Z"
   },
   {
    "duration": 0,
    "start_time": "2024-06-11T06:58:38.782Z"
   },
   {
    "duration": 0,
    "start_time": "2024-06-11T06:58:38.783Z"
   },
   {
    "duration": 0,
    "start_time": "2024-06-11T06:58:38.784Z"
   },
   {
    "duration": 13,
    "start_time": "2024-06-11T06:59:47.894Z"
   },
   {
    "duration": 16,
    "start_time": "2024-06-11T06:59:52.510Z"
   },
   {
    "duration": 8,
    "start_time": "2024-06-11T07:00:11.864Z"
   },
   {
    "duration": 7,
    "start_time": "2024-06-11T07:01:08.021Z"
   },
   {
    "duration": 9,
    "start_time": "2024-06-11T07:01:15.416Z"
   },
   {
    "duration": 11,
    "start_time": "2024-06-11T07:01:49.125Z"
   },
   {
    "duration": 317182,
    "start_time": "2024-06-11T07:01:59.795Z"
   },
   {
    "duration": 20,
    "start_time": "2024-06-11T07:09:44.742Z"
   },
   {
    "duration": 14,
    "start_time": "2024-06-11T07:11:25.996Z"
   },
   {
    "duration": 0,
    "start_time": "2024-06-11T07:11:26.012Z"
   },
   {
    "duration": 0,
    "start_time": "2024-06-11T07:11:26.013Z"
   },
   {
    "duration": 0,
    "start_time": "2024-06-11T07:11:26.014Z"
   },
   {
    "duration": 20,
    "start_time": "2024-06-11T07:11:26.015Z"
   },
   {
    "duration": 0,
    "start_time": "2024-06-11T07:11:26.037Z"
   },
   {
    "duration": 0,
    "start_time": "2024-06-11T07:11:26.038Z"
   },
   {
    "duration": 0,
    "start_time": "2024-06-11T07:11:26.038Z"
   },
   {
    "duration": 0,
    "start_time": "2024-06-11T07:11:26.040Z"
   },
   {
    "duration": 0,
    "start_time": "2024-06-11T07:11:26.041Z"
   },
   {
    "duration": 0,
    "start_time": "2024-06-11T07:11:26.042Z"
   },
   {
    "duration": 0,
    "start_time": "2024-06-11T07:11:26.043Z"
   },
   {
    "duration": 15,
    "start_time": "2024-06-11T07:11:58.966Z"
   },
   {
    "duration": 15397,
    "start_time": "2024-06-11T07:39:38.963Z"
   },
   {
    "duration": 351,
    "start_time": "2024-06-11T07:39:54.362Z"
   },
   {
    "duration": 16,
    "start_time": "2024-06-11T07:39:54.714Z"
   },
   {
    "duration": 34,
    "start_time": "2024-06-11T07:39:54.732Z"
   },
   {
    "duration": 26,
    "start_time": "2024-06-11T07:39:54.767Z"
   },
   {
    "duration": 26,
    "start_time": "2024-06-11T07:39:54.794Z"
   },
   {
    "duration": 38,
    "start_time": "2024-06-11T07:39:54.821Z"
   },
   {
    "duration": 13,
    "start_time": "2024-06-11T07:39:54.860Z"
   },
   {
    "duration": 27,
    "start_time": "2024-06-11T07:39:54.874Z"
   },
   {
    "duration": 38,
    "start_time": "2024-06-11T07:39:54.904Z"
   },
   {
    "duration": 24,
    "start_time": "2024-06-11T07:39:54.943Z"
   },
   {
    "duration": 38,
    "start_time": "2024-06-11T07:39:54.969Z"
   },
   {
    "duration": 18,
    "start_time": "2024-06-11T07:39:55.009Z"
   },
   {
    "duration": 9,
    "start_time": "2024-06-11T07:39:55.028Z"
   },
   {
    "duration": 20,
    "start_time": "2024-06-11T07:39:55.038Z"
   },
   {
    "duration": 7,
    "start_time": "2024-06-11T07:39:55.060Z"
   },
   {
    "duration": 11,
    "start_time": "2024-06-11T07:39:55.069Z"
   },
   {
    "duration": 30,
    "start_time": "2024-06-11T07:39:55.082Z"
   },
   {
    "duration": 21,
    "start_time": "2024-06-11T07:39:55.115Z"
   },
   {
    "duration": 47,
    "start_time": "2024-06-11T07:39:55.137Z"
   },
   {
    "duration": 236,
    "start_time": "2024-06-11T07:39:55.186Z"
   },
   {
    "duration": 208,
    "start_time": "2024-06-11T07:39:55.423Z"
   },
   {
    "duration": 93,
    "start_time": "2024-06-11T07:39:55.633Z"
   },
   {
    "duration": 64,
    "start_time": "2024-06-11T07:39:55.728Z"
   },
   {
    "duration": 16,
    "start_time": "2024-06-11T07:39:55.793Z"
   },
   {
    "duration": 746,
    "start_time": "2024-06-11T07:39:55.811Z"
   },
   {
    "duration": 798,
    "start_time": "2024-06-11T07:39:56.558Z"
   },
   {
    "duration": 242,
    "start_time": "2024-06-11T07:39:57.359Z"
   },
   {
    "duration": 248,
    "start_time": "2024-06-11T07:39:57.603Z"
   },
   {
    "duration": 237,
    "start_time": "2024-06-11T07:39:57.852Z"
   },
   {
    "duration": 318,
    "start_time": "2024-06-11T07:39:58.091Z"
   },
   {
    "duration": 9,
    "start_time": "2024-06-11T07:39:58.410Z"
   },
   {
    "duration": 19,
    "start_time": "2024-06-11T07:39:58.421Z"
   },
   {
    "duration": 25,
    "start_time": "2024-06-11T07:39:58.442Z"
   },
   {
    "duration": 27,
    "start_time": "2024-06-11T07:39:58.468Z"
   },
   {
    "duration": 62,
    "start_time": "2024-06-11T07:39:58.497Z"
   },
   {
    "duration": 7,
    "start_time": "2024-06-11T07:39:58.560Z"
   },
   {
    "duration": 44,
    "start_time": "2024-06-11T07:39:58.568Z"
   },
   {
    "duration": 1260,
    "start_time": "2024-06-11T07:39:58.613Z"
   },
   {
    "duration": 14,
    "start_time": "2024-06-11T07:39:59.874Z"
   },
   {
    "duration": 284037,
    "start_time": "2024-06-11T07:39:59.889Z"
   },
   {
    "duration": 20,
    "start_time": "2024-06-11T07:44:43.927Z"
   },
   {
    "duration": 145,
    "start_time": "2024-06-11T07:44:43.949Z"
   },
   {
    "duration": 0,
    "start_time": "2024-06-11T07:44:44.096Z"
   },
   {
    "duration": 0,
    "start_time": "2024-06-11T07:44:44.097Z"
   },
   {
    "duration": 0,
    "start_time": "2024-06-11T07:44:44.098Z"
   },
   {
    "duration": 0,
    "start_time": "2024-06-11T07:44:44.099Z"
   },
   {
    "duration": 0,
    "start_time": "2024-06-11T07:44:44.100Z"
   },
   {
    "duration": 0,
    "start_time": "2024-06-11T07:44:44.108Z"
   },
   {
    "duration": 0,
    "start_time": "2024-06-11T07:44:44.109Z"
   },
   {
    "duration": 0,
    "start_time": "2024-06-11T07:44:44.110Z"
   },
   {
    "duration": 0,
    "start_time": "2024-06-11T07:44:44.111Z"
   },
   {
    "duration": 0,
    "start_time": "2024-06-11T07:44:44.112Z"
   },
   {
    "duration": 0,
    "start_time": "2024-06-11T07:44:44.113Z"
   },
   {
    "duration": 60,
    "start_time": "2024-06-11T08:05:48.648Z"
   },
   {
    "duration": 150,
    "start_time": "2024-06-11T08:06:43.463Z"
   },
   {
    "duration": 124,
    "start_time": "2024-06-11T08:07:20.725Z"
   },
   {
    "duration": 13,
    "start_time": "2024-06-11T08:07:33.028Z"
   },
   {
    "duration": 10,
    "start_time": "2024-06-11T08:09:38.176Z"
   },
   {
    "duration": 114,
    "start_time": "2024-06-11T08:11:55.040Z"
   },
   {
    "duration": 14,
    "start_time": "2024-06-11T08:11:57.556Z"
   },
   {
    "duration": 9825,
    "start_time": "2024-06-11T08:12:06.345Z"
   },
   {
    "duration": 79,
    "start_time": "2024-06-11T08:12:16.172Z"
   },
   {
    "duration": 14,
    "start_time": "2024-06-11T08:12:16.252Z"
   },
   {
    "duration": 15,
    "start_time": "2024-06-11T08:12:16.268Z"
   },
   {
    "duration": 8,
    "start_time": "2024-06-11T08:12:16.284Z"
   },
   {
    "duration": 8,
    "start_time": "2024-06-11T08:12:16.294Z"
   },
   {
    "duration": 17,
    "start_time": "2024-06-11T08:12:16.303Z"
   },
   {
    "duration": 14,
    "start_time": "2024-06-11T08:12:16.321Z"
   },
   {
    "duration": 8,
    "start_time": "2024-06-11T08:12:16.336Z"
   },
   {
    "duration": 13,
    "start_time": "2024-06-11T08:12:16.346Z"
   },
   {
    "duration": 12,
    "start_time": "2024-06-11T08:12:16.361Z"
   },
   {
    "duration": 7,
    "start_time": "2024-06-11T08:12:16.375Z"
   },
   {
    "duration": 10,
    "start_time": "2024-06-11T08:12:16.383Z"
   },
   {
    "duration": 15,
    "start_time": "2024-06-11T08:12:16.394Z"
   },
   {
    "duration": 10,
    "start_time": "2024-06-11T08:12:16.410Z"
   },
   {
    "duration": 5,
    "start_time": "2024-06-11T08:12:16.421Z"
   },
   {
    "duration": 14,
    "start_time": "2024-06-11T08:12:16.427Z"
   },
   {
    "duration": 4,
    "start_time": "2024-06-11T08:12:16.442Z"
   },
   {
    "duration": 10,
    "start_time": "2024-06-11T08:12:16.447Z"
   },
   {
    "duration": 7,
    "start_time": "2024-06-11T08:12:16.458Z"
   },
   {
    "duration": 205,
    "start_time": "2024-06-11T08:12:16.466Z"
   },
   {
    "duration": 184,
    "start_time": "2024-06-11T08:12:16.672Z"
   },
   {
    "duration": 84,
    "start_time": "2024-06-11T08:12:16.857Z"
   },
   {
    "duration": 69,
    "start_time": "2024-06-11T08:12:16.943Z"
   },
   {
    "duration": 3,
    "start_time": "2024-06-11T08:12:17.013Z"
   },
   {
    "duration": 747,
    "start_time": "2024-06-11T08:12:17.018Z"
   },
   {
    "duration": 753,
    "start_time": "2024-06-11T08:12:17.767Z"
   },
   {
    "duration": 227,
    "start_time": "2024-06-11T08:12:18.523Z"
   },
   {
    "duration": 254,
    "start_time": "2024-06-11T08:12:18.752Z"
   },
   {
    "duration": 235,
    "start_time": "2024-06-11T08:12:19.008Z"
   },
   {
    "duration": 324,
    "start_time": "2024-06-11T08:12:19.244Z"
   },
   {
    "duration": 9,
    "start_time": "2024-06-11T08:12:19.569Z"
   },
   {
    "duration": 5,
    "start_time": "2024-06-11T08:12:19.580Z"
   },
   {
    "duration": 41,
    "start_time": "2024-06-11T08:12:19.586Z"
   },
   {
    "duration": 14,
    "start_time": "2024-06-11T08:12:19.629Z"
   },
   {
    "duration": 44,
    "start_time": "2024-06-11T08:12:19.644Z"
   },
   {
    "duration": 8,
    "start_time": "2024-06-11T08:12:19.690Z"
   },
   {
    "duration": 24,
    "start_time": "2024-06-11T08:12:19.709Z"
   },
   {
    "duration": 1228,
    "start_time": "2024-06-11T08:12:19.734Z"
   },
   {
    "duration": 13,
    "start_time": "2024-06-11T08:12:20.964Z"
   },
   {
    "duration": 282586,
    "start_time": "2024-06-11T08:12:20.979Z"
   },
   {
    "duration": 20,
    "start_time": "2024-06-11T08:17:03.566Z"
   },
   {
    "duration": 151,
    "start_time": "2024-06-11T08:17:03.587Z"
   },
   {
    "duration": 141,
    "start_time": "2024-06-11T08:17:17.142Z"
   },
   {
    "duration": 14,
    "start_time": "2024-06-11T08:21:03.421Z"
   },
   {
    "duration": 129,
    "start_time": "2024-06-11T08:25:50.758Z"
   },
   {
    "duration": 12,
    "start_time": "2024-06-11T08:25:52.907Z"
   },
   {
    "duration": 528,
    "start_time": "2024-06-11T08:26:02.481Z"
   },
   {
    "duration": 145,
    "start_time": "2024-06-11T08:26:42.725Z"
   },
   {
    "duration": 10023,
    "start_time": "2024-06-11T08:27:39.678Z"
   },
   {
    "duration": 80,
    "start_time": "2024-06-11T08:27:49.703Z"
   },
   {
    "duration": 15,
    "start_time": "2024-06-11T08:27:49.784Z"
   },
   {
    "duration": 17,
    "start_time": "2024-06-11T08:27:49.800Z"
   },
   {
    "duration": 11,
    "start_time": "2024-06-11T08:27:49.818Z"
   },
   {
    "duration": 13,
    "start_time": "2024-06-11T08:27:49.831Z"
   },
   {
    "duration": 19,
    "start_time": "2024-06-11T08:27:49.845Z"
   },
   {
    "duration": 18,
    "start_time": "2024-06-11T08:27:49.866Z"
   },
   {
    "duration": 29,
    "start_time": "2024-06-11T08:27:49.886Z"
   },
   {
    "duration": 24,
    "start_time": "2024-06-11T08:27:49.919Z"
   },
   {
    "duration": 6,
    "start_time": "2024-06-11T08:27:49.945Z"
   },
   {
    "duration": 28,
    "start_time": "2024-06-11T08:27:49.953Z"
   },
   {
    "duration": 43,
    "start_time": "2024-06-11T08:27:49.983Z"
   },
   {
    "duration": 18,
    "start_time": "2024-06-11T08:27:50.028Z"
   },
   {
    "duration": 45,
    "start_time": "2024-06-11T08:27:50.047Z"
   },
   {
    "duration": 38,
    "start_time": "2024-06-11T08:27:50.093Z"
   },
   {
    "duration": 7,
    "start_time": "2024-06-11T08:27:50.133Z"
   },
   {
    "duration": 11,
    "start_time": "2024-06-11T08:27:50.142Z"
   },
   {
    "duration": 27,
    "start_time": "2024-06-11T08:27:50.155Z"
   },
   {
    "duration": 6,
    "start_time": "2024-06-11T08:27:50.184Z"
   },
   {
    "duration": 216,
    "start_time": "2024-06-11T08:27:50.191Z"
   },
   {
    "duration": 187,
    "start_time": "2024-06-11T08:27:50.408Z"
   },
   {
    "duration": 88,
    "start_time": "2024-06-11T08:27:50.596Z"
   },
   {
    "duration": 75,
    "start_time": "2024-06-11T08:27:50.686Z"
   },
   {
    "duration": 4,
    "start_time": "2024-06-11T08:27:50.762Z"
   },
   {
    "duration": 727,
    "start_time": "2024-06-11T08:27:50.767Z"
   },
   {
    "duration": 813,
    "start_time": "2024-06-11T08:27:51.496Z"
   },
   {
    "duration": 224,
    "start_time": "2024-06-11T08:27:52.312Z"
   },
   {
    "duration": 247,
    "start_time": "2024-06-11T08:27:52.537Z"
   },
   {
    "duration": 236,
    "start_time": "2024-06-11T08:27:52.785Z"
   },
   {
    "duration": 330,
    "start_time": "2024-06-11T08:27:53.022Z"
   },
   {
    "duration": 9,
    "start_time": "2024-06-11T08:27:53.353Z"
   },
   {
    "duration": 14,
    "start_time": "2024-06-11T08:27:53.363Z"
   },
   {
    "duration": 11,
    "start_time": "2024-06-11T08:27:53.379Z"
   },
   {
    "duration": 18,
    "start_time": "2024-06-11T08:27:53.391Z"
   },
   {
    "duration": 29,
    "start_time": "2024-06-11T08:27:53.410Z"
   },
   {
    "duration": 10,
    "start_time": "2024-06-11T08:27:53.441Z"
   },
   {
    "duration": 24,
    "start_time": "2024-06-11T08:27:53.453Z"
   },
   {
    "duration": 1296,
    "start_time": "2024-06-11T08:27:53.478Z"
   },
   {
    "duration": 14,
    "start_time": "2024-06-11T08:27:54.776Z"
   },
   {
    "duration": 284351,
    "start_time": "2024-06-11T08:27:54.791Z"
   },
   {
    "duration": 22,
    "start_time": "2024-06-11T08:32:39.143Z"
   },
   {
    "duration": 146,
    "start_time": "2024-06-11T08:32:39.166Z"
   },
   {
    "duration": 519,
    "start_time": "2024-06-11T08:32:39.313Z"
   },
   {
    "duration": 257,
    "start_time": "2024-06-11T08:32:39.834Z"
   },
   {
    "duration": 0,
    "start_time": "2024-06-11T08:32:40.093Z"
   },
   {
    "duration": 0,
    "start_time": "2024-06-11T08:32:40.094Z"
   },
   {
    "duration": 0,
    "start_time": "2024-06-11T08:32:40.095Z"
   },
   {
    "duration": 0,
    "start_time": "2024-06-11T08:32:40.096Z"
   },
   {
    "duration": 0,
    "start_time": "2024-06-11T08:32:40.109Z"
   },
   {
    "duration": 0,
    "start_time": "2024-06-11T08:32:40.110Z"
   },
   {
    "duration": 0,
    "start_time": "2024-06-11T08:32:40.110Z"
   },
   {
    "duration": 0,
    "start_time": "2024-06-11T08:32:40.111Z"
   },
   {
    "duration": 0,
    "start_time": "2024-06-11T08:32:40.112Z"
   },
   {
    "duration": 1039,
    "start_time": "2024-06-11T08:40:43.162Z"
   },
   {
    "duration": 139,
    "start_time": "2024-06-11T08:40:55.604Z"
   },
   {
    "duration": 66,
    "start_time": "2024-06-11T08:42:36.646Z"
   },
   {
    "duration": 124,
    "start_time": "2024-06-11T08:43:07.841Z"
   },
   {
    "duration": 0,
    "start_time": "2024-06-11T08:43:07.967Z"
   },
   {
    "duration": 0,
    "start_time": "2024-06-11T08:43:07.969Z"
   },
   {
    "duration": 0,
    "start_time": "2024-06-11T08:43:07.970Z"
   },
   {
    "duration": 0,
    "start_time": "2024-06-11T08:43:07.971Z"
   },
   {
    "duration": 0,
    "start_time": "2024-06-11T08:43:07.972Z"
   },
   {
    "duration": 0,
    "start_time": "2024-06-11T08:43:07.973Z"
   },
   {
    "duration": 0,
    "start_time": "2024-06-11T08:43:07.975Z"
   },
   {
    "duration": 0,
    "start_time": "2024-06-11T08:43:07.976Z"
   },
   {
    "duration": 0,
    "start_time": "2024-06-11T08:43:07.977Z"
   },
   {
    "duration": 14809,
    "start_time": "2024-06-12T01:35:54.348Z"
   },
   {
    "duration": 267,
    "start_time": "2024-06-12T01:36:09.159Z"
   },
   {
    "duration": 19,
    "start_time": "2024-06-12T01:36:09.428Z"
   },
   {
    "duration": 14,
    "start_time": "2024-06-12T01:36:09.449Z"
   },
   {
    "duration": 11,
    "start_time": "2024-06-12T01:36:09.464Z"
   },
   {
    "duration": 27,
    "start_time": "2024-06-12T01:36:09.477Z"
   },
   {
    "duration": 10,
    "start_time": "2024-06-12T01:36:09.505Z"
   },
   {
    "duration": 13,
    "start_time": "2024-06-12T01:36:09.516Z"
   },
   {
    "duration": 6,
    "start_time": "2024-06-12T01:36:09.531Z"
   },
   {
    "duration": 8,
    "start_time": "2024-06-12T01:36:09.540Z"
   },
   {
    "duration": 5,
    "start_time": "2024-06-12T01:36:09.549Z"
   },
   {
    "duration": 8,
    "start_time": "2024-06-12T01:36:09.555Z"
   },
   {
    "duration": 6,
    "start_time": "2024-06-12T01:36:09.564Z"
   },
   {
    "duration": 16,
    "start_time": "2024-06-12T01:36:09.571Z"
   },
   {
    "duration": 20,
    "start_time": "2024-06-12T01:36:09.588Z"
   },
   {
    "duration": 4,
    "start_time": "2024-06-12T01:36:09.609Z"
   },
   {
    "duration": 11,
    "start_time": "2024-06-12T01:36:09.615Z"
   },
   {
    "duration": 28,
    "start_time": "2024-06-12T01:36:09.627Z"
   },
   {
    "duration": 21,
    "start_time": "2024-06-12T01:36:09.656Z"
   },
   {
    "duration": 19,
    "start_time": "2024-06-12T01:36:09.678Z"
   },
   {
    "duration": 218,
    "start_time": "2024-06-12T01:36:09.699Z"
   },
   {
    "duration": 162,
    "start_time": "2024-06-12T01:36:09.918Z"
   },
   {
    "duration": 79,
    "start_time": "2024-06-12T01:36:10.082Z"
   },
   {
    "duration": 63,
    "start_time": "2024-06-12T01:36:10.162Z"
   },
   {
    "duration": 3,
    "start_time": "2024-06-12T01:36:10.226Z"
   },
   {
    "duration": 692,
    "start_time": "2024-06-12T01:36:10.231Z"
   },
   {
    "duration": 736,
    "start_time": "2024-06-12T01:36:10.924Z"
   },
   {
    "duration": 208,
    "start_time": "2024-06-12T01:36:11.662Z"
   },
   {
    "duration": 230,
    "start_time": "2024-06-12T01:36:11.872Z"
   },
   {
    "duration": 209,
    "start_time": "2024-06-12T01:36:12.104Z"
   },
   {
    "duration": 304,
    "start_time": "2024-06-12T01:36:12.314Z"
   },
   {
    "duration": 8,
    "start_time": "2024-06-12T01:36:12.619Z"
   },
   {
    "duration": 17,
    "start_time": "2024-06-12T01:36:12.628Z"
   },
   {
    "duration": 26,
    "start_time": "2024-06-12T01:36:12.647Z"
   },
   {
    "duration": 11,
    "start_time": "2024-06-12T01:36:12.675Z"
   },
   {
    "duration": 28,
    "start_time": "2024-06-12T01:36:12.687Z"
   },
   {
    "duration": 8,
    "start_time": "2024-06-12T01:36:12.716Z"
   },
   {
    "duration": 75,
    "start_time": "2024-06-12T01:36:12.725Z"
   },
   {
    "duration": 1183,
    "start_time": "2024-06-12T01:36:12.801Z"
   },
   {
    "duration": 18,
    "start_time": "2024-06-12T01:36:13.986Z"
   },
   {
    "duration": 10863,
    "start_time": "2024-06-26T09:11:52.784Z"
   },
   {
    "duration": 326,
    "start_time": "2024-06-26T09:12:03.649Z"
   },
   {
    "duration": 13,
    "start_time": "2024-06-26T09:12:03.977Z"
   },
   {
    "duration": 17,
    "start_time": "2024-06-26T09:12:03.992Z"
   },
   {
    "duration": 9,
    "start_time": "2024-06-26T09:12:04.010Z"
   },
   {
    "duration": 14,
    "start_time": "2024-06-26T09:12:04.020Z"
   },
   {
    "duration": 15,
    "start_time": "2024-06-26T09:12:04.035Z"
   },
   {
    "duration": 16,
    "start_time": "2024-06-26T09:12:04.051Z"
   },
   {
    "duration": 14,
    "start_time": "2024-06-26T09:12:04.068Z"
   },
   {
    "duration": 12,
    "start_time": "2024-06-26T09:12:04.084Z"
   },
   {
    "duration": 4,
    "start_time": "2024-06-26T09:12:04.098Z"
   },
   {
    "duration": 14,
    "start_time": "2024-06-26T09:12:04.103Z"
   },
   {
    "duration": 12,
    "start_time": "2024-06-26T09:12:04.118Z"
   },
   {
    "duration": 12,
    "start_time": "2024-06-26T09:12:04.131Z"
   },
   {
    "duration": 35,
    "start_time": "2024-06-26T09:12:04.144Z"
   },
   {
    "duration": 5,
    "start_time": "2024-06-26T09:12:04.181Z"
   },
   {
    "duration": 15,
    "start_time": "2024-06-26T09:12:04.187Z"
   },
   {
    "duration": 4,
    "start_time": "2024-06-26T09:12:04.203Z"
   },
   {
    "duration": 66,
    "start_time": "2024-06-26T09:12:04.208Z"
   },
   {
    "duration": 5,
    "start_time": "2024-06-26T09:12:04.275Z"
   },
   {
    "duration": 180,
    "start_time": "2024-06-26T09:12:04.281Z"
   },
   {
    "duration": 159,
    "start_time": "2024-06-26T09:12:04.462Z"
   },
   {
    "duration": 84,
    "start_time": "2024-06-26T09:12:04.623Z"
   },
   {
    "duration": 55,
    "start_time": "2024-06-26T09:12:04.708Z"
   },
   {
    "duration": 4,
    "start_time": "2024-06-26T09:12:04.764Z"
   },
   {
    "duration": 815,
    "start_time": "2024-06-26T09:12:04.789Z"
   },
   {
    "duration": 1096,
    "start_time": "2024-06-26T09:12:05.607Z"
   },
   {
    "duration": 274,
    "start_time": "2024-06-26T09:12:06.707Z"
   },
   {
    "duration": 223,
    "start_time": "2024-06-26T09:12:06.989Z"
   },
   {
    "duration": 212,
    "start_time": "2024-06-26T09:12:07.213Z"
   },
   {
    "duration": 292,
    "start_time": "2024-06-26T09:12:07.427Z"
   },
   {
    "duration": 8,
    "start_time": "2024-06-26T09:12:07.721Z"
   },
   {
    "duration": 28,
    "start_time": "2024-06-26T09:12:07.730Z"
   },
   {
    "duration": 14,
    "start_time": "2024-06-26T09:12:07.760Z"
   },
   {
    "duration": 18,
    "start_time": "2024-06-26T09:12:07.776Z"
   },
   {
    "duration": 28,
    "start_time": "2024-06-26T09:12:07.795Z"
   },
   {
    "duration": 8,
    "start_time": "2024-06-26T09:12:07.825Z"
   },
   {
    "duration": 31,
    "start_time": "2024-06-26T09:12:07.834Z"
   },
   {
    "duration": 1249,
    "start_time": "2024-06-26T09:12:07.889Z"
   },
   {
    "duration": 11,
    "start_time": "2024-06-26T09:12:09.139Z"
   },
   {
    "duration": 268259,
    "start_time": "2024-06-26T09:12:09.152Z"
   },
   {
    "duration": 19,
    "start_time": "2024-06-26T09:16:37.412Z"
   },
   {
    "duration": 141,
    "start_time": "2024-06-26T09:16:37.432Z"
   },
   {
    "duration": 538,
    "start_time": "2024-06-26T09:16:37.575Z"
   },
   {
    "duration": 49,
    "start_time": "2024-06-26T09:16:38.115Z"
   },
   {
    "duration": 34,
    "start_time": "2024-06-26T09:16:38.165Z"
   },
   {
    "duration": 24,
    "start_time": "2024-06-26T09:16:38.200Z"
   },
   {
    "duration": 820,
    "start_time": "2024-06-26T09:16:38.225Z"
   },
   {
    "duration": 5,
    "start_time": "2024-06-26T09:16:39.047Z"
   },
   {
    "duration": 192,
    "start_time": "2024-06-26T09:16:39.054Z"
   },
   {
    "duration": 4,
    "start_time": "2024-06-26T09:16:39.247Z"
   },
   {
    "duration": 9,
    "start_time": "2024-06-26T09:16:39.252Z"
   },
   {
    "duration": 38,
    "start_time": "2024-06-26T09:16:39.262Z"
   }
  ],
  "colab": {
   "provenance": []
  },
  "kernelspec": {
   "display_name": "Python 3 (ipykernel)",
   "language": "python",
   "name": "python3"
  },
  "language_info": {
   "codemirror_mode": {
    "name": "ipython",
    "version": 3
   },
   "file_extension": ".py",
   "mimetype": "text/x-python",
   "name": "python",
   "nbconvert_exporter": "python",
   "pygments_lexer": "ipython3",
   "version": "3.9.19"
  },
  "toc": {
   "base_numbering": 1,
   "nav_menu": {},
   "number_sections": true,
   "sideBar": true,
   "skip_h1_title": true,
   "title_cell": "Table of Contents",
   "title_sidebar": "Contents",
   "toc_cell": false,
   "toc_position": {
    "height": "calc(100% - 180px)",
    "left": "10px",
    "top": "150px",
    "width": "226.797px"
   },
   "toc_section_display": true,
   "toc_window_display": true
  }
 },
 "nbformat": 4,
 "nbformat_minor": 4
}
